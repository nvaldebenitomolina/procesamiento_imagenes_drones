{
 "cells": [
  {
   "cell_type": "markdown",
   "metadata": {},
   "source": [
    "El dataset utilizado consta de 27.000 imágenes RGB de 64×64 bits del Sentinel 2, clasificadas en 10 categorías de diferentes de usos o tipos de suelo. La tarea que queremos que aprenda la CNN que entrenemos es que consiga predecir el uso de un suelo a partir de la imagen de este. Puedes descargarlo en el siguiente enlace, en el apartado ‘Datasets for Machine Learning’, buscando el enlace a ’EuroSAT (RGB color space images)’:\n",
    "\n"
   ]
  },
  {
   "cell_type": "markdown",
   "metadata": {},
   "source": [
    "http://madm.dfki.de/downloads"
   ]
  },
  {
   "cell_type": "code",
   "execution_count": 61,
   "metadata": {},
   "outputs": [],
   "source": [
    "import os\n",
    "import numpy as np\n",
    "from PIL import Image\n",
    "from sklearn.model_selection import train_test_split\n",
    "from keras.utils import to_categorical\n",
    "from keras.models import Sequential\n",
    "from keras.layers import Dense, Conv2D, MaxPooling2D, Flatten\n",
    "import matplotlib.pyplot as plt\n",
    "import seaborn as sns"
   ]
  },
  {
   "cell_type": "code",
   "execution_count": 62,
   "metadata": {},
   "outputs": [],
   "source": [
    "path_dataset = '../output/input_model/'\n",
    "\n",
    "dic_class = {}\n",
    "datos_entrada =[]\n",
    "clases_salida=[]\n",
    "i=0\n",
    "\n",
    "for element in os.listdir(path_dataset):\n",
    "    if os.path.isdir(path_dataset+element):\n",
    "        for file in os.listdir(path_dataset+element):\n",
    "            im = Image.open(os.path.join(path_dataset, element, file))\n",
    "            im_array = np.array(im)\n",
    "            datos_entrada.append(im_array)\n",
    "            clases_salida.append(i)\n",
    "        dic_class[i] = element\n",
    "        i+=1"
   ]
  },
  {
   "cell_type": "markdown",
   "metadata": {},
   "source": [
    "La forma de representar las clases en Keras es mediante la codificación ‘one hot’: la clase de cada imagen se representa por un vector en el que cada posición se corresponde con una de las posibles clases que pueden darse, en el que todos sus elementos son cero excepto el que se corresponde con la clase a la que pertenece la imagen. Para crear la codificación one hot podemos usar la siguiente función:\n",
    "\n"
   ]
  },
  {
   "cell_type": "code",
   "execution_count": 63,
   "metadata": {},
   "outputs": [],
   "source": [
    "clases_salida_oh = to_categorical(clases_salida) #One hot encode"
   ]
  },
  {
   "cell_type": "markdown",
   "metadata": {},
   "source": [
    "Además es conveniente normalizar las imágenes de modo que el rango de entrada a la CNN se encuentren entre 0 y 1:"
   ]
  },
  {
   "cell_type": "code",
   "execution_count": 64,
   "metadata": {},
   "outputs": [],
   "source": [
    "datos_entrada = np.array(datos_entrada)/255\n"
   ]
  },
  {
   "cell_type": "markdown",
   "metadata": {},
   "source": [
    "Por otra nos aseguraremos de ordenar los datos de forma aleatoria con shuffle=True:"
   ]
  },
  {
   "cell_type": "code",
   "execution_count": 65,
   "metadata": {},
   "outputs": [],
   "source": [
    "X_train, X_test, y_train, y_test = train_test_split(datos_entrada, clases_salida_oh, test_size=0.33, shuffle=True)"
   ]
  },
  {
   "cell_type": "markdown",
   "metadata": {},
   "source": [
    "A continuación creamos nuestro clasificador mediante un modelo ‘Sequential’, este es el modo más sencillo para crear redes neuronales con Keras. Para definir el modelo se pasa una lista donde se indican secuencialmente las capas que formarán dicho modelo.\n",
    "\n",
    "En esta entrada no se explicará en detalle en qué consiste cada capa ni cómo procesan la información. No obstante cabe mencionar varios detalles:\n",
    "\n",
    "* En la primera capa se indica el tamaño de entrada (almacenado en la variable in_shape mediante el método shape en nuestro código).\n",
    "* Para cada capa de neuronas se define su tamaño. Para las capas convolucionales (Conv2D) se establece el número de filtros y el tamaño de la matriz que realiza cada convolución. Para las capas totalmente conectadas (Dense), se establece el número de neuronas de la capa.\n",
    "* Un elemento importante de las neuronas es la función de activación, en las CNN se suele utilizar la función ‘relu’.\n",
    "* La capa de salida debe tener tantas neuronas como clases, y su función de activación ser la función ‘softmax’. Esta función fuerza a que la suma de todas las neuronas de salida sea 1, gracias a ello se puede interpretar cada salida como la probabilidad de que la entrada pertenezca a la clase asociada a dicha salida."
   ]
  },
  {
   "cell_type": "code",
   "execution_count": 66,
   "metadata": {},
   "outputs": [],
   "source": [
    "in_shape = X_train[0,:,:,:].shape"
   ]
  },
  {
   "cell_type": "code",
   "execution_count": 67,
   "metadata": {},
   "outputs": [],
   "source": [
    "model = Sequential()\n",
    "model.add(Conv2D(16, kernel_size=3, activation='relu', input_shape=in_shape))\n",
    "model.add(MaxPooling2D(pool_size=(2,2)))\n",
    "model.add(Conv2D(32, kernel_size=3, activation='relu'))\n",
    "model.add(MaxPooling2D(pool_size=(2,2)))\n",
    "model.add(Conv2D(64, kernel_size=3, activation='relu'))\n",
    "model.add(Flatten())\n",
    "model.add(Dense(50))\n",
    "model.add(Dense(len(dic_class),activation='softmax'))"
   ]
  },
  {
   "cell_type": "markdown",
   "metadata": {},
   "source": [
    "Una vez creado el modelo, este se compila. Aquí se elige el algoritmo que se usará para entrenarlo (‘adam’); la función de pérdida, que para problemas de clasificación normalmente utilizada es entropía cruzada categórica (‘categorical_crossentropy’) y la métrica para evaluar su rendimiento, en nuestro caso la exactitud (‘accuracy’)."
   ]
  },
  {
   "cell_type": "code",
   "execution_count": 68,
   "metadata": {},
   "outputs": [],
   "source": [
    "model.compile(optimizer='adam',loss='categorical_crossentropy',metrics=['accuracy'])\n"
   ]
  },
  {
   "cell_type": "code",
   "execution_count": 78,
   "metadata": {},
   "outputs": [
    {
     "name": "stdout",
     "output_type": "stream",
     "text": [
      "Epoch 1/14\n",
      "566/566 [==============================] - 31s 54ms/step - loss: 0.2080 - accuracy: 0.9273 - val_loss: 0.7257 - val_accuracy: 0.8013\n",
      "Epoch 2/14\n",
      "566/566 [==============================] - 29s 52ms/step - loss: 0.1866 - accuracy: 0.9357 - val_loss: 0.7165 - val_accuracy: 0.8058\n",
      "Epoch 3/14\n",
      "566/566 [==============================] - 29s 51ms/step - loss: 0.1609 - accuracy: 0.9448 - val_loss: 0.8160 - val_accuracy: 0.7909\n",
      "Epoch 4/14\n",
      "566/566 [==============================] - 29s 52ms/step - loss: 0.1475 - accuracy: 0.9486 - val_loss: 0.8982 - val_accuracy: 0.7896\n",
      "Epoch 5/14\n",
      "566/566 [==============================] - 29s 51ms/step - loss: 0.1397 - accuracy: 0.9522 - val_loss: 0.9736 - val_accuracy: 0.7811\n",
      "Epoch 6/14\n",
      "566/566 [==============================] - 33s 58ms/step - loss: 0.1200 - accuracy: 0.9600 - val_loss: 0.9219 - val_accuracy: 0.7985\n",
      "Epoch 7/14\n",
      "566/566 [==============================] - 34s 60ms/step - loss: 0.1354 - accuracy: 0.9536 - val_loss: 0.8869 - val_accuracy: 0.8086\n",
      "Epoch 8/14\n",
      "566/566 [==============================] - 31s 55ms/step - loss: 0.1003 - accuracy: 0.9670 - val_loss: 0.9569 - val_accuracy: 0.7998\n",
      "Epoch 9/14\n",
      "566/566 [==============================] - 30s 54ms/step - loss: 0.0919 - accuracy: 0.9696 - val_loss: 1.3228 - val_accuracy: 0.7631\n",
      "Epoch 10/14\n",
      "566/566 [==============================] - 30s 53ms/step - loss: 0.1059 - accuracy: 0.9655 - val_loss: 1.0282 - val_accuracy: 0.8084\n",
      "Epoch 11/14\n",
      "566/566 [==============================] - 29s 51ms/step - loss: 0.0819 - accuracy: 0.9736 - val_loss: 1.1818 - val_accuracy: 0.7827\n",
      "Epoch 12/14\n",
      "566/566 [==============================] - 30s 52ms/step - loss: 0.0881 - accuracy: 0.9701 - val_loss: 1.1074 - val_accuracy: 0.8099\n",
      "Epoch 13/14\n",
      "566/566 [==============================] - 30s 53ms/step - loss: 0.0674 - accuracy: 0.9789 - val_loss: 1.1562 - val_accuracy: 0.8068\n",
      "Epoch 14/14\n",
      "566/566 [==============================] - 28s 49ms/step - loss: 0.0649 - accuracy: 0.9790 - val_loss: 1.1593 - val_accuracy: 0.7979\n"
     ]
    }
   ],
   "source": [
    "history=model.fit(X_train, y_train, validation_data=(X_test, y_test), epochs=14)"
   ]
  },
  {
   "cell_type": "code",
   "execution_count": 80,
   "metadata": {},
   "outputs": [
    {
     "data": {
      "image/png": "[encoded data removed]",
      "text/plain": [
       "<Figure size 432x288 with 1 Axes>"
      ]
     },
     "metadata": {
      "needs_background": "light"
     },
     "output_type": "display_data"
    }
   ],
   "source": [
    "plt.plot(history.history['accuracy'])\n",
    "plt.plot(history.history['val_accuracy'])\n",
    "plt.title('model accuracy')\n",
    "plt.ylabel('accuracy')\n",
    "plt.xlabel('epoch')\n",
    "plt.legend(['train', 'test'], loc='upper left')\n",
    "plt.show()"
   ]
  },
  {
   "cell_type": "code",
   "execution_count": 81,
   "metadata": {},
   "outputs": [
    {
     "data": {
      "image/png": "[encoded data removed]",
      "text/plain": [
       "<Figure size 432x288 with 1 Axes>"
      ]
     },
     "metadata": {
      "needs_background": "light"
     },
     "output_type": "display_data"
    }
   ],
   "source": [
    "\n",
    "# summarize history for loss\n",
    "plt.plot(history.history['loss'])\n",
    "plt.plot(history.history['val_loss'])\n",
    "plt.title('model loss')\n",
    "plt.ylabel('loss')\n",
    "plt.xlabel('epoch')\n",
    "plt.legend(['train', 'test'], loc='upper left')\n",
    "plt.show()"
   ]
  },
  {
   "cell_type": "code",
   "execution_count": 70,
   "metadata": {},
   "outputs": [],
   "source": [
    "prob_pred_test = model.predict(X_test)"
   ]
  },
  {
   "cell_type": "code",
   "execution_count": 71,
   "metadata": {},
   "outputs": [],
   "source": [
    "predicciones_test = [dic_class[np.argmax(prob)] for prob in prob_pred_test]\n",
    "clases_test = [dic_class[np.argmax(clas)] for clas in y_test]"
   ]
  },
  {
   "cell_type": "code",
   "execution_count": 72,
   "metadata": {},
   "outputs": [
    {
     "data": {
      "text/plain": [
       "['PermanentCrop',\n",
       " 'SeaLake',\n",
       " 'SeaLake',\n",
       " 'Forest',\n",
       " 'Pasture',\n",
       " 'Residential',\n",
       " 'AnnualCrop',\n",
       " 'Pasture',\n",
       " 'AnnualCrop',\n",
       " 'HerbaceousVegetation']"
      ]
     },
     "execution_count": 72,
     "metadata": {},
     "output_type": "execute_result"
    }
   ],
   "source": [
    "clases_test[:10] #clases verdaderas"
   ]
  },
  {
   "cell_type": "code",
   "execution_count": 73,
   "metadata": {},
   "outputs": [
    {
     "data": {
      "text/plain": [
       "['PermanentCrop',\n",
       " 'SeaLake',\n",
       " 'SeaLake',\n",
       " 'Forest',\n",
       " 'Pasture',\n",
       " 'Residential',\n",
       " 'AnnualCrop',\n",
       " 'Pasture',\n",
       " 'AnnualCrop',\n",
       " 'HerbaceousVegetation']"
      ]
     },
     "execution_count": 73,
     "metadata": {},
     "output_type": "execute_result"
    }
   ],
   "source": [
    "predicciones_test[:10] #predicciones"
   ]
  },
  {
   "cell_type": "code",
   "execution_count": 74,
   "metadata": {},
   "outputs": [
    {
     "data": {
      "image/png": "[encoded data removed]",
      "text/plain": [
       "<Figure size 1008x360 with 1 Axes>"
      ]
     },
     "metadata": {
      "needs_background": "light"
     },
     "output_type": "display_data"
    }
   ],
   "source": [
    "# Create dictionaries from lists with this format: 'letter':count\n",
    "dict1 = dict(zip(*np.unique(clases_test, return_counts=True)))\n",
    "dict2 = dict(zip(*np.unique(predicciones_test, return_counts=True)))\n",
    "\n",
    "# Add missing letters with count=0 to each dictionary so that keys in\n",
    "# each dictionary are identical\n",
    "only_in_set1 = set(dict1)-set(dict2)\n",
    "only_in_set2 = set(dict2)-set(dict1)\n",
    "dict1.update(dict(zip(only_in_set2, [0]*len(only_in_set2))))\n",
    "dict2.update(dict(zip(only_in_set1, [0]*len(only_in_set1))))\n",
    "\n",
    "# Sort dictionaries alphabetically\n",
    "dict1 = dict(sorted(dict1.items()))\n",
    "dict2 = dict(sorted(dict2.items()))\n",
    "\n",
    "# Create grouped bar chart\n",
    "xticks = np.arange(len(dict1))\n",
    "bar_width = 0.3\n",
    "fig, ax = plt.subplots(figsize=(14, 5))\n",
    "ax.bar(xticks-bar_width/2, dict1.values(), bar_width,\n",
    "       color='blue', alpha=0.5, label='clases muestrales')\n",
    "ax.bar(xticks+bar_width/2, dict2.values(), bar_width,\n",
    "       color='red', alpha=0.5, label='clases predichas')\n",
    "\n",
    "# Set annotations, x-axis ticks and tick labels\n",
    "ax.set_ylabel('Counts')\n",
    "ax.set_title('Letter counts grouped by list')\n",
    "ax.set_xticks(xticks)\n",
    "ax.set_xticklabels(dict1.keys())\n",
    "ax.legend(frameon=False)\n",
    "plt.show()"
   ]
  },
  {
   "cell_type": "code",
   "execution_count": null,
   "metadata": {},
   "outputs": [],
   "source": []
  },
  {
   "cell_type": "code",
   "execution_count": null,
   "metadata": {},
   "outputs": [],
   "source": []
  },
  {
   "cell_type": "code",
   "execution_count": null,
   "metadata": {},
   "outputs": [],
   "source": []
  }
 ],
 "metadata": {
  "kernelspec": {
   "display_name": "Python 3",
   "language": "python",
   "name": "python3"
  },
  "language_info": {
   "codemirror_mode": {
    "name": "ipython",
    "version": 3
   },
   "file_extension": ".py",
   "mimetype": "text/x-python",
   "name": "python",
   "nbconvert_exporter": "python",
   "pygments_lexer": "ipython3",
   "version": "3.7.3"
  }
 },
 "nbformat": 4,
 "nbformat_minor": 4
}
