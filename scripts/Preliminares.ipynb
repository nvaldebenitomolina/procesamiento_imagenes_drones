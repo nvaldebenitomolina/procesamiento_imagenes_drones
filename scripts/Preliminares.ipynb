{
 "cells": [
  {
   "cell_type": "markdown",
   "metadata": {},
   "source": [
    "# NDVI AND NDRE"
   ]
  },
  {
   "cell_type": "code",
   "execution_count": 2,
   "metadata": {},
   "outputs": [],
   "source": [
    "from scipy import ndimage\n",
    "from scipy import misc\n",
    "import matplotlib.pyplot as plt\n",
    "from matplotlib import pyplot\n",
    "from osgeo import gdal\n",
    "import sys"
   ]
  },
  {
   "cell_type": "code",
   "execution_count": 3,
   "metadata": {},
   "outputs": [
    {
     "ename": "AttributeError",
     "evalue": "'NoneType' object has no attribute 'GetRasterBand'",
     "output_type": "error",
     "traceback": [
      "\u001b[0;31m---------------------------------------------------------------------------\u001b[0m",
      "\u001b[0;31mAttributeError\u001b[0m                            Traceback (most recent call last)",
      "\u001b[0;32m<ipython-input-3-07b73ca8ca2d>\u001b[0m in \u001b[0;36m<module>\u001b[0;34m\u001b[0m\n\u001b[1;32m      1\u001b[0m \u001b[0mds\u001b[0m \u001b[0;34m=\u001b[0m \u001b[0mgdal\u001b[0m\u001b[0;34m.\u001b[0m\u001b[0mOpen\u001b[0m\u001b[0;34m(\u001b[0m\u001b[0;34m'San_Guillermo/Ortomosaico.tif'\u001b[0m\u001b[0;34m,\u001b[0m \u001b[0mgdal\u001b[0m\u001b[0;34m.\u001b[0m\u001b[0mGA_ReadOnly\u001b[0m\u001b[0;34m)\u001b[0m\u001b[0;34m\u001b[0m\u001b[0;34m\u001b[0m\u001b[0m\n\u001b[0;32m----> 2\u001b[0;31m \u001b[0mrb\u001b[0m \u001b[0;34m=\u001b[0m \u001b[0mds\u001b[0m\u001b[0;34m.\u001b[0m\u001b[0mGetRasterBand\u001b[0m\u001b[0;34m(\u001b[0m\u001b[0;36m1\u001b[0m\u001b[0;34m)\u001b[0m\u001b[0;34m\u001b[0m\u001b[0;34m\u001b[0m\u001b[0m\n\u001b[0m\u001b[1;32m      3\u001b[0m \u001b[0mimg_array\u001b[0m \u001b[0;34m=\u001b[0m \u001b[0mrb\u001b[0m\u001b[0;34m.\u001b[0m\u001b[0mReadAsArray\u001b[0m\u001b[0;34m(\u001b[0m\u001b[0;34m)\u001b[0m\u001b[0;34m\u001b[0m\u001b[0;34m\u001b[0m\u001b[0m\n",
      "\u001b[0;31mAttributeError\u001b[0m: 'NoneType' object has no attribute 'GetRasterBand'"
     ]
    }
   ],
   "source": [
    "ds = gdal.Open('San_Guillermo/Ortomosaico.tif', gdal.GA_ReadOnly)\n",
    "rb = ds.GetRasterBand(1)\n",
    "img_array = rb.ReadAsArray()"
   ]
  },
  {
   "cell_type": "code",
   "execution_count": null,
   "metadata": {},
   "outputs": [],
   "source": [
    "img_array"
   ]
  },
  {
   "cell_type": "code",
   "execution_count": null,
   "metadata": {},
   "outputs": [],
   "source": [
    "import rasterio\n",
    "dataset = rasterio.open('San_Guillermo/Ortomosaico.tif')\n",
    "\n",
    "dataset.count"
   ]
  },
  {
   "cell_type": "code",
   "execution_count": null,
   "metadata": {},
   "outputs": [],
   "source": [
    "rojovis=dataset.read(1) #red\n",
    "verdevis=dataset.read(2) #green\n",
    "bluevis=dataset.read(3) #blue\n",
    "b4=dataset.read(4) #alpha\n"
   ]
  },
  {
   "cell_type": "code",
   "execution_count": null,
   "metadata": {},
   "outputs": [],
   "source": [
    "b4.min()"
   ]
  },
  {
   "cell_type": "code",
   "execution_count": 4,
   "metadata": {},
   "outputs": [
    {
     "ename": "NameError",
     "evalue": "name 'b1' is not defined",
     "output_type": "error",
     "traceback": [
      "\u001b[0;31m---------------------------------------------------------------------------\u001b[0m",
      "\u001b[0;31mNameError\u001b[0m                                 Traceback (most recent call last)",
      "\u001b[0;32m<ipython-input-4-02f715d37694>\u001b[0m in \u001b[0;36m<module>\u001b[0;34m\u001b[0m\n\u001b[0;32m----> 1\u001b[0;31m \u001b[0mpyplot\u001b[0m\u001b[0;34m.\u001b[0m\u001b[0mimshow\u001b[0m\u001b[0;34m(\u001b[0m\u001b[0mb1\u001b[0m\u001b[0;34m)\u001b[0m\u001b[0;34m\u001b[0m\u001b[0;34m\u001b[0m\u001b[0m\n\u001b[0m\u001b[1;32m      2\u001b[0m \u001b[0mpyplot\u001b[0m\u001b[0;34m.\u001b[0m\u001b[0mshow\u001b[0m\u001b[0;34m(\u001b[0m\u001b[0;34m)\u001b[0m\u001b[0;34m\u001b[0m\u001b[0;34m\u001b[0m\u001b[0m\n",
      "\u001b[0;31mNameError\u001b[0m: name 'b1' is not defined"
     ]
    }
   ],
   "source": [
    "pyplot.imshow(b1)\n",
    "pyplot.show()"
   ]
  },
  {
   "cell_type": "code",
   "execution_count": 5,
   "metadata": {},
   "outputs": [
    {
     "ename": "NameError",
     "evalue": "name 'b2' is not defined",
     "output_type": "error",
     "traceback": [
      "\u001b[0;31m---------------------------------------------------------------------------\u001b[0m",
      "\u001b[0;31mNameError\u001b[0m                                 Traceback (most recent call last)",
      "\u001b[0;32m<ipython-input-5-32dd082506eb>\u001b[0m in \u001b[0;36m<module>\u001b[0;34m\u001b[0m\n\u001b[0;32m----> 1\u001b[0;31m \u001b[0mpyplot\u001b[0m\u001b[0;34m.\u001b[0m\u001b[0mimshow\u001b[0m\u001b[0;34m(\u001b[0m\u001b[0mb2\u001b[0m\u001b[0;34m)\u001b[0m\u001b[0;34m\u001b[0m\u001b[0;34m\u001b[0m\u001b[0m\n\u001b[0m\u001b[1;32m      2\u001b[0m \u001b[0mpyplot\u001b[0m\u001b[0;34m.\u001b[0m\u001b[0mshow\u001b[0m\u001b[0;34m(\u001b[0m\u001b[0;34m)\u001b[0m\u001b[0;34m\u001b[0m\u001b[0;34m\u001b[0m\u001b[0m\n",
      "\u001b[0;31mNameError\u001b[0m: name 'b2' is not defined"
     ]
    }
   ],
   "source": [
    "pyplot.imshow(b2)\n",
    "pyplot.show()"
   ]
  },
  {
   "cell_type": "code",
   "execution_count": 6,
   "metadata": {},
   "outputs": [
    {
     "ename": "NameError",
     "evalue": "name 'b3' is not defined",
     "output_type": "error",
     "traceback": [
      "\u001b[0;31m---------------------------------------------------------------------------\u001b[0m",
      "\u001b[0;31mNameError\u001b[0m                                 Traceback (most recent call last)",
      "\u001b[0;32m<ipython-input-6-83ecd0ed06ce>\u001b[0m in \u001b[0;36m<module>\u001b[0;34m\u001b[0m\n\u001b[0;32m----> 1\u001b[0;31m \u001b[0mpyplot\u001b[0m\u001b[0;34m.\u001b[0m\u001b[0mimshow\u001b[0m\u001b[0;34m(\u001b[0m\u001b[0mb3\u001b[0m\u001b[0;34m)\u001b[0m\u001b[0;34m\u001b[0m\u001b[0;34m\u001b[0m\u001b[0m\n\u001b[0m\u001b[1;32m      2\u001b[0m \u001b[0mpyplot\u001b[0m\u001b[0;34m.\u001b[0m\u001b[0mshow\u001b[0m\u001b[0;34m(\u001b[0m\u001b[0;34m)\u001b[0m\u001b[0;34m\u001b[0m\u001b[0;34m\u001b[0m\u001b[0m\n",
      "\u001b[0;31mNameError\u001b[0m: name 'b3' is not defined"
     ]
    }
   ],
   "source": [
    "pyplot.imshow(b3)\n",
    "pyplot.show()"
   ]
  },
  {
   "cell_type": "code",
   "execution_count": 7,
   "metadata": {},
   "outputs": [
    {
     "ename": "NameError",
     "evalue": "name 'b4' is not defined",
     "output_type": "error",
     "traceback": [
      "\u001b[0;31m---------------------------------------------------------------------------\u001b[0m",
      "\u001b[0;31mNameError\u001b[0m                                 Traceback (most recent call last)",
      "\u001b[0;32m<ipython-input-7-015ae74ef51b>\u001b[0m in \u001b[0;36m<module>\u001b[0;34m\u001b[0m\n\u001b[0;32m----> 1\u001b[0;31m \u001b[0mpyplot\u001b[0m\u001b[0;34m.\u001b[0m\u001b[0mimshow\u001b[0m\u001b[0;34m(\u001b[0m\u001b[0mb4\u001b[0m\u001b[0;34m)\u001b[0m\u001b[0;34m\u001b[0m\u001b[0;34m\u001b[0m\u001b[0m\n\u001b[0m\u001b[1;32m      2\u001b[0m \u001b[0mpyplot\u001b[0m\u001b[0;34m.\u001b[0m\u001b[0mshow\u001b[0m\u001b[0;34m(\u001b[0m\u001b[0;34m)\u001b[0m\u001b[0;34m\u001b[0m\u001b[0;34m\u001b[0m\u001b[0m\n",
      "\u001b[0;31mNameError\u001b[0m: name 'b4' is not defined"
     ]
    }
   ],
   "source": [
    "pyplot.imshow(b4)\n",
    "pyplot.show()"
   ]
  },
  {
   "cell_type": "code",
   "execution_count": 8,
   "metadata": {},
   "outputs": [
    {
     "ename": "NameError",
     "evalue": "name 'b2' is not defined",
     "output_type": "error",
     "traceback": [
      "\u001b[0;31m---------------------------------------------------------------------------\u001b[0m",
      "\u001b[0;31mNameError\u001b[0m                                 Traceback (most recent call last)",
      "\u001b[0;32m<ipython-input-8-6a9cfede98da>\u001b[0m in \u001b[0;36m<module>\u001b[0;34m\u001b[0m\n\u001b[0;32m----> 1\u001b[0;31m \u001b[0mndvi\u001b[0m \u001b[0;34m=\u001b[0m \u001b[0;34m(\u001b[0m\u001b[0mb2\u001b[0m\u001b[0;34m-\u001b[0m\u001b[0mb1\u001b[0m\u001b[0;34m)\u001b[0m\u001b[0;34m/\u001b[0m\u001b[0;34m(\u001b[0m\u001b[0mb2\u001b[0m\u001b[0;34m+\u001b[0m\u001b[0mb1\u001b[0m\u001b[0;34m)\u001b[0m\u001b[0;34m\u001b[0m\u001b[0;34m\u001b[0m\u001b[0m\n\u001b[0m\u001b[1;32m      2\u001b[0m \u001b[0mpyplot\u001b[0m\u001b[0;34m.\u001b[0m\u001b[0mimshow\u001b[0m\u001b[0;34m(\u001b[0m\u001b[0mndvi\u001b[0m\u001b[0;34m)\u001b[0m\u001b[0;34m\u001b[0m\u001b[0;34m\u001b[0m\u001b[0m\n\u001b[1;32m      3\u001b[0m \u001b[0mpyplot\u001b[0m\u001b[0;34m.\u001b[0m\u001b[0mshow\u001b[0m\u001b[0;34m(\u001b[0m\u001b[0;34m)\u001b[0m\u001b[0;34m\u001b[0m\u001b[0;34m\u001b[0m\u001b[0m\n",
      "\u001b[0;31mNameError\u001b[0m: name 'b2' is not defined"
     ]
    }
   ],
   "source": [
    "ndvi = (b2-b1)/(b2+b1)\n",
    "pyplot.imshow(ndvi)\n",
    "pyplot.show()"
   ]
  },
  {
   "cell_type": "code",
   "execution_count": 9,
   "metadata": {},
   "outputs": [
    {
     "ename": "NameError",
     "evalue": "name 'b3' is not defined",
     "output_type": "error",
     "traceback": [
      "\u001b[0;31m---------------------------------------------------------------------------\u001b[0m",
      "\u001b[0;31mNameError\u001b[0m                                 Traceback (most recent call last)",
      "\u001b[0;32m<ipython-input-9-ddd5da784fe0>\u001b[0m in \u001b[0;36m<module>\u001b[0;34m\u001b[0m\n\u001b[0;32m----> 1\u001b[0;31m \u001b[0mndvi\u001b[0m \u001b[0;34m=\u001b[0m \u001b[0;34m(\u001b[0m\u001b[0mb3\u001b[0m\u001b[0;34m-\u001b[0m\u001b[0mb1\u001b[0m\u001b[0;34m)\u001b[0m\u001b[0;34m/\u001b[0m\u001b[0;34m(\u001b[0m\u001b[0mb3\u001b[0m\u001b[0;34m+\u001b[0m\u001b[0mb1\u001b[0m\u001b[0;34m)\u001b[0m\u001b[0;34m\u001b[0m\u001b[0;34m\u001b[0m\u001b[0m\n\u001b[0m\u001b[1;32m      2\u001b[0m \u001b[0mpyplot\u001b[0m\u001b[0;34m.\u001b[0m\u001b[0mimshow\u001b[0m\u001b[0;34m(\u001b[0m\u001b[0mndvi\u001b[0m\u001b[0;34m)\u001b[0m\u001b[0;34m\u001b[0m\u001b[0;34m\u001b[0m\u001b[0m\n\u001b[1;32m      3\u001b[0m \u001b[0mpyplot\u001b[0m\u001b[0;34m.\u001b[0m\u001b[0mshow\u001b[0m\u001b[0;34m(\u001b[0m\u001b[0;34m)\u001b[0m\u001b[0;34m\u001b[0m\u001b[0;34m\u001b[0m\u001b[0m\n",
      "\u001b[0;31mNameError\u001b[0m: name 'b3' is not defined"
     ]
    }
   ],
   "source": [
    "ndvi = (b3-b1)/(b3+b1)\n",
    "pyplot.imshow(ndvi)\n",
    "pyplot.show()"
   ]
  },
  {
   "cell_type": "code",
   "execution_count": 10,
   "metadata": {},
   "outputs": [
    {
     "ename": "NameError",
     "evalue": "name 'rasterio' is not defined",
     "output_type": "error",
     "traceback": [
      "\u001b[0;31m---------------------------------------------------------------------------\u001b[0m",
      "\u001b[0;31mNameError\u001b[0m                                 Traceback (most recent call last)",
      "\u001b[0;32m<ipython-input-10-d0ba31320e06>\u001b[0m in \u001b[0;36m<module>\u001b[0;34m\u001b[0m\n\u001b[0;32m----> 1\u001b[0;31m \u001b[0mndvi_real\u001b[0m \u001b[0;34m=\u001b[0m \u001b[0mrasterio\u001b[0m\u001b[0;34m.\u001b[0m\u001b[0mopen\u001b[0m\u001b[0;34m(\u001b[0m\u001b[0;34m'NDVI.tif'\u001b[0m\u001b[0;34m)\u001b[0m\u001b[0;34m\u001b[0m\u001b[0;34m\u001b[0m\u001b[0m\n\u001b[0m\u001b[1;32m      2\u001b[0m \u001b[0mndvi_red\u001b[0m\u001b[0;34m=\u001b[0m\u001b[0mdataset\u001b[0m\u001b[0;34m.\u001b[0m\u001b[0mread\u001b[0m\u001b[0;34m(\u001b[0m\u001b[0;36m1\u001b[0m\u001b[0;34m)\u001b[0m \u001b[0;31m#red\u001b[0m\u001b[0;34m\u001b[0m\u001b[0;34m\u001b[0m\u001b[0m\n\u001b[1;32m      3\u001b[0m \u001b[0mndvi_real\u001b[0m\u001b[0;34m.\u001b[0m\u001b[0mcount\u001b[0m\u001b[0;34m\u001b[0m\u001b[0;34m\u001b[0m\u001b[0m\n",
      "\u001b[0;31mNameError\u001b[0m: name 'rasterio' is not defined"
     ]
    }
   ],
   "source": [
    "ndvi_real = rasterio.open('NDVI.tif')\n",
    "ndvi_red=dataset.read(1) #red\n",
    "ndvi_real.count"
   ]
  },
  {
   "cell_type": "code",
   "execution_count": 11,
   "metadata": {},
   "outputs": [
    {
     "ename": "NameError",
     "evalue": "name 'ndvi_red' is not defined",
     "output_type": "error",
     "traceback": [
      "\u001b[0;31m---------------------------------------------------------------------------\u001b[0m",
      "\u001b[0;31mNameError\u001b[0m                                 Traceback (most recent call last)",
      "\u001b[0;32m<ipython-input-11-fc90849f1144>\u001b[0m in \u001b[0;36m<module>\u001b[0;34m\u001b[0m\n\u001b[0;32m----> 1\u001b[0;31m \u001b[0mpyplot\u001b[0m\u001b[0;34m.\u001b[0m\u001b[0mimshow\u001b[0m\u001b[0;34m(\u001b[0m\u001b[0mndvi_red\u001b[0m\u001b[0;34m)\u001b[0m\u001b[0;34m\u001b[0m\u001b[0;34m\u001b[0m\u001b[0m\n\u001b[0m\u001b[1;32m      2\u001b[0m \u001b[0mpyplot\u001b[0m\u001b[0;34m.\u001b[0m\u001b[0mshow\u001b[0m\u001b[0;34m(\u001b[0m\u001b[0;34m)\u001b[0m\u001b[0;34m\u001b[0m\u001b[0;34m\u001b[0m\u001b[0m\n",
      "\u001b[0;31mNameError\u001b[0m: name 'ndvi_red' is not defined"
     ]
    }
   ],
   "source": [
    "pyplot.imshow(ndvi_red)\n",
    "pyplot.show()"
   ]
  },
  {
   "cell_type": "code",
   "execution_count": 12,
   "metadata": {},
   "outputs": [
    {
     "ename": "NameError",
     "evalue": "name 'ndvi' is not defined",
     "output_type": "error",
     "traceback": [
      "\u001b[0;31m---------------------------------------------------------------------------\u001b[0m",
      "\u001b[0;31mNameError\u001b[0m                                 Traceback (most recent call last)",
      "\u001b[0;32m<ipython-input-12-56594f0c06e1>\u001b[0m in \u001b[0;36m<module>\u001b[0;34m\u001b[0m\n\u001b[0;32m----> 1\u001b[0;31m \u001b[0mndvi\u001b[0m\u001b[0;34m\u001b[0m\u001b[0;34m\u001b[0m\u001b[0m\n\u001b[0m",
      "\u001b[0;31mNameError\u001b[0m: name 'ndvi' is not defined"
     ]
    }
   ],
   "source": [
    "ndvi"
   ]
  },
  {
   "cell_type": "code",
   "execution_count": null,
   "metadata": {},
   "outputs": [],
   "source": []
  },
  {
   "cell_type": "markdown",
   "metadata": {},
   "source": [
    "ndre = (nir -rededge)(nir + rededge)"
   ]
  },
  {
   "cell_type": "markdown",
   "metadata": {},
   "source": [
    "ndvi = (nir -rojovis)(nir + rojovis)"
   ]
  },
  {
   "cell_type": "markdown",
   "metadata": {},
   "source": [
    "# READ KMZ TRANSFORM SHAPE CORRECTLY"
   ]
  },
  {
   "cell_type": "code",
   "execution_count": 13,
   "metadata": {},
   "outputs": [],
   "source": [
    "import geotable"
   ]
  },
  {
   "cell_type": "code",
   "execution_count": 14,
   "metadata": {},
   "outputs": [
    {
     "ename": "GeoTableError",
     "evalue": "file unloadable (T2_P7.kmz)",
     "output_type": "error",
     "traceback": [
      "\u001b[0;31m---------------------------------------------------------------------------\u001b[0m",
      "\u001b[0;31mGeoTableError\u001b[0m                             Traceback (most recent call last)",
      "\u001b[0;32m/usr/local/lib/python3.8/site-packages/geotable/__init__.py\u001b[0m in \u001b[0;36m_load\u001b[0;34m(Class, source_path_or_url, source_proj4, target_proj4, **kw)\u001b[0m\n\u001b[1;32m    106\u001b[0m             \u001b[0;32mtry\u001b[0m\u001b[0;34m:\u001b[0m\u001b[0;34m\u001b[0m\u001b[0;34m\u001b[0m\u001b[0m\n\u001b[0;32m--> 107\u001b[0;31m                 source_folder = _get_source_folder(\n\u001b[0m\u001b[1;32m    108\u001b[0m                     source_path_or_url, storage.folder, GEOTABLE_EXTENSIONS)\n",
      "\u001b[0;32m/usr/local/lib/python3.8/site-packages/geotable/macros.py\u001b[0m in \u001b[0;36m_get_source_folder\u001b[0;34m(source_path_or_url, temporary_folder, file_extensions)\u001b[0m\n\u001b[1;32m     54\u001b[0m                 \u001b[0;32mpass\u001b[0m\u001b[0;34m\u001b[0m\u001b[0;34m\u001b[0m\u001b[0m\n\u001b[0;32m---> 55\u001b[0;31m     \u001b[0;32mraise\u001b[0m \u001b[0mGeoTableError\u001b[0m\u001b[0;34m(\u001b[0m\u001b[0msource_path\u001b[0m\u001b[0;34m)\u001b[0m\u001b[0;34m\u001b[0m\u001b[0;34m\u001b[0m\u001b[0m\n\u001b[0m\u001b[1;32m     56\u001b[0m \u001b[0;34m\u001b[0m\u001b[0m\n",
      "\u001b[0;31mGeoTableError\u001b[0m: T2_P7.kmz",
      "\nDuring handling of the above exception, another exception occurred:\n",
      "\u001b[0;31mRuntimeError\u001b[0m                              Traceback (most recent call last)",
      "\u001b[0;32m/usr/local/lib/python3.8/site-packages/geotable/__init__.py\u001b[0m in \u001b[0;36mfrom_gdal\u001b[0;34m(Class, source_path, source_proj4, target_proj4)\u001b[0m\n\u001b[1;32m    148\u001b[0m         \u001b[0;32mtry\u001b[0m\u001b[0;34m:\u001b[0m\u001b[0;34m\u001b[0m\u001b[0;34m\u001b[0m\u001b[0m\n\u001b[0;32m--> 149\u001b[0;31m             \u001b[0mgdal_dataset\u001b[0m \u001b[0;34m=\u001b[0m \u001b[0mgdal\u001b[0m\u001b[0;34m.\u001b[0m\u001b[0mOpenEx\u001b[0m\u001b[0;34m(\u001b[0m\u001b[0msource_path\u001b[0m\u001b[0;34m)\u001b[0m\u001b[0;34m\u001b[0m\u001b[0;34m\u001b[0m\u001b[0m\n\u001b[0m\u001b[1;32m    150\u001b[0m         \u001b[0;32mexcept\u001b[0m \u001b[0mRuntimeError\u001b[0m\u001b[0;34m:\u001b[0m\u001b[0;34m\u001b[0m\u001b[0;34m\u001b[0m\u001b[0m\n",
      "\u001b[0;32m/usr/lib64/python3.8/site-packages/osgeo/gdal.py\u001b[0m in \u001b[0;36mOpenEx\u001b[0;34m(*args, **kwargs)\u001b[0m\n\u001b[1;32m   3311\u001b[0m     \u001b[0;34m\"\"\"OpenEx(char const * utf8_path, unsigned int nOpenFlags=0, char ** allowed_drivers=None, char ** open_options=None, char ** sibling_files=None) -> Dataset\"\"\"\u001b[0m\u001b[0;34m\u001b[0m\u001b[0;34m\u001b[0m\u001b[0m\n\u001b[0;32m-> 3312\u001b[0;31m     \u001b[0;32mreturn\u001b[0m \u001b[0m_gdal\u001b[0m\u001b[0;34m.\u001b[0m\u001b[0mOpenEx\u001b[0m\u001b[0;34m(\u001b[0m\u001b[0;34m*\u001b[0m\u001b[0margs\u001b[0m\u001b[0;34m,\u001b[0m \u001b[0;34m**\u001b[0m\u001b[0mkwargs\u001b[0m\u001b[0;34m)\u001b[0m\u001b[0;34m\u001b[0m\u001b[0;34m\u001b[0m\u001b[0m\n\u001b[0m\u001b[1;32m   3313\u001b[0m \u001b[0;34m\u001b[0m\u001b[0m\n",
      "\u001b[0;31mRuntimeError\u001b[0m: T2_P7.kmz: No such file or directory",
      "\nDuring handling of the above exception, another exception occurred:\n",
      "\u001b[0;31mGeoTableError\u001b[0m                             Traceback (most recent call last)",
      "\u001b[0;32m<ipython-input-14-4158d648ed69>\u001b[0m in \u001b[0;36m<module>\u001b[0;34m\u001b[0m\n\u001b[0;32m----> 1\u001b[0;31m \u001b[0mt\u001b[0m \u001b[0;34m=\u001b[0m \u001b[0mgeotable\u001b[0m\u001b[0;34m.\u001b[0m\u001b[0mload\u001b[0m\u001b[0;34m(\u001b[0m\u001b[0;34m'T2_P7.kmz'\u001b[0m\u001b[0;34m)\u001b[0m\u001b[0;34m\u001b[0m\u001b[0;34m\u001b[0m\u001b[0m\n\u001b[0m",
      "\u001b[0;32m/usr/local/lib/python3.8/site-packages/geotable/__init__.py\u001b[0m in \u001b[0;36mload\u001b[0;34m(source_path_or_url, source_proj4, target_proj4, drop_z, bounding_box, bounding_polygon, **kw)\u001b[0m\n\u001b[1;32m    393\u001b[0m         \u001b[0mbounding_polygon\u001b[0m\u001b[0;34m=\u001b[0m\u001b[0;32mNone\u001b[0m\u001b[0;34m,\u001b[0m\u001b[0;34m\u001b[0m\u001b[0;34m\u001b[0m\u001b[0m\n\u001b[1;32m    394\u001b[0m         **kw):\n\u001b[0;32m--> 395\u001b[0;31m     return GeoTable.load(\n\u001b[0m\u001b[1;32m    396\u001b[0m         \u001b[0msource_path_or_url\u001b[0m\u001b[0;34m,\u001b[0m\u001b[0;34m\u001b[0m\u001b[0;34m\u001b[0m\u001b[0m\n\u001b[1;32m    397\u001b[0m         \u001b[0msource_proj4\u001b[0m\u001b[0;34m,\u001b[0m\u001b[0;34m\u001b[0m\u001b[0;34m\u001b[0m\u001b[0m\n",
      "\u001b[0;32m/usr/local/lib/python3.8/site-packages/geotable/__init__.py\u001b[0m in \u001b[0;36mload\u001b[0;34m(Class, source_path_or_url, source_proj4, target_proj4, drop_z, bounding_box, bounding_polygon, **kw)\u001b[0m\n\u001b[1;32m     83\u001b[0m             \u001b[0mbounding_box\u001b[0m\u001b[0;34m=\u001b[0m\u001b[0;32mNone\u001b[0m\u001b[0;34m,\u001b[0m\u001b[0;34m\u001b[0m\u001b[0;34m\u001b[0m\u001b[0m\n\u001b[1;32m     84\u001b[0m             bounding_polygon=None, **kw):\n\u001b[0;32m---> 85\u001b[0;31m         \u001b[0mt\u001b[0m \u001b[0;34m=\u001b[0m \u001b[0mClass\u001b[0m\u001b[0;34m.\u001b[0m\u001b[0m_load\u001b[0m\u001b[0;34m(\u001b[0m\u001b[0msource_path_or_url\u001b[0m\u001b[0;34m,\u001b[0m \u001b[0msource_proj4\u001b[0m\u001b[0;34m,\u001b[0m \u001b[0mtarget_proj4\u001b[0m\u001b[0;34m,\u001b[0m \u001b[0;34m**\u001b[0m\u001b[0mkw\u001b[0m\u001b[0;34m)\u001b[0m\u001b[0;34m\u001b[0m\u001b[0;34m\u001b[0m\u001b[0m\n\u001b[0m\u001b[1;32m     86\u001b[0m         \u001b[0;32mif\u001b[0m \u001b[0mdrop_z\u001b[0m\u001b[0;34m:\u001b[0m\u001b[0;34m\u001b[0m\u001b[0;34m\u001b[0m\u001b[0m\n\u001b[1;32m     87\u001b[0m             t['geometry_object'] = geometry.transform_geometries(\n",
      "\u001b[0;32m/usr/local/lib/python3.8/site-packages/geotable/__init__.py\u001b[0m in \u001b[0;36m_load\u001b[0;34m(Class, source_path_or_url, source_proj4, target_proj4, **kw)\u001b[0m\n\u001b[1;32m    113\u001b[0m                         source_path, source_proj4, target_proj4, **kw)\n\u001b[1;32m    114\u001b[0m                 \u001b[0;32melse\u001b[0m\u001b[0;34m:\u001b[0m\u001b[0;34m\u001b[0m\u001b[0;34m\u001b[0m\u001b[0m\n\u001b[0;32m--> 115\u001b[0;31m                     return Class.from_gdal(\n\u001b[0m\u001b[1;32m    116\u001b[0m                         source_path, source_proj4, target_proj4)\n\u001b[1;32m    117\u001b[0m             \u001b[0mtables\u001b[0m \u001b[0;34m=\u001b[0m \u001b[0;34m[\u001b[0m\u001b[0;34m]\u001b[0m\u001b[0;34m\u001b[0m\u001b[0;34m\u001b[0m\u001b[0m\n",
      "\u001b[0;32m/usr/local/lib/python3.8/site-packages/geotable/__init__.py\u001b[0m in \u001b[0;36mfrom_gdal\u001b[0;34m(Class, source_path, source_proj4, target_proj4)\u001b[0m\n\u001b[1;32m    149\u001b[0m             \u001b[0mgdal_dataset\u001b[0m \u001b[0;34m=\u001b[0m \u001b[0mgdal\u001b[0m\u001b[0;34m.\u001b[0m\u001b[0mOpenEx\u001b[0m\u001b[0;34m(\u001b[0m\u001b[0msource_path\u001b[0m\u001b[0;34m)\u001b[0m\u001b[0;34m\u001b[0m\u001b[0;34m\u001b[0m\u001b[0m\n\u001b[1;32m    150\u001b[0m         \u001b[0;32mexcept\u001b[0m \u001b[0mRuntimeError\u001b[0m\u001b[0;34m:\u001b[0m\u001b[0;34m\u001b[0m\u001b[0;34m\u001b[0m\u001b[0m\n\u001b[0;32m--> 151\u001b[0;31m             \u001b[0;32mraise\u001b[0m \u001b[0mGeoTableError\u001b[0m\u001b[0;34m(\u001b[0m\u001b[0;34m'file unloadable (%s)'\u001b[0m \u001b[0;34m%\u001b[0m \u001b[0msource_path\u001b[0m\u001b[0;34m)\u001b[0m\u001b[0;34m\u001b[0m\u001b[0;34m\u001b[0m\u001b[0m\n\u001b[0m\u001b[1;32m    152\u001b[0m         \u001b[0minstances\u001b[0m \u001b[0;34m=\u001b[0m \u001b[0;34m[\u001b[0m\u001b[0;34m]\u001b[0m\u001b[0;34m\u001b[0m\u001b[0;34m\u001b[0m\u001b[0m\n\u001b[1;32m    153\u001b[0m         \u001b[0;32mfor\u001b[0m \u001b[0mlayer_index\u001b[0m \u001b[0;32min\u001b[0m \u001b[0mrange\u001b[0m\u001b[0;34m(\u001b[0m\u001b[0mgdal_dataset\u001b[0m\u001b[0;34m.\u001b[0m\u001b[0mGetLayerCount\u001b[0m\u001b[0;34m(\u001b[0m\u001b[0;34m)\u001b[0m\u001b[0;34m)\u001b[0m\u001b[0;34m:\u001b[0m\u001b[0;34m\u001b[0m\u001b[0;34m\u001b[0m\u001b[0m\n",
      "\u001b[0;31mGeoTableError\u001b[0m: file unloadable (T2_P7.kmz)"
     ]
    }
   ],
   "source": [
    "t = geotable.load('T2_P7.kmz')"
   ]
  },
  {
   "cell_type": "code",
   "execution_count": null,
   "metadata": {},
   "outputs": [],
   "source": [
    "t.iloc[0]\n",
    "t.save_shp('T2_P7.zip')"
   ]
  },
  {
   "cell_type": "code",
   "execution_count": 15,
   "metadata": {},
   "outputs": [],
   "source": [
    "#os.system('unzip T2_P7.zip *')"
   ]
  },
  {
   "cell_type": "code",
   "execution_count": null,
   "metadata": {},
   "outputs": [],
   "source": []
  },
  {
   "cell_type": "markdown",
   "metadata": {},
   "source": [
    "# TRANSFORM SHAPE ERROR"
   ]
  },
  {
   "cell_type": "code",
   "execution_count": 16,
   "metadata": {},
   "outputs": [],
   "source": [
    "import os\n",
    "import matplotlib.pyplot as plt\n",
    "import seaborn as sns\n",
    "import numpy as np\n",
    "from shapely.geometry import mapping\n",
    "import geopandas as gpd\n",
    "import rasterio as rio\n",
    "from rasterio.plot import plotting_extent\n",
    "from rasterio.mask import mask\n",
    "import earthpy as et\n",
    "import earthpy.spatial as es\n",
    "import earthpy.plot as ep\n",
    "from keyholemarkup_converter import  keyholemarkup2x"
   ]
  },
  {
   "cell_type": "code",
   "execution_count": 17,
   "metadata": {},
   "outputs": [
    {
     "ename": "FileNotFoundError",
     "evalue": "[Errno 2] No such file or directory: 'T2_P7.kmz'",
     "output_type": "error",
     "traceback": [
      "\u001b[0;31m---------------------------------------------------------------------------\u001b[0m",
      "\u001b[0;31mFileNotFoundError\u001b[0m                         Traceback (most recent call last)",
      "\u001b[0;32m<ipython-input-17-613bdf31a9bd>\u001b[0m in \u001b[0;36m<module>\u001b[0;34m\u001b[0m\n\u001b[0;32m----> 1\u001b[0;31m \u001b[0ma\u001b[0m \u001b[0;34m=\u001b[0m \u001b[0mkeyholemarkup2x\u001b[0m\u001b[0;34m(\u001b[0m\u001b[0;34m'T2_P7.kmz'\u001b[0m\u001b[0;34m,\u001b[0m\u001b[0moutput\u001b[0m\u001b[0;34m=\u001b[0m\u001b[0;34m'shp'\u001b[0m\u001b[0;34m)\u001b[0m\u001b[0;34m\u001b[0m\u001b[0;34m\u001b[0m\u001b[0m\n\u001b[0m",
      "\u001b[0;32m~/Documents/40_trabajo_jsalinas/keyholemarkup_converter.py\u001b[0m in \u001b[0;36mkeyholemarkup2x\u001b[0;34m(file, output)\u001b[0m\n\u001b[1;32m    195\u001b[0m         \u001b[0mbuffer\u001b[0m \u001b[0;34m=\u001b[0m \u001b[0mfile\u001b[0m\u001b[0;34m\u001b[0m\u001b[0;34m\u001b[0m\u001b[0m\n\u001b[1;32m    196\u001b[0m     \u001b[0;32melif\u001b[0m \u001b[0;34m(\u001b[0m\u001b[0mextension\u001b[0m\u001b[0;34m.\u001b[0m\u001b[0mlower\u001b[0m\u001b[0;34m(\u001b[0m\u001b[0;34m)\u001b[0m\u001b[0;34m==\u001b[0m\u001b[0;34m'kmz'\u001b[0m\u001b[0;34m)\u001b[0m \u001b[0;32mis\u001b[0m \u001b[0;32mTrue\u001b[0m\u001b[0;34m:\u001b[0m\u001b[0;34m\u001b[0m\u001b[0;34m\u001b[0m\u001b[0m\n\u001b[0;32m--> 197\u001b[0;31m         \u001b[0mkmz\u001b[0m \u001b[0;34m=\u001b[0m \u001b[0mZipFile\u001b[0m\u001b[0;34m(\u001b[0m\u001b[0mfile\u001b[0m\u001b[0;34m,\u001b[0m \u001b[0;34m'r'\u001b[0m\u001b[0;34m)\u001b[0m\u001b[0;34m\u001b[0m\u001b[0;34m\u001b[0m\u001b[0m\n\u001b[0m\u001b[1;32m    198\u001b[0m \u001b[0;34m\u001b[0m\u001b[0m\n\u001b[1;32m    199\u001b[0m         \u001b[0mvmatch\u001b[0m \u001b[0;34m=\u001b[0m \u001b[0mnp\u001b[0m\u001b[0;34m.\u001b[0m\u001b[0mvectorize\u001b[0m\u001b[0;34m(\u001b[0m\u001b[0;32mlambda\u001b[0m \u001b[0mx\u001b[0m\u001b[0;34m:\u001b[0m\u001b[0mbool\u001b[0m\u001b[0;34m(\u001b[0m\u001b[0mr\u001b[0m\u001b[0;34m.\u001b[0m\u001b[0msearch\u001b[0m\u001b[0;34m(\u001b[0m\u001b[0mx\u001b[0m\u001b[0;34m)\u001b[0m\u001b[0;34m)\u001b[0m\u001b[0;34m)\u001b[0m\u001b[0;34m\u001b[0m\u001b[0;34m\u001b[0m\u001b[0m\n",
      "\u001b[0;32m/usr/lib64/python3.8/zipfile.py\u001b[0m in \u001b[0;36m__init__\u001b[0;34m(self, file, mode, compression, allowZip64, compresslevel, strict_timestamps)\u001b[0m\n\u001b[1;32m   1249\u001b[0m             \u001b[0;32mwhile\u001b[0m \u001b[0;32mTrue\u001b[0m\u001b[0;34m:\u001b[0m\u001b[0;34m\u001b[0m\u001b[0;34m\u001b[0m\u001b[0m\n\u001b[1;32m   1250\u001b[0m                 \u001b[0;32mtry\u001b[0m\u001b[0;34m:\u001b[0m\u001b[0;34m\u001b[0m\u001b[0;34m\u001b[0m\u001b[0m\n\u001b[0;32m-> 1251\u001b[0;31m                     \u001b[0mself\u001b[0m\u001b[0;34m.\u001b[0m\u001b[0mfp\u001b[0m \u001b[0;34m=\u001b[0m \u001b[0mio\u001b[0m\u001b[0;34m.\u001b[0m\u001b[0mopen\u001b[0m\u001b[0;34m(\u001b[0m\u001b[0mfile\u001b[0m\u001b[0;34m,\u001b[0m \u001b[0mfilemode\u001b[0m\u001b[0;34m)\u001b[0m\u001b[0;34m\u001b[0m\u001b[0;34m\u001b[0m\u001b[0m\n\u001b[0m\u001b[1;32m   1252\u001b[0m                 \u001b[0;32mexcept\u001b[0m \u001b[0mOSError\u001b[0m\u001b[0;34m:\u001b[0m\u001b[0;34m\u001b[0m\u001b[0;34m\u001b[0m\u001b[0m\n\u001b[1;32m   1253\u001b[0m                     \u001b[0;32mif\u001b[0m \u001b[0mfilemode\u001b[0m \u001b[0;32min\u001b[0m \u001b[0mmodeDict\u001b[0m\u001b[0;34m:\u001b[0m\u001b[0;34m\u001b[0m\u001b[0;34m\u001b[0m\u001b[0m\n",
      "\u001b[0;31mFileNotFoundError\u001b[0m: [Errno 2] No such file or directory: 'T2_P7.kmz'"
     ]
    }
   ],
   "source": [
    "a = keyholemarkup2x('T2_P7.kmz',output='shp')"
   ]
  },
  {
   "cell_type": "code",
   "execution_count": null,
   "metadata": {},
   "outputs": [],
   "source": [
    "a"
   ]
  },
  {
   "cell_type": "markdown",
   "metadata": {},
   "source": [
    "# CLIP RASTER WITH SHAPE"
   ]
  },
  {
   "cell_type": "code",
   "execution_count": null,
   "metadata": {},
   "outputs": [],
   "source": [
    "from mpl_toolkits.basemap import Basemap\n",
    "from matplotlib.path import Path\n",
    "from matplotlib.patches import PathPatch\n",
    "import matplotlib.pyplot as plt\n",
    "from osgeo import gdal\n",
    "import numpy\n",
    "import shapefile"
   ]
  },
  {
   "cell_type": "code",
   "execution_count": 191,
   "metadata": {},
   "outputs": [
    {
     "data": {
      "text/plain": [
       "ShapeRecords: [<shapefile.ShapeRecord object at 0x7f181b700040>]"
      ]
     },
     "execution_count": 191,
     "metadata": {},
     "output_type": "execute_result"
    },
    {
     "data": {
      "image/png": "[encoded data removed]",
      "text/plain": [
       "<Figure size 432x288 with 1 Axes>"
      ]
     },
     "metadata": {
      "needs_background": "light"
     },
     "output_type": "display_data"
    }
   ],
   "source": [
    "fig = plt.figure()\n",
    "ax = fig.add_subplot(111)\n",
    "\n",
    "sf = shapefile.Reader(\"T2_P7\")\n",
    "sf.shapeRecords()"
   ]
  },
  {
   "cell_type": "code",
   "execution_count": 193,
   "metadata": {},
   "outputs": [
    {
     "name": "stdout",
     "output_type": "stream",
     "text": [
      "15\n",
      "[-70.89619160902487, -33.76822985982048, -70.89599389363235, -33.76803355030987]\n"
     ]
    },
    {
     "ename": "ValueError",
     "evalue": "operands could not be broadcast together with shapes (4,8431,6600) (4,8431) ",
     "output_type": "error",
     "traceback": [
      "\u001b[0;31m---------------------------------------------------------------------------\u001b[0m",
      "\u001b[0;31mValueError\u001b[0m                                Traceback (most recent call last)",
      "\u001b[0;32m<ipython-input-193-4e9ff0f03655>\u001b[0m in \u001b[0;36m<module>\u001b[0;34m\u001b[0m\n\u001b[1;32m     36\u001b[0m \u001b[0mxx\u001b[0m\u001b[0;34m,\u001b[0m \u001b[0myy\u001b[0m \u001b[0;34m=\u001b[0m \u001b[0mnumpy\u001b[0m\u001b[0;34m.\u001b[0m\u001b[0mmeshgrid\u001b[0m\u001b[0;34m(\u001b[0m\u001b[0mx\u001b[0m\u001b[0;34m,\u001b[0m \u001b[0my\u001b[0m\u001b[0;34m)\u001b[0m\u001b[0;34m\u001b[0m\u001b[0;34m\u001b[0m\u001b[0m\n\u001b[1;32m     37\u001b[0m \u001b[0;34m\u001b[0m\u001b[0m\n\u001b[0;32m---> 38\u001b[0;31m \u001b[0mcs\u001b[0m \u001b[0;34m=\u001b[0m \u001b[0mm\u001b[0m\u001b[0;34m.\u001b[0m\u001b[0mcontourf\u001b[0m\u001b[0;34m(\u001b[0m\u001b[0mxx\u001b[0m\u001b[0;34m,\u001b[0m\u001b[0myy\u001b[0m\u001b[0;34m,\u001b[0m\u001b[0mdata\u001b[0m\u001b[0;34m,\u001b[0m\u001b[0mrange\u001b[0m\u001b[0;34m(\u001b[0m\u001b[0;36m0\u001b[0m\u001b[0;34m,\u001b[0m \u001b[0;36m3600\u001b[0m\u001b[0;34m,\u001b[0m \u001b[0;36m200\u001b[0m\u001b[0;34m)\u001b[0m\u001b[0;34m)\u001b[0m\u001b[0;34m\u001b[0m\u001b[0;34m\u001b[0m\u001b[0m\n\u001b[0m\u001b[1;32m     39\u001b[0m \u001b[0;34m\u001b[0m\u001b[0m\n\u001b[1;32m     40\u001b[0m \u001b[0;32mfor\u001b[0m \u001b[0mcontour\u001b[0m \u001b[0;32min\u001b[0m \u001b[0mcs\u001b[0m\u001b[0;34m.\u001b[0m\u001b[0mcollections\u001b[0m\u001b[0;34m:\u001b[0m\u001b[0;34m\u001b[0m\u001b[0;34m\u001b[0m\u001b[0m\n",
      "\u001b[0;32m/usr/lib64/python3.8/site-packages/mpl_toolkits/basemap/__init__.py\u001b[0m in \u001b[0;36mwith_transform\u001b[0;34m(self, x, y, data, *args, **kwargs)\u001b[0m\n\u001b[1;32m    545\u001b[0m             \u001b[0;31m# convert lat/lon coords to map projection coords.\u001b[0m\u001b[0;34m\u001b[0m\u001b[0;34m\u001b[0m\u001b[0;34m\u001b[0m\u001b[0m\n\u001b[1;32m    546\u001b[0m             \u001b[0mx\u001b[0m\u001b[0;34m,\u001b[0m \u001b[0my\u001b[0m \u001b[0;34m=\u001b[0m \u001b[0mself\u001b[0m\u001b[0;34m(\u001b[0m\u001b[0mx\u001b[0m\u001b[0;34m,\u001b[0m\u001b[0my\u001b[0m\u001b[0;34m)\u001b[0m\u001b[0;34m\u001b[0m\u001b[0;34m\u001b[0m\u001b[0m\n\u001b[0;32m--> 547\u001b[0;31m         \u001b[0;32mreturn\u001b[0m \u001b[0mplotfunc\u001b[0m\u001b[0;34m(\u001b[0m\u001b[0mself\u001b[0m\u001b[0;34m,\u001b[0m\u001b[0mx\u001b[0m\u001b[0;34m,\u001b[0m\u001b[0my\u001b[0m\u001b[0;34m,\u001b[0m\u001b[0mdata\u001b[0m\u001b[0;34m,\u001b[0m\u001b[0;34m*\u001b[0m\u001b[0margs\u001b[0m\u001b[0;34m,\u001b[0m\u001b[0;34m**\u001b[0m\u001b[0mkwargs\u001b[0m\u001b[0;34m)\u001b[0m\u001b[0;34m\u001b[0m\u001b[0;34m\u001b[0m\u001b[0m\n\u001b[0m\u001b[1;32m    548\u001b[0m     \u001b[0;32mreturn\u001b[0m \u001b[0mwith_transform\u001b[0m\u001b[0;34m\u001b[0m\u001b[0;34m\u001b[0m\u001b[0m\n\u001b[1;32m    549\u001b[0m \u001b[0;34m\u001b[0m\u001b[0m\n",
      "\u001b[0;32m/usr/lib64/python3.8/site-packages/mpl_toolkits/basemap/__init__.py\u001b[0m in \u001b[0;36mcontourf\u001b[0;34m(self, x, y, data, *args, **kwargs)\u001b[0m\n\u001b[1;32m   3664\u001b[0m                 \u001b[0mdata\u001b[0m \u001b[0;34m=\u001b[0m \u001b[0mma\u001b[0m\u001b[0;34m.\u001b[0m\u001b[0masarray\u001b[0m\u001b[0;34m(\u001b[0m\u001b[0mdata\u001b[0m\u001b[0;34m)\u001b[0m\u001b[0;34m\u001b[0m\u001b[0;34m\u001b[0m\u001b[0m\n\u001b[1;32m   3665\u001b[0m                 \u001b[0;31m# combine with data mask.\u001b[0m\u001b[0;34m\u001b[0m\u001b[0;34m\u001b[0m\u001b[0;34m\u001b[0m\u001b[0m\n\u001b[0;32m-> 3666\u001b[0;31m                 \u001b[0mmask\u001b[0m \u001b[0;34m=\u001b[0m \u001b[0mnp\u001b[0m\u001b[0;34m.\u001b[0m\u001b[0mlogical_or\u001b[0m\u001b[0;34m(\u001b[0m\u001b[0mma\u001b[0m\u001b[0;34m.\u001b[0m\u001b[0mgetmaskarray\u001b[0m\u001b[0;34m(\u001b[0m\u001b[0mdata\u001b[0m\u001b[0;34m)\u001b[0m\u001b[0;34m,\u001b[0m\u001b[0mxymask\u001b[0m\u001b[0;34m)\u001b[0m\u001b[0;34m\u001b[0m\u001b[0;34m\u001b[0m\u001b[0m\n\u001b[0m\u001b[1;32m   3667\u001b[0m                 \u001b[0mdata\u001b[0m \u001b[0;34m=\u001b[0m \u001b[0mma\u001b[0m\u001b[0;34m.\u001b[0m\u001b[0mmasked_array\u001b[0m\u001b[0;34m(\u001b[0m\u001b[0mdata\u001b[0m\u001b[0;34m,\u001b[0m\u001b[0mmask\u001b[0m\u001b[0;34m=\u001b[0m\u001b[0mmask\u001b[0m\u001b[0;34m)\u001b[0m\u001b[0;34m\u001b[0m\u001b[0;34m\u001b[0m\u001b[0m\n\u001b[1;32m   3668\u001b[0m                 \u001b[0mCS\u001b[0m \u001b[0;34m=\u001b[0m \u001b[0max\u001b[0m\u001b[0;34m.\u001b[0m\u001b[0mcontourf\u001b[0m\u001b[0;34m(\u001b[0m\u001b[0mx\u001b[0m\u001b[0;34m,\u001b[0m\u001b[0my\u001b[0m\u001b[0;34m,\u001b[0m\u001b[0mdata\u001b[0m\u001b[0;34m,\u001b[0m\u001b[0;34m*\u001b[0m\u001b[0margs\u001b[0m\u001b[0;34m,\u001b[0m\u001b[0;34m**\u001b[0m\u001b[0mkwargs\u001b[0m\u001b[0;34m)\u001b[0m\u001b[0;34m\u001b[0m\u001b[0;34m\u001b[0m\u001b[0m\n",
      "\u001b[0;31mValueError\u001b[0m: operands could not be broadcast together with shapes (4,8431,6600) (4,8431) "
     ]
    },
    {
     "data": {
      "image/png": "[encoded data removed]",
      "text/plain": [
       "<Figure size 432x288 with 1 Axes>"
      ]
     },
     "metadata": {
      "needs_background": "light"
     },
     "output_type": "display_data"
    }
   ],
   "source": [
    "\n",
    "for shape_rec in sf.shapeRecords():\n",
    " \n",
    "    vertices = []\n",
    "    codes = []\n",
    "    pts = shape_rec.shape.points\n",
    "    prt = list(shape_rec.shape.parts) + [len(pts)]\n",
    "    for i in range(len(prt) - 1):\n",
    "        for j in range(prt[i], prt[i+1]):\n",
    "            vertices.append((pts[j][0], pts[j][1]))\n",
    "        codes += [Path.MOVETO]\n",
    "        codes += [Path.LINETO] * (prt[i+1] - prt[i] -2)\n",
    "        codes += [Path.CLOSEPOLY]\n",
    "    clip = Path(vertices, codes)\n",
    "    clip = PathPatch(clip, transform=ax.transData)\n",
    "\n",
    "import shapefile\n",
    "sf = shapefile.Reader(\"T2_P7.shp\")\n",
    "print(sf.shapeType)\n",
    "\n",
    "print(sf.bbox) #longitud, latitud, longitud, latitud\n",
    "m = Basemap(\n",
    "    llcrnrlon=sf.bbox[0],  #longitude of lower left hand corner of the desired map domain\n",
    "    llcrnrlat=sf.bbox[1], #latitude of lower left hand corner of the desired map domain\n",
    "    urcrnrlon=sf.bbox[2], #longitude of upper right hand corner of the desired map domain\n",
    "    urcrnrlat=sf.bbox[3], #latitude of upper right hand corner of the desired map domain\n",
    "    resolution = None, \n",
    "    projection = 'cyl')\n",
    "\n",
    "ds = gdal.Open('output/file_ndvi.tif')\n",
    "data = ds.ReadAsArray()\n",
    "\n",
    "gt = ds.GetGeoTransform()\n",
    "x = numpy.linspace(gt[0], gt[0] + gt[1] * data.shape[1], data.shape[1])\n",
    "y = numpy.linspace(gt[3], gt[3] + gt[5] * data.shape[0], data.shape[0])\n",
    "\n",
    "xx, yy = numpy.meshgrid(x, y)\n",
    "\n",
    "cs = m.contourf(xx,yy,data,range(0, 3600, 200))\n",
    "\n",
    "for contour in cs.collections:\n",
    "        contour.set_clip_path(clip)\n",
    "\n",
    "plt.show()"
   ]
  },
  {
   "cell_type": "markdown",
   "metadata": {},
   "source": [
    "# CLIP RASTER WITHOUT ERROR RESULTS NUMPY ARRAY"
   ]
  },
  {
   "cell_type": "code",
   "execution_count": 18,
   "metadata": {},
   "outputs": [],
   "source": [
    "import gdal\n",
    "import ogr, osr\n",
    "\n",
    "# converts coordinates to index\n",
    "\n",
    "def bbox2ix(bbox,gt):\n",
    "    xo = int(round((bbox[0] - gt[0])/gt[1]))\n",
    "    yo = int(round((gt[3] - bbox[3])/gt[1]))\n",
    "    xd = int(round((bbox[1] - bbox[0])/gt[1]))\n",
    "    yd = int(round((bbox[3] - bbox[2])/gt[1]))\n",
    "    return(xo,yo,xd,yd)\n",
    "\n",
    "def rasclip(ras,shp):\n",
    "    ds = gdal.Open(ras)\n",
    "    gt = ds.GetGeoTransform()\n",
    "\n",
    "    driver = ogr.GetDriverByName(\"ESRI Shapefile\")\n",
    "    dataSource = driver.Open(shp, 0)\n",
    "    layer = dataSource.GetLayer()\n",
    "\n",
    "    for feature in layer:\n",
    "\n",
    "        xo,yo,xd,yd = bbox2ix(feature.GetGeometryRef().GetEnvelope(),gt)\n",
    "        arr = ds.ReadAsArray(xo,yo,xd,yd)\n",
    "        yield arr\n",
    "\n",
    "    layer.ResetReading()\n",
    "    ds = None\n",
    "    dataSource = None"
   ]
  },
  {
   "cell_type": "code",
   "execution_count": 19,
   "metadata": {},
   "outputs": [],
   "source": [
    "gen = rasclip('output/file_ndvi.tif','T2_P7.shp')"
   ]
  },
  {
   "cell_type": "code",
   "execution_count": 20,
   "metadata": {},
   "outputs": [
    {
     "data": {
      "text/plain": [
       "<generator object rasclip at 0x7f0f4121c200>"
      ]
     },
     "execution_count": 20,
     "metadata": {},
     "output_type": "execute_result"
    }
   ],
   "source": [
    "gen"
   ]
  },
  {
   "cell_type": "code",
   "execution_count": 21,
   "metadata": {},
   "outputs": [],
   "source": [
    "clip = next(gen)"
   ]
  },
  {
   "cell_type": "code",
   "execution_count": 22,
   "metadata": {},
   "outputs": [
    {
     "data": {
      "text/plain": [
       "array([[[237, 244, 226, ..., 255, 255, 255],\n",
       "        [251, 247, 252, ..., 255, 255, 255],\n",
       "        [255, 249, 255, ..., 255, 255, 255],\n",
       "        ...,\n",
       "        [237, 237, 212, ..., 160,  99, 112],\n",
       "        [208, 208, 187, ..., 138, 104, 188],\n",
       "        [162, 167, 167, ..., 162, 172, 196]],\n",
       "\n",
       "       [[255, 255, 255, ..., 162, 170, 166],\n",
       "        [243, 246, 250, ..., 164, 161, 161],\n",
       "        [224, 230, 240, ..., 156, 147, 153],\n",
       "        ...,\n",
       "        [254, 254, 255, ..., 255, 255, 255],\n",
       "        [255, 255, 255, ..., 255, 255, 255],\n",
       "        [255, 255, 255, ..., 255, 255, 255]],\n",
       "\n",
       "       [[  0,   0,   0, ...,   0,   0,   0],\n",
       "        [  0,   0,   0, ...,   0,   0,   0],\n",
       "        [  0,   0,   0, ...,   0,   0,   0],\n",
       "        ...,\n",
       "        [  0,   0,   0, ...,   0,   0,   0],\n",
       "        [  0,   0,   0, ...,   0,   0,   0],\n",
       "        [  0,   0,   0, ...,   0,   0,   0]],\n",
       "\n",
       "       [[255, 255, 255, ..., 255, 255, 255],\n",
       "        [255, 255, 255, ..., 255, 255, 255],\n",
       "        [255, 255, 255, ..., 255, 255, 255],\n",
       "        ...,\n",
       "        [255, 255, 255, ..., 255, 255, 255],\n",
       "        [255, 255, 255, ..., 255, 255, 255],\n",
       "        [255, 255, 255, ..., 255, 255, 255]]], dtype=uint8)"
      ]
     },
     "execution_count": 22,
     "metadata": {},
     "output_type": "execute_result"
    }
   ],
   "source": [
    "clip"
   ]
  },
  {
   "cell_type": "code",
   "execution_count": 23,
   "metadata": {},
   "outputs": [
    {
     "ename": "TypeError",
     "evalue": "Invalid shape (4, 373, 375) for image data",
     "output_type": "error",
     "traceback": [
      "\u001b[0;31m---------------------------------------------------------------------------\u001b[0m",
      "\u001b[0;31mTypeError\u001b[0m                                 Traceback (most recent call last)",
      "\u001b[0;32m<ipython-input-23-ae4936c4d044>\u001b[0m in \u001b[0;36m<module>\u001b[0;34m\u001b[0m\n\u001b[0;32m----> 1\u001b[0;31m \u001b[0mpyplot\u001b[0m\u001b[0;34m.\u001b[0m\u001b[0mimshow\u001b[0m\u001b[0;34m(\u001b[0m\u001b[0mclip\u001b[0m\u001b[0;34m)\u001b[0m\u001b[0;34m\u001b[0m\u001b[0;34m\u001b[0m\u001b[0m\n\u001b[0m\u001b[1;32m      2\u001b[0m \u001b[0mpyplot\u001b[0m\u001b[0;34m.\u001b[0m\u001b[0mshow\u001b[0m\u001b[0;34m(\u001b[0m\u001b[0;34m)\u001b[0m\u001b[0;34m\u001b[0m\u001b[0;34m\u001b[0m\u001b[0m\n",
      "\u001b[0;32m/usr/lib64/python3.8/site-packages/matplotlib/pyplot.py\u001b[0m in \u001b[0;36mimshow\u001b[0;34m(X, cmap, norm, aspect, interpolation, alpha, vmin, vmax, origin, extent, shape, filternorm, filterrad, imlim, resample, url, data, **kwargs)\u001b[0m\n\u001b[1;32m   2643\u001b[0m         \u001b[0mfilterrad\u001b[0m\u001b[0;34m=\u001b[0m\u001b[0;36m4.0\u001b[0m\u001b[0;34m,\u001b[0m \u001b[0mimlim\u001b[0m\u001b[0;34m=\u001b[0m\u001b[0mcbook\u001b[0m\u001b[0;34m.\u001b[0m\u001b[0mdeprecation\u001b[0m\u001b[0;34m.\u001b[0m\u001b[0m_deprecated_parameter\u001b[0m\u001b[0;34m,\u001b[0m\u001b[0;34m\u001b[0m\u001b[0;34m\u001b[0m\u001b[0m\n\u001b[1;32m   2644\u001b[0m         resample=None, url=None, *, data=None, **kwargs):\n\u001b[0;32m-> 2645\u001b[0;31m     __ret = gca().imshow(\n\u001b[0m\u001b[1;32m   2646\u001b[0m         \u001b[0mX\u001b[0m\u001b[0;34m,\u001b[0m \u001b[0mcmap\u001b[0m\u001b[0;34m=\u001b[0m\u001b[0mcmap\u001b[0m\u001b[0;34m,\u001b[0m \u001b[0mnorm\u001b[0m\u001b[0;34m=\u001b[0m\u001b[0mnorm\u001b[0m\u001b[0;34m,\u001b[0m \u001b[0maspect\u001b[0m\u001b[0;34m=\u001b[0m\u001b[0maspect\u001b[0m\u001b[0;34m,\u001b[0m\u001b[0;34m\u001b[0m\u001b[0;34m\u001b[0m\u001b[0m\n\u001b[1;32m   2647\u001b[0m         \u001b[0minterpolation\u001b[0m\u001b[0;34m=\u001b[0m\u001b[0minterpolation\u001b[0m\u001b[0;34m,\u001b[0m \u001b[0malpha\u001b[0m\u001b[0;34m=\u001b[0m\u001b[0malpha\u001b[0m\u001b[0;34m,\u001b[0m \u001b[0mvmin\u001b[0m\u001b[0;34m=\u001b[0m\u001b[0mvmin\u001b[0m\u001b[0;34m,\u001b[0m\u001b[0;34m\u001b[0m\u001b[0;34m\u001b[0m\u001b[0m\n",
      "\u001b[0;32m/usr/lib64/python3.8/site-packages/matplotlib/__init__.py\u001b[0m in \u001b[0;36minner\u001b[0;34m(ax, data, *args, **kwargs)\u001b[0m\n\u001b[1;32m   1540\u001b[0m     \u001b[0;32mdef\u001b[0m \u001b[0minner\u001b[0m\u001b[0;34m(\u001b[0m\u001b[0max\u001b[0m\u001b[0;34m,\u001b[0m \u001b[0;34m*\u001b[0m\u001b[0margs\u001b[0m\u001b[0;34m,\u001b[0m \u001b[0mdata\u001b[0m\u001b[0;34m=\u001b[0m\u001b[0;32mNone\u001b[0m\u001b[0;34m,\u001b[0m \u001b[0;34m**\u001b[0m\u001b[0mkwargs\u001b[0m\u001b[0;34m)\u001b[0m\u001b[0;34m:\u001b[0m\u001b[0;34m\u001b[0m\u001b[0;34m\u001b[0m\u001b[0m\n\u001b[1;32m   1541\u001b[0m         \u001b[0;32mif\u001b[0m \u001b[0mdata\u001b[0m \u001b[0;32mis\u001b[0m \u001b[0;32mNone\u001b[0m\u001b[0;34m:\u001b[0m\u001b[0;34m\u001b[0m\u001b[0;34m\u001b[0m\u001b[0m\n\u001b[0;32m-> 1542\u001b[0;31m             \u001b[0;32mreturn\u001b[0m \u001b[0mfunc\u001b[0m\u001b[0;34m(\u001b[0m\u001b[0max\u001b[0m\u001b[0;34m,\u001b[0m \u001b[0;34m*\u001b[0m\u001b[0mmap\u001b[0m\u001b[0;34m(\u001b[0m\u001b[0msanitize_sequence\u001b[0m\u001b[0;34m,\u001b[0m \u001b[0margs\u001b[0m\u001b[0;34m)\u001b[0m\u001b[0;34m,\u001b[0m \u001b[0;34m**\u001b[0m\u001b[0mkwargs\u001b[0m\u001b[0;34m)\u001b[0m\u001b[0;34m\u001b[0m\u001b[0;34m\u001b[0m\u001b[0m\n\u001b[0m\u001b[1;32m   1543\u001b[0m \u001b[0;34m\u001b[0m\u001b[0m\n\u001b[1;32m   1544\u001b[0m         \u001b[0mbound\u001b[0m \u001b[0;34m=\u001b[0m \u001b[0mnew_sig\u001b[0m\u001b[0;34m.\u001b[0m\u001b[0mbind\u001b[0m\u001b[0;34m(\u001b[0m\u001b[0max\u001b[0m\u001b[0;34m,\u001b[0m \u001b[0;34m*\u001b[0m\u001b[0margs\u001b[0m\u001b[0;34m,\u001b[0m \u001b[0;34m**\u001b[0m\u001b[0mkwargs\u001b[0m\u001b[0;34m)\u001b[0m\u001b[0;34m\u001b[0m\u001b[0;34m\u001b[0m\u001b[0m\n",
      "\u001b[0;32m/usr/lib64/python3.8/site-packages/matplotlib/cbook/deprecation.py\u001b[0m in \u001b[0;36mwrapper\u001b[0;34m(*args, **kwargs)\u001b[0m\n\u001b[1;32m    356\u001b[0m                 \u001b[0;34mf\"%(removal)s.  If any parameter follows {name!r}, they \"\u001b[0m\u001b[0;34m\u001b[0m\u001b[0;34m\u001b[0m\u001b[0m\n\u001b[1;32m    357\u001b[0m                 f\"should be pass as keyword, not positionally.\")\n\u001b[0;32m--> 358\u001b[0;31m         \u001b[0;32mreturn\u001b[0m \u001b[0mfunc\u001b[0m\u001b[0;34m(\u001b[0m\u001b[0;34m*\u001b[0m\u001b[0margs\u001b[0m\u001b[0;34m,\u001b[0m \u001b[0;34m**\u001b[0m\u001b[0mkwargs\u001b[0m\u001b[0;34m)\u001b[0m\u001b[0;34m\u001b[0m\u001b[0;34m\u001b[0m\u001b[0m\n\u001b[0m\u001b[1;32m    359\u001b[0m \u001b[0;34m\u001b[0m\u001b[0m\n\u001b[1;32m    360\u001b[0m     \u001b[0;32mreturn\u001b[0m \u001b[0mwrapper\u001b[0m\u001b[0;34m\u001b[0m\u001b[0;34m\u001b[0m\u001b[0m\n",
      "\u001b[0;32m/usr/lib64/python3.8/site-packages/matplotlib/cbook/deprecation.py\u001b[0m in \u001b[0;36mwrapper\u001b[0;34m(*args, **kwargs)\u001b[0m\n\u001b[1;32m    356\u001b[0m                 \u001b[0;34mf\"%(removal)s.  If any parameter follows {name!r}, they \"\u001b[0m\u001b[0;34m\u001b[0m\u001b[0;34m\u001b[0m\u001b[0m\n\u001b[1;32m    357\u001b[0m                 f\"should be pass as keyword, not positionally.\")\n\u001b[0;32m--> 358\u001b[0;31m         \u001b[0;32mreturn\u001b[0m \u001b[0mfunc\u001b[0m\u001b[0;34m(\u001b[0m\u001b[0;34m*\u001b[0m\u001b[0margs\u001b[0m\u001b[0;34m,\u001b[0m \u001b[0;34m**\u001b[0m\u001b[0mkwargs\u001b[0m\u001b[0;34m)\u001b[0m\u001b[0;34m\u001b[0m\u001b[0;34m\u001b[0m\u001b[0m\n\u001b[0m\u001b[1;32m    359\u001b[0m \u001b[0;34m\u001b[0m\u001b[0m\n\u001b[1;32m    360\u001b[0m     \u001b[0;32mreturn\u001b[0m \u001b[0mwrapper\u001b[0m\u001b[0;34m\u001b[0m\u001b[0;34m\u001b[0m\u001b[0m\n",
      "\u001b[0;32m/usr/lib64/python3.8/site-packages/matplotlib/axes/_axes.py\u001b[0m in \u001b[0;36mimshow\u001b[0;34m(self, X, cmap, norm, aspect, interpolation, alpha, vmin, vmax, origin, extent, shape, filternorm, filterrad, imlim, resample, url, **kwargs)\u001b[0m\n\u001b[1;32m   5624\u001b[0m                               resample=resample, **kwargs)\n\u001b[1;32m   5625\u001b[0m \u001b[0;34m\u001b[0m\u001b[0m\n\u001b[0;32m-> 5626\u001b[0;31m         \u001b[0mim\u001b[0m\u001b[0;34m.\u001b[0m\u001b[0mset_data\u001b[0m\u001b[0;34m(\u001b[0m\u001b[0mX\u001b[0m\u001b[0;34m)\u001b[0m\u001b[0;34m\u001b[0m\u001b[0;34m\u001b[0m\u001b[0m\n\u001b[0m\u001b[1;32m   5627\u001b[0m         \u001b[0mim\u001b[0m\u001b[0;34m.\u001b[0m\u001b[0mset_alpha\u001b[0m\u001b[0;34m(\u001b[0m\u001b[0malpha\u001b[0m\u001b[0;34m)\u001b[0m\u001b[0;34m\u001b[0m\u001b[0;34m\u001b[0m\u001b[0m\n\u001b[1;32m   5628\u001b[0m         \u001b[0;32mif\u001b[0m \u001b[0mim\u001b[0m\u001b[0;34m.\u001b[0m\u001b[0mget_clip_path\u001b[0m\u001b[0;34m(\u001b[0m\u001b[0;34m)\u001b[0m \u001b[0;32mis\u001b[0m \u001b[0;32mNone\u001b[0m\u001b[0;34m:\u001b[0m\u001b[0;34m\u001b[0m\u001b[0;34m\u001b[0m\u001b[0m\n",
      "\u001b[0;32m/usr/lib64/python3.8/site-packages/matplotlib/image.py\u001b[0m in \u001b[0;36mset_data\u001b[0;34m(self, A)\u001b[0m\n\u001b[1;32m    696\u001b[0m         if not (self._A.ndim == 2\n\u001b[1;32m    697\u001b[0m                 or self._A.ndim == 3 and self._A.shape[-1] in [3, 4]):\n\u001b[0;32m--> 698\u001b[0;31m             raise TypeError(\"Invalid shape {} for image data\"\n\u001b[0m\u001b[1;32m    699\u001b[0m                             .format(self._A.shape))\n\u001b[1;32m    700\u001b[0m \u001b[0;34m\u001b[0m\u001b[0m\n",
      "\u001b[0;31mTypeError\u001b[0m: Invalid shape (4, 373, 375) for image data"
     ]
    },
    {
     "data": {
      "image/png": "[encoded data removed]",
      "text/plain": [
       "<Figure size 432x288 with 1 Axes>"
      ]
     },
     "metadata": {
      "needs_background": "light"
     },
     "output_type": "display_data"
    }
   ],
   "source": [
    "pyplot.imshow(clip)\n",
    "pyplot.show()"
   ]
  },
  {
   "cell_type": "markdown",
   "metadata": {},
   "source": [
    "# SHOW NDVI"
   ]
  },
  {
   "cell_type": "code",
   "execution_count": 24,
   "metadata": {},
   "outputs": [
    {
     "data": {
      "image/png": "[encoded data removed]",
      "text/plain": [
       "<Figure size 432x288 with 1 Axes>"
      ]
     },
     "metadata": {
      "needs_background": "light"
     },
     "output_type": "display_data"
    }
   ],
   "source": [
    "from PIL import Image\n",
    "ndvi = Image.open(\"NDVI.tif\").convert('L')\n",
    "pyplot.imshow(ndvi)\n",
    "pyplot.show()"
   ]
  },
  {
   "cell_type": "markdown",
   "metadata": {},
   "source": [
    "# EXTENSION"
   ]
  },
  {
   "cell_type": "code",
   "execution_count": 133,
   "metadata": {},
   "outputs": [
    {
     "name": "stdout",
     "output_type": "stream",
     "text": [
      "15\n",
      "[-70.89619160902487, -33.76822985982048, -70.89599389363235, -33.76803355030987]\n"
     ]
    }
   ],
   "source": [
    "import shapefile\n",
    "sf = shapefile.Reader(\"T2_P7.shp\")\n",
    "print(sf.shapeType)\n",
    "\n",
    "print(sf.bbox) #longitud, latitud, longitud, latitud"
   ]
  },
  {
   "cell_type": "markdown",
   "metadata": {},
   "source": [
    "# reproject geotif CORRECTLY"
   ]
  },
  {
   "cell_type": "code",
   "execution_count": 129,
   "metadata": {},
   "outputs": [],
   "source": [
    "#from osgeo import gdal\n",
    "\n",
    "#filename = inraster\n",
    "#input_raster = gdal.Open(filename)\n",
    "#for epsg in [\"EPSG:4839\", \"EPSG:3068\", \"EPSG:25833\"]:\n",
    "#    gdal.Warp('output_raster' + epsg + '.tif', input_raster, dstSRS=epsg)"
   ]
  },
  {
   "cell_type": "code",
   "execution_count": 130,
   "metadata": {},
   "outputs": [],
   "source": [
    "import os\n",
    "import numpy as np\n",
    "import rasterio as rio\n",
    "from rasterio.warp import calculate_default_transform, reproject, Resampling\n",
    "import earthpy as et"
   ]
  },
  {
   "cell_type": "code",
   "execution_count": 131,
   "metadata": {},
   "outputs": [],
   "source": [
    "def reproject_et(inpath, outpath, new_crs):\n",
    "    dst_crs = new_crs # CRS for web meractor \n",
    "\n",
    "    with rio.open(inpath) as src:\n",
    "        transform, width, height = calculate_default_transform(\n",
    "            src.crs, dst_crs, src.width, src.height, *src.bounds)\n",
    "        kwargs = src.meta.copy()\n",
    "        kwargs.update({\n",
    "            'crs': dst_crs,\n",
    "            'transform': transform,\n",
    "            'width': width,\n",
    "            'height': height\n",
    "        })\n",
    "\n",
    "        with rio.open(outpath, 'w', **kwargs) as dst:\n",
    "            for i in range(1, src.count + 1):\n",
    "                reproject(\n",
    "                    source=rio.band(src, i),\n",
    "                    destination=rio.band(dst, i),\n",
    "                    src_transform=src.transform,\n",
    "                    src_crs=src.crs,\n",
    "                    dst_transform=transform,\n",
    "                    dst_crs=dst_crs,\n",
    "                    resampling=Resampling.nearest)"
   ]
  },
  {
   "cell_type": "code",
   "execution_count": 128,
   "metadata": {},
   "outputs": [],
   "source": [
    "reproject_et('San_Guillermo/Ortomosaico.tif','output/file.tif',new_crs = 'EPSG:4326')\n",
    "reproject_et('NDVI.tif','output/file_ndvi.tif',new_crs = 'EPSG:4326')"
   ]
  },
  {
   "cell_type": "markdown",
   "metadata": {},
   "source": [
    "# CLIP WITHOUT ERROR"
   ]
  },
  {
   "cell_type": "code",
   "execution_count": 98,
   "metadata": {},
   "outputs": [
    {
     "name": "stderr",
     "output_type": "stream",
     "text": [
      "/usr/local/lib/python3.8/site-packages/rasterstats/io.py:302: UserWarning: Setting nodata to -999; specify nodata explicitly\n",
      "  warnings.warn(\"Setting nodata to -999; specify nodata explicitly\")\n"
     ]
    },
    {
     "data": {
      "text/plain": [
       "(373, 376)"
      ]
     },
     "execution_count": 98,
     "metadata": {},
     "output_type": "execute_result"
    }
   ],
   "source": [
    "import fiona\n",
    "from rasterstats.io import Raster\n",
    "\n",
    "def clip_raster_by_shp(rasterpath, shppath, band=1):\n",
    "    \"\"\"\n",
    "    Given an input raster (path) and shapefile (path), returns the raster object\n",
    "    corresponding to the raster defined by the bounds of the shapefile\n",
    "    \"\"\"\n",
    "\n",
    "    with fiona.open(shppath) as f:\n",
    "        geom_bounds = f.bounds\n",
    "\n",
    "    with Raster(rasterpath, band=band) as raster_obj:\n",
    "        rast = raster_obj.read(bounds=geom_bounds) \n",
    "\n",
    "    return rast\n",
    "\n",
    "result=clip_raster_by_shp('output/tif/NDVI.tif','lines1234.shp')\n",
    "result.shape"
   ]
  },
  {
   "cell_type": "code",
   "execution_count": 99,
   "metadata": {},
   "outputs": [
    {
     "data": {
      "text/plain": [
       "(373, 376)"
      ]
     },
     "execution_count": 99,
     "metadata": {},
     "output_type": "execute_result"
    }
   ],
   "source": [
    "result.shape"
   ]
  },
  {
   "cell_type": "code",
   "execution_count": 100,
   "metadata": {},
   "outputs": [
    {
     "data": {
      "text/plain": [
       "<rasterstats.io.Raster at 0x7fd9a28f00d0>"
      ]
     },
     "execution_count": 100,
     "metadata": {},
     "output_type": "execute_result"
    }
   ],
   "source": [
    "result"
   ]
  },
  {
   "cell_type": "code",
   "execution_count": 103,
   "metadata": {},
   "outputs": [
    {
     "ename": "TypeError",
     "evalue": "float() argument must be a string or a number, not 'Raster'",
     "output_type": "error",
     "traceback": [
      "\u001b[0;31m---------------------------------------------------------------------------\u001b[0m",
      "\u001b[0;31mTypeError\u001b[0m                                 Traceback (most recent call last)",
      "\u001b[0;32m<ipython-input-103-60b68472457c>\u001b[0m in \u001b[0;36m<module>\u001b[0;34m\u001b[0m\n\u001b[0;32m----> 1\u001b[0;31m \u001b[0mplt\u001b[0m\u001b[0;34m.\u001b[0m\u001b[0mplot\u001b[0m\u001b[0;34m(\u001b[0m\u001b[0mresult\u001b[0m\u001b[0;34m)\u001b[0m\u001b[0;34m\u001b[0m\u001b[0;34m\u001b[0m\u001b[0m\n\u001b[0m",
      "\u001b[0;32m/usr/lib64/python3.8/site-packages/matplotlib/pyplot.py\u001b[0m in \u001b[0;36mplot\u001b[0;34m(scalex, scaley, data, *args, **kwargs)\u001b[0m\n\u001b[1;32m   2759\u001b[0m \u001b[0;34m@\u001b[0m\u001b[0mdocstring\u001b[0m\u001b[0;34m.\u001b[0m\u001b[0mcopy\u001b[0m\u001b[0;34m(\u001b[0m\u001b[0mAxes\u001b[0m\u001b[0;34m.\u001b[0m\u001b[0mplot\u001b[0m\u001b[0;34m)\u001b[0m\u001b[0;34m\u001b[0m\u001b[0;34m\u001b[0m\u001b[0m\n\u001b[1;32m   2760\u001b[0m \u001b[0;32mdef\u001b[0m \u001b[0mplot\u001b[0m\u001b[0;34m(\u001b[0m\u001b[0;34m*\u001b[0m\u001b[0margs\u001b[0m\u001b[0;34m,\u001b[0m \u001b[0mscalex\u001b[0m\u001b[0;34m=\u001b[0m\u001b[0;32mTrue\u001b[0m\u001b[0;34m,\u001b[0m \u001b[0mscaley\u001b[0m\u001b[0;34m=\u001b[0m\u001b[0;32mTrue\u001b[0m\u001b[0;34m,\u001b[0m \u001b[0mdata\u001b[0m\u001b[0;34m=\u001b[0m\u001b[0;32mNone\u001b[0m\u001b[0;34m,\u001b[0m \u001b[0;34m**\u001b[0m\u001b[0mkwargs\u001b[0m\u001b[0;34m)\u001b[0m\u001b[0;34m:\u001b[0m\u001b[0;34m\u001b[0m\u001b[0;34m\u001b[0m\u001b[0m\n\u001b[0;32m-> 2761\u001b[0;31m     return gca().plot(\n\u001b[0m\u001b[1;32m   2762\u001b[0m         *args, scalex=scalex, scaley=scaley, **({\"data\": data} if data\n\u001b[1;32m   2763\u001b[0m         is not None else {}), **kwargs)\n",
      "\u001b[0;32m/usr/lib64/python3.8/site-packages/matplotlib/axes/_axes.py\u001b[0m in \u001b[0;36mplot\u001b[0;34m(self, scalex, scaley, data, *args, **kwargs)\u001b[0m\n\u001b[1;32m   1647\u001b[0m         \u001b[0mlines\u001b[0m \u001b[0;34m=\u001b[0m \u001b[0;34m[\u001b[0m\u001b[0;34m*\u001b[0m\u001b[0mself\u001b[0m\u001b[0;34m.\u001b[0m\u001b[0m_get_lines\u001b[0m\u001b[0;34m(\u001b[0m\u001b[0;34m*\u001b[0m\u001b[0margs\u001b[0m\u001b[0;34m,\u001b[0m \u001b[0mdata\u001b[0m\u001b[0;34m=\u001b[0m\u001b[0mdata\u001b[0m\u001b[0;34m,\u001b[0m \u001b[0;34m**\u001b[0m\u001b[0mkwargs\u001b[0m\u001b[0;34m)\u001b[0m\u001b[0;34m]\u001b[0m\u001b[0;34m\u001b[0m\u001b[0;34m\u001b[0m\u001b[0m\n\u001b[1;32m   1648\u001b[0m         \u001b[0;32mfor\u001b[0m \u001b[0mline\u001b[0m \u001b[0;32min\u001b[0m \u001b[0mlines\u001b[0m\u001b[0;34m:\u001b[0m\u001b[0;34m\u001b[0m\u001b[0;34m\u001b[0m\u001b[0m\n\u001b[0;32m-> 1649\u001b[0;31m             \u001b[0mself\u001b[0m\u001b[0;34m.\u001b[0m\u001b[0madd_line\u001b[0m\u001b[0;34m(\u001b[0m\u001b[0mline\u001b[0m\u001b[0;34m)\u001b[0m\u001b[0;34m\u001b[0m\u001b[0;34m\u001b[0m\u001b[0m\n\u001b[0m\u001b[1;32m   1650\u001b[0m         \u001b[0mself\u001b[0m\u001b[0;34m.\u001b[0m\u001b[0m_request_autoscale_view\u001b[0m\u001b[0;34m(\u001b[0m\u001b[0mscalex\u001b[0m\u001b[0;34m=\u001b[0m\u001b[0mscalex\u001b[0m\u001b[0;34m,\u001b[0m \u001b[0mscaley\u001b[0m\u001b[0;34m=\u001b[0m\u001b[0mscaley\u001b[0m\u001b[0;34m)\u001b[0m\u001b[0;34m\u001b[0m\u001b[0;34m\u001b[0m\u001b[0m\n\u001b[1;32m   1651\u001b[0m         \u001b[0;32mreturn\u001b[0m \u001b[0mlines\u001b[0m\u001b[0;34m\u001b[0m\u001b[0;34m\u001b[0m\u001b[0m\n",
      "\u001b[0;32m/usr/lib64/python3.8/site-packages/matplotlib/axes/_base.py\u001b[0m in \u001b[0;36madd_line\u001b[0;34m(self, line)\u001b[0m\n\u001b[1;32m   1848\u001b[0m             \u001b[0mline\u001b[0m\u001b[0;34m.\u001b[0m\u001b[0mset_clip_path\u001b[0m\u001b[0;34m(\u001b[0m\u001b[0mself\u001b[0m\u001b[0;34m.\u001b[0m\u001b[0mpatch\u001b[0m\u001b[0;34m)\u001b[0m\u001b[0;34m\u001b[0m\u001b[0;34m\u001b[0m\u001b[0m\n\u001b[1;32m   1849\u001b[0m \u001b[0;34m\u001b[0m\u001b[0m\n\u001b[0;32m-> 1850\u001b[0;31m         \u001b[0mself\u001b[0m\u001b[0;34m.\u001b[0m\u001b[0m_update_line_limits\u001b[0m\u001b[0;34m(\u001b[0m\u001b[0mline\u001b[0m\u001b[0;34m)\u001b[0m\u001b[0;34m\u001b[0m\u001b[0;34m\u001b[0m\u001b[0m\n\u001b[0m\u001b[1;32m   1851\u001b[0m         \u001b[0;32mif\u001b[0m \u001b[0;32mnot\u001b[0m \u001b[0mline\u001b[0m\u001b[0;34m.\u001b[0m\u001b[0mget_label\u001b[0m\u001b[0;34m(\u001b[0m\u001b[0;34m)\u001b[0m\u001b[0;34m:\u001b[0m\u001b[0;34m\u001b[0m\u001b[0;34m\u001b[0m\u001b[0m\n\u001b[1;32m   1852\u001b[0m             \u001b[0mline\u001b[0m\u001b[0;34m.\u001b[0m\u001b[0mset_label\u001b[0m\u001b[0;34m(\u001b[0m\u001b[0;34m'_line%d'\u001b[0m \u001b[0;34m%\u001b[0m \u001b[0mlen\u001b[0m\u001b[0;34m(\u001b[0m\u001b[0mself\u001b[0m\u001b[0;34m.\u001b[0m\u001b[0mlines\u001b[0m\u001b[0;34m)\u001b[0m\u001b[0;34m)\u001b[0m\u001b[0;34m\u001b[0m\u001b[0;34m\u001b[0m\u001b[0m\n",
      "\u001b[0;32m/usr/lib64/python3.8/site-packages/matplotlib/axes/_base.py\u001b[0m in \u001b[0;36m_update_line_limits\u001b[0;34m(self, line)\u001b[0m\n\u001b[1;32m   1870\u001b[0m         \u001b[0mFigures\u001b[0m \u001b[0mout\u001b[0m \u001b[0mthe\u001b[0m \u001b[0mdata\u001b[0m \u001b[0mlimit\u001b[0m \u001b[0mof\u001b[0m \u001b[0mthe\u001b[0m \u001b[0mgiven\u001b[0m \u001b[0mline\u001b[0m\u001b[0;34m,\u001b[0m \u001b[0mupdating\u001b[0m \u001b[0mself\u001b[0m\u001b[0;34m.\u001b[0m\u001b[0mdataLim\u001b[0m\u001b[0;34m.\u001b[0m\u001b[0;34m\u001b[0m\u001b[0;34m\u001b[0m\u001b[0m\n\u001b[1;32m   1871\u001b[0m         \"\"\"\n\u001b[0;32m-> 1872\u001b[0;31m         \u001b[0mpath\u001b[0m \u001b[0;34m=\u001b[0m \u001b[0mline\u001b[0m\u001b[0;34m.\u001b[0m\u001b[0mget_path\u001b[0m\u001b[0;34m(\u001b[0m\u001b[0;34m)\u001b[0m\u001b[0;34m\u001b[0m\u001b[0;34m\u001b[0m\u001b[0m\n\u001b[0m\u001b[1;32m   1873\u001b[0m         \u001b[0;32mif\u001b[0m \u001b[0mpath\u001b[0m\u001b[0;34m.\u001b[0m\u001b[0mvertices\u001b[0m\u001b[0;34m.\u001b[0m\u001b[0msize\u001b[0m \u001b[0;34m==\u001b[0m \u001b[0;36m0\u001b[0m\u001b[0;34m:\u001b[0m\u001b[0;34m\u001b[0m\u001b[0;34m\u001b[0m\u001b[0m\n\u001b[1;32m   1874\u001b[0m             \u001b[0;32mreturn\u001b[0m\u001b[0;34m\u001b[0m\u001b[0;34m\u001b[0m\u001b[0m\n",
      "\u001b[0;32m/usr/lib64/python3.8/site-packages/matplotlib/lines.py\u001b[0m in \u001b[0;36mget_path\u001b[0;34m(self)\u001b[0m\n\u001b[1;32m   1025\u001b[0m         \"\"\"\n\u001b[1;32m   1026\u001b[0m         \u001b[0;32mif\u001b[0m \u001b[0mself\u001b[0m\u001b[0;34m.\u001b[0m\u001b[0m_invalidy\u001b[0m \u001b[0;32mor\u001b[0m \u001b[0mself\u001b[0m\u001b[0;34m.\u001b[0m\u001b[0m_invalidx\u001b[0m\u001b[0;34m:\u001b[0m\u001b[0;34m\u001b[0m\u001b[0;34m\u001b[0m\u001b[0m\n\u001b[0;32m-> 1027\u001b[0;31m             \u001b[0mself\u001b[0m\u001b[0;34m.\u001b[0m\u001b[0mrecache\u001b[0m\u001b[0;34m(\u001b[0m\u001b[0;34m)\u001b[0m\u001b[0;34m\u001b[0m\u001b[0;34m\u001b[0m\u001b[0m\n\u001b[0m\u001b[1;32m   1028\u001b[0m         \u001b[0;32mreturn\u001b[0m \u001b[0mself\u001b[0m\u001b[0;34m.\u001b[0m\u001b[0m_path\u001b[0m\u001b[0;34m\u001b[0m\u001b[0;34m\u001b[0m\u001b[0m\n\u001b[1;32m   1029\u001b[0m \u001b[0;34m\u001b[0m\u001b[0m\n",
      "\u001b[0;32m/usr/lib64/python3.8/site-packages/matplotlib/lines.py\u001b[0m in \u001b[0;36mrecache\u001b[0;34m(self, always)\u001b[0m\n\u001b[1;32m    673\u001b[0m         \u001b[0;32mif\u001b[0m \u001b[0malways\u001b[0m \u001b[0;32mor\u001b[0m \u001b[0mself\u001b[0m\u001b[0;34m.\u001b[0m\u001b[0m_invalidy\u001b[0m\u001b[0;34m:\u001b[0m\u001b[0;34m\u001b[0m\u001b[0;34m\u001b[0m\u001b[0m\n\u001b[1;32m    674\u001b[0m             \u001b[0myconv\u001b[0m \u001b[0;34m=\u001b[0m \u001b[0mself\u001b[0m\u001b[0;34m.\u001b[0m\u001b[0mconvert_yunits\u001b[0m\u001b[0;34m(\u001b[0m\u001b[0mself\u001b[0m\u001b[0;34m.\u001b[0m\u001b[0m_yorig\u001b[0m\u001b[0;34m)\u001b[0m\u001b[0;34m\u001b[0m\u001b[0;34m\u001b[0m\u001b[0m\n\u001b[0;32m--> 675\u001b[0;31m             \u001b[0my\u001b[0m \u001b[0;34m=\u001b[0m \u001b[0m_to_unmasked_float_array\u001b[0m\u001b[0;34m(\u001b[0m\u001b[0myconv\u001b[0m\u001b[0;34m)\u001b[0m\u001b[0;34m.\u001b[0m\u001b[0mravel\u001b[0m\u001b[0;34m(\u001b[0m\u001b[0;34m)\u001b[0m\u001b[0;34m\u001b[0m\u001b[0;34m\u001b[0m\u001b[0m\n\u001b[0m\u001b[1;32m    676\u001b[0m         \u001b[0;32melse\u001b[0m\u001b[0;34m:\u001b[0m\u001b[0;34m\u001b[0m\u001b[0;34m\u001b[0m\u001b[0m\n\u001b[1;32m    677\u001b[0m             \u001b[0my\u001b[0m \u001b[0;34m=\u001b[0m \u001b[0mself\u001b[0m\u001b[0;34m.\u001b[0m\u001b[0m_y\u001b[0m\u001b[0;34m\u001b[0m\u001b[0;34m\u001b[0m\u001b[0m\n",
      "\u001b[0;32m/usr/lib64/python3.8/site-packages/matplotlib/cbook/__init__.py\u001b[0m in \u001b[0;36m_to_unmasked_float_array\u001b[0;34m(x)\u001b[0m\n\u001b[1;32m   1315\u001b[0m         \u001b[0;32mreturn\u001b[0m \u001b[0mnp\u001b[0m\u001b[0;34m.\u001b[0m\u001b[0mma\u001b[0m\u001b[0;34m.\u001b[0m\u001b[0masarray\u001b[0m\u001b[0;34m(\u001b[0m\u001b[0mx\u001b[0m\u001b[0;34m,\u001b[0m \u001b[0mfloat\u001b[0m\u001b[0;34m)\u001b[0m\u001b[0;34m.\u001b[0m\u001b[0mfilled\u001b[0m\u001b[0;34m(\u001b[0m\u001b[0mnp\u001b[0m\u001b[0;34m.\u001b[0m\u001b[0mnan\u001b[0m\u001b[0;34m)\u001b[0m\u001b[0;34m\u001b[0m\u001b[0;34m\u001b[0m\u001b[0m\n\u001b[1;32m   1316\u001b[0m     \u001b[0;32melse\u001b[0m\u001b[0;34m:\u001b[0m\u001b[0;34m\u001b[0m\u001b[0;34m\u001b[0m\u001b[0m\n\u001b[0;32m-> 1317\u001b[0;31m         \u001b[0;32mreturn\u001b[0m \u001b[0mnp\u001b[0m\u001b[0;34m.\u001b[0m\u001b[0masarray\u001b[0m\u001b[0;34m(\u001b[0m\u001b[0mx\u001b[0m\u001b[0;34m,\u001b[0m \u001b[0mfloat\u001b[0m\u001b[0;34m)\u001b[0m\u001b[0;34m\u001b[0m\u001b[0;34m\u001b[0m\u001b[0m\n\u001b[0m\u001b[1;32m   1318\u001b[0m \u001b[0;34m\u001b[0m\u001b[0m\n\u001b[1;32m   1319\u001b[0m \u001b[0;34m\u001b[0m\u001b[0m\n",
      "\u001b[0;32m/usr/local/lib64/python3.8/site-packages/numpy/core/_asarray.py\u001b[0m in \u001b[0;36masarray\u001b[0;34m(a, dtype, order)\u001b[0m\n\u001b[1;32m     81\u001b[0m \u001b[0;34m\u001b[0m\u001b[0m\n\u001b[1;32m     82\u001b[0m     \"\"\"\n\u001b[0;32m---> 83\u001b[0;31m     \u001b[0;32mreturn\u001b[0m \u001b[0marray\u001b[0m\u001b[0;34m(\u001b[0m\u001b[0ma\u001b[0m\u001b[0;34m,\u001b[0m \u001b[0mdtype\u001b[0m\u001b[0;34m,\u001b[0m \u001b[0mcopy\u001b[0m\u001b[0;34m=\u001b[0m\u001b[0;32mFalse\u001b[0m\u001b[0;34m,\u001b[0m \u001b[0morder\u001b[0m\u001b[0;34m=\u001b[0m\u001b[0morder\u001b[0m\u001b[0;34m)\u001b[0m\u001b[0;34m\u001b[0m\u001b[0;34m\u001b[0m\u001b[0m\n\u001b[0m\u001b[1;32m     84\u001b[0m \u001b[0;34m\u001b[0m\u001b[0m\n\u001b[1;32m     85\u001b[0m \u001b[0;34m\u001b[0m\u001b[0m\n",
      "\u001b[0;31mTypeError\u001b[0m: float() argument must be a string or a number, not 'Raster'"
     ]
    },
    {
     "data": {
      "image/png": "[encoded data removed]",
      "text/plain": [
       "<Figure size 432x288 with 1 Axes>"
      ]
     },
     "metadata": {
      "needs_background": "light"
     },
     "output_type": "display_data"
    }
   ],
   "source": [
    "plt.plot(result)"
   ]
  },
  {
   "cell_type": "markdown",
   "metadata": {},
   "source": [
    "# CLIP"
   ]
  },
  {
   "cell_type": "code",
   "execution_count": 97,
   "metadata": {},
   "outputs": [
    {
     "name": "stdout",
     "output_type": "stream",
     "text": [
      "[-70.89619160902487, -33.76822985982048, -70.89599389363235, -33.76803355030987]\n",
      "[[0 0 0 ... 0 0 0]\n",
      " [0 0 0 ... 0 0 0]\n",
      " [0 0 0 ... 0 0 0]\n",
      " ...\n",
      " [0 0 0 ... 0 0 0]\n",
      " [0 0 0 ... 0 0 0]\n",
      " [0 0 0 ... 0 0 0]]\n",
      "8431\n",
      "8431\n"
     ]
    },
    {
     "data": {
      "image/png": "[encoded data removed]",
      "text/plain": [
       "<Figure size 432x288 with 1 Axes>"
      ]
     },
     "metadata": {},
     "output_type": "display_data"
    }
   ],
   "source": [
    "from mpl_toolkits.basemap import Basemap\n",
    "from matplotlib.path import Path\n",
    "from matplotlib.patches import PathPatch\n",
    "import matplotlib.pyplot as plt\n",
    "from osgeo import gdal\n",
    "import numpy\n",
    "import shapefile\n",
    "\n",
    "fig = plt.figure()\n",
    "ax = fig.add_subplot(111)\n",
    "\n",
    "sf = shapefile.Reader(\"lines1234.shp\")\n",
    "\n",
    "print(sf.bbox) #longitud, latitud, longitud, latitud\n",
    "for shape_rec in sf.shapeRecords():\n",
    "   \n",
    "    vertices = []\n",
    "    codes = []\n",
    "    pts = shape_rec.shape.points\n",
    "    prt = list(shape_rec.shape.parts) + [len(pts)]\n",
    "    for i in range(len(prt) - 1):\n",
    "        for j in range(prt[i], prt[i+1]):\n",
    "            vertices.append((pts[j][0], pts[j][1]))\n",
    "        codes += [Path.MOVETO]\n",
    "        codes += [Path.LINETO] * (prt[i+1] - prt[i] -2)\n",
    "        codes += [Path.CLOSEPOLY]\n",
    "    clip = Path(vertices, codes)\n",
    "    clip = PathPatch(clip, transform=ax.transData)\n",
    "\n",
    "\n",
    "m = Basemap(llcrnrlon=sf.bbox[0],\n",
    "    llcrnrlat=sf.bbox[1],\n",
    "    urcrnrlon=sf.bbox[2],\n",
    "    urcrnrlat=sf.bbox[3],\n",
    "    resolution = None, \n",
    "    projection = 'cyl')\n",
    "#-70.89619160902487, -33.76822985982048, -70.89599389363235, -33.76803355030987\n",
    "ds = gdal.Open('output/tif/NDVI.tif')\n",
    "#ds = ds.GetRasterBand(1)\n",
    "#print(ds)\n",
    "data = ds.ReadAsArray()[1]\n",
    "print(data)\n",
    "gt = ds.GetGeoTransform()\n",
    "x = numpy.linspace(gt[0], gt[0] + gt[1] * data.shape[1], data.shape[1])\n",
    "y = numpy.linspace(gt[3], gt[3] + gt[5] * data.shape[0], data.shape[0])\n",
    "\n",
    "xx, yy = numpy.meshgrid(x, y)\n",
    "\n",
    "print(len(xx))\n",
    "print(len(yy))\n",
    "cs = m.contourf(xx,yy,data,range(0,8818,5671))\n",
    "\n",
    "for contour in cs.collections:\n",
    "        contour.set_clip_path(clip)\n",
    "\n",
    "plt.show()"
   ]
  },
  {
   "cell_type": "code",
   "execution_count": 136,
   "metadata": {},
   "outputs": [
    {
     "data": {
      "text/plain": [
       "[<matplotlib.lines.Line2D at 0x7fd941b712b0>,\n",
       " <matplotlib.lines.Line2D at 0x7fd941b713d0>,\n",
       " <matplotlib.lines.Line2D at 0x7fd941b71490>,\n",
       " <matplotlib.lines.Line2D at 0x7fd941b71550>,\n",
       " <matplotlib.lines.Line2D at 0x7fd941b71610>,\n",
       " <matplotlib.lines.Line2D at 0x7fd941b716d0>,\n",
       " <matplotlib.lines.Line2D at 0x7fd941b71790>,\n",
       " <matplotlib.lines.Line2D at 0x7fd941b71850>,\n",
       " <matplotlib.lines.Line2D at 0x7fd941b71910>,\n",
       " <matplotlib.lines.Line2D at 0x7fd941b719d0>,\n",
       " <matplotlib.lines.Line2D at 0x7fd941ba1520>,\n",
       " <matplotlib.lines.Line2D at 0x7fd941b71af0>,\n",
       " <matplotlib.lines.Line2D at 0x7fd941b71be0>,\n",
       " <matplotlib.lines.Line2D at 0x7fd941b71ca0>,\n",
       " <matplotlib.lines.Line2D at 0x7fd941b71d60>,\n",
       " <matplotlib.lines.Line2D at 0x7fd941b71e20>,\n",
       " <matplotlib.lines.Line2D at 0x7fd941b71ee0>,\n",
       " <matplotlib.lines.Line2D at 0x7fd941b71fa0>,\n",
       " <matplotlib.lines.Line2D at 0x7fd941b7a0a0>,\n",
       " <matplotlib.lines.Line2D at 0x7fd941b7a160>,\n",
       " <matplotlib.lines.Line2D at 0x7fd941b7a220>,\n",
       " <matplotlib.lines.Line2D at 0x7fd941b7a2e0>,\n",
       " <matplotlib.lines.Line2D at 0x7fd941b7a3a0>,\n",
       " <matplotlib.lines.Line2D at 0x7fd941b7a460>,\n",
       " <matplotlib.lines.Line2D at 0x7fd941b7a520>,\n",
       " <matplotlib.lines.Line2D at 0x7fd941b7a5e0>,\n",
       " <matplotlib.lines.Line2D at 0x7fd941b7a6a0>,\n",
       " <matplotlib.lines.Line2D at 0x7fd941b7a760>,\n",
       " <matplotlib.lines.Line2D at 0x7fd941b7a820>,\n",
       " <matplotlib.lines.Line2D at 0x7fd941b7a8e0>,\n",
       " <matplotlib.lines.Line2D at 0x7fd941b7a9a0>,\n",
       " <matplotlib.lines.Line2D at 0x7fd941b7aa60>,\n",
       " <matplotlib.lines.Line2D at 0x7fd941b7ab20>,\n",
       " <matplotlib.lines.Line2D at 0x7fd941b7abe0>,\n",
       " <matplotlib.lines.Line2D at 0x7fd941b7aca0>,\n",
       " <matplotlib.lines.Line2D at 0x7fd941b7ad60>,\n",
       " <matplotlib.lines.Line2D at 0x7fd941b7ae20>,\n",
       " <matplotlib.lines.Line2D at 0x7fd941b7aee0>,\n",
       " <matplotlib.lines.Line2D at 0x7fd941b7afa0>,\n",
       " <matplotlib.lines.Line2D at 0x7fd941b820a0>,\n",
       " <matplotlib.lines.Line2D at 0x7fd941b82160>,\n",
       " <matplotlib.lines.Line2D at 0x7fd941b82220>,\n",
       " <matplotlib.lines.Line2D at 0x7fd941b822e0>,\n",
       " <matplotlib.lines.Line2D at 0x7fd941b823a0>,\n",
       " <matplotlib.lines.Line2D at 0x7fd941b82460>,\n",
       " <matplotlib.lines.Line2D at 0x7fd941b82520>,\n",
       " <matplotlib.lines.Line2D at 0x7fd941b825e0>,\n",
       " <matplotlib.lines.Line2D at 0x7fd941b826a0>,\n",
       " <matplotlib.lines.Line2D at 0x7fd941b82760>,\n",
       " <matplotlib.lines.Line2D at 0x7fd941b82820>,\n",
       " <matplotlib.lines.Line2D at 0x7fd941b828e0>,\n",
       " <matplotlib.lines.Line2D at 0x7fd941b829a0>,\n",
       " <matplotlib.lines.Line2D at 0x7fd941b82a60>,\n",
       " <matplotlib.lines.Line2D at 0x7fd941b82b20>,\n",
       " <matplotlib.lines.Line2D at 0x7fd941b82be0>,\n",
       " <matplotlib.lines.Line2D at 0x7fd941b82ca0>,\n",
       " <matplotlib.lines.Line2D at 0x7fd941b82d60>,\n",
       " <matplotlib.lines.Line2D at 0x7fd941b82e20>,\n",
       " <matplotlib.lines.Line2D at 0x7fd941b82ee0>,\n",
       " <matplotlib.lines.Line2D at 0x7fd941b82fa0>,\n",
       " <matplotlib.lines.Line2D at 0x7fd941b8a0a0>,\n",
       " <matplotlib.lines.Line2D at 0x7fd941b8a160>,\n",
       " <matplotlib.lines.Line2D at 0x7fd941b8a220>,\n",
       " <matplotlib.lines.Line2D at 0x7fd941b8a2e0>,\n",
       " <matplotlib.lines.Line2D at 0x7fd941b8a3a0>,\n",
       " <matplotlib.lines.Line2D at 0x7fd941b8a460>,\n",
       " <matplotlib.lines.Line2D at 0x7fd941b8a520>,\n",
       " <matplotlib.lines.Line2D at 0x7fd941b8a5e0>,\n",
       " <matplotlib.lines.Line2D at 0x7fd941b8a6a0>,\n",
       " <matplotlib.lines.Line2D at 0x7fd941b8a760>,\n",
       " <matplotlib.lines.Line2D at 0x7fd941b8a820>,\n",
       " <matplotlib.lines.Line2D at 0x7fd941b8a8e0>,\n",
       " <matplotlib.lines.Line2D at 0x7fd941b8a9a0>,\n",
       " <matplotlib.lines.Line2D at 0x7fd941b8aa60>,\n",
       " <matplotlib.lines.Line2D at 0x7fd941b8ab20>,\n",
       " <matplotlib.lines.Line2D at 0x7fd941b8abe0>,\n",
       " <matplotlib.lines.Line2D at 0x7fd941b8aca0>,\n",
       " <matplotlib.lines.Line2D at 0x7fd941b8ad60>,\n",
       " <matplotlib.lines.Line2D at 0x7fd941b8ae20>,\n",
       " <matplotlib.lines.Line2D at 0x7fd941b8aee0>,\n",
       " <matplotlib.lines.Line2D at 0x7fd941b8afa0>,\n",
       " <matplotlib.lines.Line2D at 0x7fd941b910a0>,\n",
       " <matplotlib.lines.Line2D at 0x7fd941b91160>,\n",
       " <matplotlib.lines.Line2D at 0x7fd941b91220>,\n",
       " <matplotlib.lines.Line2D at 0x7fd941b912e0>,\n",
       " <matplotlib.lines.Line2D at 0x7fd941b913a0>,\n",
       " <matplotlib.lines.Line2D at 0x7fd941b91460>,\n",
       " <matplotlib.lines.Line2D at 0x7fd941b91520>,\n",
       " <matplotlib.lines.Line2D at 0x7fd941b915e0>,\n",
       " <matplotlib.lines.Line2D at 0x7fd941b916a0>,\n",
       " <matplotlib.lines.Line2D at 0x7fd941b91760>,\n",
       " <matplotlib.lines.Line2D at 0x7fd941b91820>,\n",
       " <matplotlib.lines.Line2D at 0x7fd941b918e0>,\n",
       " <matplotlib.lines.Line2D at 0x7fd941b919a0>,\n",
       " <matplotlib.lines.Line2D at 0x7fd941b91a60>,\n",
       " <matplotlib.lines.Line2D at 0x7fd941b91b20>,\n",
       " <matplotlib.lines.Line2D at 0x7fd941b91be0>,\n",
       " <matplotlib.lines.Line2D at 0x7fd941b91ca0>,\n",
       " <matplotlib.lines.Line2D at 0x7fd941b91d60>,\n",
       " <matplotlib.lines.Line2D at 0x7fd941b91e20>,\n",
       " <matplotlib.lines.Line2D at 0x7fd941b91ee0>,\n",
       " <matplotlib.lines.Line2D at 0x7fd941b91fa0>,\n",
       " <matplotlib.lines.Line2D at 0x7fd941b190a0>,\n",
       " <matplotlib.lines.Line2D at 0x7fd941b19160>,\n",
       " <matplotlib.lines.Line2D at 0x7fd941b19220>,\n",
       " <matplotlib.lines.Line2D at 0x7fd941b192e0>,\n",
       " <matplotlib.lines.Line2D at 0x7fd941b193a0>,\n",
       " <matplotlib.lines.Line2D at 0x7fd941b19460>,\n",
       " <matplotlib.lines.Line2D at 0x7fd941b19520>,\n",
       " <matplotlib.lines.Line2D at 0x7fd941b195e0>,\n",
       " <matplotlib.lines.Line2D at 0x7fd941b196a0>,\n",
       " <matplotlib.lines.Line2D at 0x7fd941b19760>,\n",
       " <matplotlib.lines.Line2D at 0x7fd941b19820>,\n",
       " <matplotlib.lines.Line2D at 0x7fd941b198e0>,\n",
       " <matplotlib.lines.Line2D at 0x7fd941b199a0>,\n",
       " <matplotlib.lines.Line2D at 0x7fd941b19a60>,\n",
       " <matplotlib.lines.Line2D at 0x7fd941b19b20>,\n",
       " <matplotlib.lines.Line2D at 0x7fd941b19be0>,\n",
       " <matplotlib.lines.Line2D at 0x7fd941b19ca0>,\n",
       " <matplotlib.lines.Line2D at 0x7fd941b19d60>,\n",
       " <matplotlib.lines.Line2D at 0x7fd941b19e20>,\n",
       " <matplotlib.lines.Line2D at 0x7fd941b19ee0>,\n",
       " <matplotlib.lines.Line2D at 0x7fd941b19fa0>,\n",
       " <matplotlib.lines.Line2D at 0x7fd941b1f0a0>,\n",
       " <matplotlib.lines.Line2D at 0x7fd941b1f160>,\n",
       " <matplotlib.lines.Line2D at 0x7fd941b1f220>,\n",
       " <matplotlib.lines.Line2D at 0x7fd941b1f2e0>,\n",
       " <matplotlib.lines.Line2D at 0x7fd941b1f3a0>,\n",
       " <matplotlib.lines.Line2D at 0x7fd941b1f460>,\n",
       " <matplotlib.lines.Line2D at 0x7fd941b1f520>,\n",
       " <matplotlib.lines.Line2D at 0x7fd941b1f5e0>,\n",
       " <matplotlib.lines.Line2D at 0x7fd941b1f6a0>,\n",
       " <matplotlib.lines.Line2D at 0x7fd941b1f760>,\n",
       " <matplotlib.lines.Line2D at 0x7fd941b1f820>,\n",
       " <matplotlib.lines.Line2D at 0x7fd941b1f8e0>,\n",
       " <matplotlib.lines.Line2D at 0x7fd941b1f9a0>,\n",
       " <matplotlib.lines.Line2D at 0x7fd941b1fa60>,\n",
       " <matplotlib.lines.Line2D at 0x7fd941b1fb20>,\n",
       " <matplotlib.lines.Line2D at 0x7fd941b1fbe0>,\n",
       " <matplotlib.lines.Line2D at 0x7fd941b1fca0>,\n",
       " <matplotlib.lines.Line2D at 0x7fd941b1fd60>,\n",
       " <matplotlib.lines.Line2D at 0x7fd941b1fe20>,\n",
       " <matplotlib.lines.Line2D at 0x7fd941b1fee0>,\n",
       " <matplotlib.lines.Line2D at 0x7fd941b1ffa0>,\n",
       " <matplotlib.lines.Line2D at 0x7fd941b260a0>,\n",
       " <matplotlib.lines.Line2D at 0x7fd941b26160>,\n",
       " <matplotlib.lines.Line2D at 0x7fd941b26220>,\n",
       " <matplotlib.lines.Line2D at 0x7fd941b262e0>,\n",
       " <matplotlib.lines.Line2D at 0x7fd941b263a0>,\n",
       " <matplotlib.lines.Line2D at 0x7fd941b26460>,\n",
       " <matplotlib.lines.Line2D at 0x7fd941b26520>,\n",
       " <matplotlib.lines.Line2D at 0x7fd941b265e0>,\n",
       " <matplotlib.lines.Line2D at 0x7fd941b266a0>,\n",
       " <matplotlib.lines.Line2D at 0x7fd941b26760>,\n",
       " <matplotlib.lines.Line2D at 0x7fd941b26820>,\n",
       " <matplotlib.lines.Line2D at 0x7fd941b268e0>,\n",
       " <matplotlib.lines.Line2D at 0x7fd941b269a0>,\n",
       " <matplotlib.lines.Line2D at 0x7fd941b26a60>,\n",
       " <matplotlib.lines.Line2D at 0x7fd941b26b20>,\n",
       " <matplotlib.lines.Line2D at 0x7fd941b26be0>,\n",
       " <matplotlib.lines.Line2D at 0x7fd941b26ca0>,\n",
       " <matplotlib.lines.Line2D at 0x7fd941b26d60>,\n",
       " <matplotlib.lines.Line2D at 0x7fd941b26e20>,\n",
       " <matplotlib.lines.Line2D at 0x7fd941b26ee0>,\n",
       " <matplotlib.lines.Line2D at 0x7fd941b26fa0>,\n",
       " <matplotlib.lines.Line2D at 0x7fd941b2d0a0>,\n",
       " <matplotlib.lines.Line2D at 0x7fd941b2d160>,\n",
       " <matplotlib.lines.Line2D at 0x7fd941b2d220>,\n",
       " <matplotlib.lines.Line2D at 0x7fd941b2d2e0>,\n",
       " <matplotlib.lines.Line2D at 0x7fd941b2d3a0>,\n",
       " <matplotlib.lines.Line2D at 0x7fd941b2d460>,\n",
       " <matplotlib.lines.Line2D at 0x7fd941b2d520>,\n",
       " <matplotlib.lines.Line2D at 0x7fd941b2d5e0>,\n",
       " <matplotlib.lines.Line2D at 0x7fd941b2d6a0>,\n",
       " <matplotlib.lines.Line2D at 0x7fd941b2d760>,\n",
       " <matplotlib.lines.Line2D at 0x7fd941b2d820>,\n",
       " <matplotlib.lines.Line2D at 0x7fd941b2d8e0>,\n",
       " <matplotlib.lines.Line2D at 0x7fd941b2d9a0>,\n",
       " <matplotlib.lines.Line2D at 0x7fd941b2da60>,\n",
       " <matplotlib.lines.Line2D at 0x7fd941b2db20>,\n",
       " <matplotlib.lines.Line2D at 0x7fd941b2dbe0>,\n",
       " <matplotlib.lines.Line2D at 0x7fd941b2dca0>,\n",
       " <matplotlib.lines.Line2D at 0x7fd941b2dd60>,\n",
       " <matplotlib.lines.Line2D at 0x7fd941b2de20>,\n",
       " <matplotlib.lines.Line2D at 0x7fd941b2dee0>,\n",
       " <matplotlib.lines.Line2D at 0x7fd941b2dfa0>,\n",
       " <matplotlib.lines.Line2D at 0x7fd941b350a0>,\n",
       " <matplotlib.lines.Line2D at 0x7fd941b35160>,\n",
       " <matplotlib.lines.Line2D at 0x7fd941b35220>,\n",
       " <matplotlib.lines.Line2D at 0x7fd941b352e0>,\n",
       " <matplotlib.lines.Line2D at 0x7fd941b353a0>,\n",
       " <matplotlib.lines.Line2D at 0x7fd941b35460>,\n",
       " <matplotlib.lines.Line2D at 0x7fd941b35520>,\n",
       " <matplotlib.lines.Line2D at 0x7fd941b355e0>,\n",
       " <matplotlib.lines.Line2D at 0x7fd941b356a0>,\n",
       " <matplotlib.lines.Line2D at 0x7fd941b35760>,\n",
       " <matplotlib.lines.Line2D at 0x7fd941b35820>,\n",
       " <matplotlib.lines.Line2D at 0x7fd941b358e0>,\n",
       " <matplotlib.lines.Line2D at 0x7fd941b359a0>,\n",
       " <matplotlib.lines.Line2D at 0x7fd941b35a60>,\n",
       " <matplotlib.lines.Line2D at 0x7fd941b35b20>,\n",
       " <matplotlib.lines.Line2D at 0x7fd941b35be0>,\n",
       " <matplotlib.lines.Line2D at 0x7fd941b35ca0>,\n",
       " <matplotlib.lines.Line2D at 0x7fd941b35d60>,\n",
       " <matplotlib.lines.Line2D at 0x7fd941b35e20>,\n",
       " <matplotlib.lines.Line2D at 0x7fd941b35ee0>,\n",
       " <matplotlib.lines.Line2D at 0x7fd941b35fa0>,\n",
       " <matplotlib.lines.Line2D at 0x7fd941b3c0a0>,\n",
       " <matplotlib.lines.Line2D at 0x7fd941b3c160>,\n",
       " <matplotlib.lines.Line2D at 0x7fd941b3c220>,\n",
       " <matplotlib.lines.Line2D at 0x7fd941b3c2e0>,\n",
       " <matplotlib.lines.Line2D at 0x7fd941b3c3a0>,\n",
       " <matplotlib.lines.Line2D at 0x7fd941b3c460>,\n",
       " <matplotlib.lines.Line2D at 0x7fd941b3c520>,\n",
       " <matplotlib.lines.Line2D at 0x7fd941b3c5e0>,\n",
       " <matplotlib.lines.Line2D at 0x7fd941b3c6a0>,\n",
       " <matplotlib.lines.Line2D at 0x7fd941b3c760>,\n",
       " <matplotlib.lines.Line2D at 0x7fd941b3c820>,\n",
       " <matplotlib.lines.Line2D at 0x7fd941b3c8e0>,\n",
       " <matplotlib.lines.Line2D at 0x7fd941b3c9a0>,\n",
       " <matplotlib.lines.Line2D at 0x7fd941b3ca60>,\n",
       " <matplotlib.lines.Line2D at 0x7fd941b3cb20>,\n",
       " <matplotlib.lines.Line2D at 0x7fd941b3cbe0>,\n",
       " <matplotlib.lines.Line2D at 0x7fd941b3cca0>,\n",
       " <matplotlib.lines.Line2D at 0x7fd941b3cd60>,\n",
       " <matplotlib.lines.Line2D at 0x7fd941b3ce20>,\n",
       " <matplotlib.lines.Line2D at 0x7fd941b3cee0>,\n",
       " <matplotlib.lines.Line2D at 0x7fd941b3cfa0>,\n",
       " <matplotlib.lines.Line2D at 0x7fd941b430a0>,\n",
       " <matplotlib.lines.Line2D at 0x7fd941b43160>,\n",
       " <matplotlib.lines.Line2D at 0x7fd941b43220>,\n",
       " <matplotlib.lines.Line2D at 0x7fd941b432e0>,\n",
       " <matplotlib.lines.Line2D at 0x7fd941b433a0>,\n",
       " <matplotlib.lines.Line2D at 0x7fd941b43460>,\n",
       " <matplotlib.lines.Line2D at 0x7fd941b43520>,\n",
       " <matplotlib.lines.Line2D at 0x7fd941b435e0>,\n",
       " <matplotlib.lines.Line2D at 0x7fd941b436a0>,\n",
       " <matplotlib.lines.Line2D at 0x7fd941b43760>,\n",
       " <matplotlib.lines.Line2D at 0x7fd941b43820>,\n",
       " <matplotlib.lines.Line2D at 0x7fd941b438e0>,\n",
       " <matplotlib.lines.Line2D at 0x7fd941b439a0>,\n",
       " <matplotlib.lines.Line2D at 0x7fd941b43a60>,\n",
       " <matplotlib.lines.Line2D at 0x7fd941b43b20>,\n",
       " <matplotlib.lines.Line2D at 0x7fd941b43be0>,\n",
       " <matplotlib.lines.Line2D at 0x7fd941b43ca0>,\n",
       " <matplotlib.lines.Line2D at 0x7fd941b43d60>,\n",
       " <matplotlib.lines.Line2D at 0x7fd941b43e20>,\n",
       " <matplotlib.lines.Line2D at 0x7fd941b43ee0>,\n",
       " <matplotlib.lines.Line2D at 0x7fd941b43fa0>,\n",
       " <matplotlib.lines.Line2D at 0x7fd941b4a0a0>,\n",
       " <matplotlib.lines.Line2D at 0x7fd941b4a160>,\n",
       " <matplotlib.lines.Line2D at 0x7fd941b4a220>,\n",
       " <matplotlib.lines.Line2D at 0x7fd941b4a2e0>,\n",
       " <matplotlib.lines.Line2D at 0x7fd941b4a3a0>,\n",
       " <matplotlib.lines.Line2D at 0x7fd941b4a460>,\n",
       " <matplotlib.lines.Line2D at 0x7fd941b4a520>,\n",
       " <matplotlib.lines.Line2D at 0x7fd941b4a5e0>,\n",
       " <matplotlib.lines.Line2D at 0x7fd941b4a6a0>,\n",
       " <matplotlib.lines.Line2D at 0x7fd941b4a760>,\n",
       " <matplotlib.lines.Line2D at 0x7fd941b4a820>,\n",
       " <matplotlib.lines.Line2D at 0x7fd941b4a8e0>,\n",
       " <matplotlib.lines.Line2D at 0x7fd941b4a9a0>,\n",
       " <matplotlib.lines.Line2D at 0x7fd941b4aa60>,\n",
       " <matplotlib.lines.Line2D at 0x7fd941b4ab20>,\n",
       " <matplotlib.lines.Line2D at 0x7fd941b4abe0>,\n",
       " <matplotlib.lines.Line2D at 0x7fd941b4aca0>,\n",
       " <matplotlib.lines.Line2D at 0x7fd941b4ad60>,\n",
       " <matplotlib.lines.Line2D at 0x7fd941b4ae20>,\n",
       " <matplotlib.lines.Line2D at 0x7fd941b4aee0>,\n",
       " <matplotlib.lines.Line2D at 0x7fd941b4afa0>,\n",
       " <matplotlib.lines.Line2D at 0x7fd941b510a0>,\n",
       " <matplotlib.lines.Line2D at 0x7fd941b51160>,\n",
       " <matplotlib.lines.Line2D at 0x7fd941b51220>,\n",
       " <matplotlib.lines.Line2D at 0x7fd941b512e0>,\n",
       " <matplotlib.lines.Line2D at 0x7fd941b513a0>,\n",
       " <matplotlib.lines.Line2D at 0x7fd941b51460>,\n",
       " <matplotlib.lines.Line2D at 0x7fd941b51520>,\n",
       " <matplotlib.lines.Line2D at 0x7fd941b515e0>,\n",
       " <matplotlib.lines.Line2D at 0x7fd941b516a0>,\n",
       " <matplotlib.lines.Line2D at 0x7fd941b51760>,\n",
       " <matplotlib.lines.Line2D at 0x7fd941b51820>,\n",
       " <matplotlib.lines.Line2D at 0x7fd941b518e0>,\n",
       " <matplotlib.lines.Line2D at 0x7fd941b519a0>,\n",
       " <matplotlib.lines.Line2D at 0x7fd941b51a60>,\n",
       " <matplotlib.lines.Line2D at 0x7fd941b51b20>,\n",
       " <matplotlib.lines.Line2D at 0x7fd941b51be0>,\n",
       " <matplotlib.lines.Line2D at 0x7fd941b51ca0>,\n",
       " <matplotlib.lines.Line2D at 0x7fd941b51d60>,\n",
       " <matplotlib.lines.Line2D at 0x7fd941b51e20>,\n",
       " <matplotlib.lines.Line2D at 0x7fd941b51ee0>,\n",
       " <matplotlib.lines.Line2D at 0x7fd941b51fa0>,\n",
       " <matplotlib.lines.Line2D at 0x7fd941ad80a0>,\n",
       " <matplotlib.lines.Line2D at 0x7fd941ad8160>,\n",
       " <matplotlib.lines.Line2D at 0x7fd941ad8220>,\n",
       " <matplotlib.lines.Line2D at 0x7fd941ad82e0>,\n",
       " <matplotlib.lines.Line2D at 0x7fd941ad83a0>,\n",
       " <matplotlib.lines.Line2D at 0x7fd941ad8460>,\n",
       " <matplotlib.lines.Line2D at 0x7fd941ad8520>,\n",
       " <matplotlib.lines.Line2D at 0x7fd941ad85e0>,\n",
       " <matplotlib.lines.Line2D at 0x7fd941ad86a0>,\n",
       " <matplotlib.lines.Line2D at 0x7fd941ad8760>,\n",
       " <matplotlib.lines.Line2D at 0x7fd941ad8820>,\n",
       " <matplotlib.lines.Line2D at 0x7fd941ad88e0>,\n",
       " <matplotlib.lines.Line2D at 0x7fd941ad89a0>,\n",
       " <matplotlib.lines.Line2D at 0x7fd941ad8a60>,\n",
       " <matplotlib.lines.Line2D at 0x7fd941ad8b20>,\n",
       " <matplotlib.lines.Line2D at 0x7fd941ad8be0>,\n",
       " <matplotlib.lines.Line2D at 0x7fd941ad8ca0>,\n",
       " <matplotlib.lines.Line2D at 0x7fd941ad8d60>,\n",
       " <matplotlib.lines.Line2D at 0x7fd941ad8e20>,\n",
       " <matplotlib.lines.Line2D at 0x7fd941ad8ee0>,\n",
       " <matplotlib.lines.Line2D at 0x7fd941ad8fa0>,\n",
       " <matplotlib.lines.Line2D at 0x7fd941ae00a0>,\n",
       " <matplotlib.lines.Line2D at 0x7fd941ae0160>,\n",
       " <matplotlib.lines.Line2D at 0x7fd941ae0220>,\n",
       " <matplotlib.lines.Line2D at 0x7fd941ae02e0>,\n",
       " <matplotlib.lines.Line2D at 0x7fd941ae03a0>,\n",
       " <matplotlib.lines.Line2D at 0x7fd941ae0460>,\n",
       " <matplotlib.lines.Line2D at 0x7fd941ae0520>,\n",
       " <matplotlib.lines.Line2D at 0x7fd941ae05e0>,\n",
       " <matplotlib.lines.Line2D at 0x7fd941ae06a0>,\n",
       " <matplotlib.lines.Line2D at 0x7fd941ae0760>,\n",
       " <matplotlib.lines.Line2D at 0x7fd941ae0820>,\n",
       " <matplotlib.lines.Line2D at 0x7fd941ae08e0>,\n",
       " <matplotlib.lines.Line2D at 0x7fd941ae09a0>,\n",
       " <matplotlib.lines.Line2D at 0x7fd941ae0a60>,\n",
       " <matplotlib.lines.Line2D at 0x7fd941ae0b20>,\n",
       " <matplotlib.lines.Line2D at 0x7fd941ae0be0>,\n",
       " <matplotlib.lines.Line2D at 0x7fd941ae0ca0>,\n",
       " <matplotlib.lines.Line2D at 0x7fd941ae0d60>,\n",
       " <matplotlib.lines.Line2D at 0x7fd941ae0e20>,\n",
       " <matplotlib.lines.Line2D at 0x7fd941ae0ee0>,\n",
       " <matplotlib.lines.Line2D at 0x7fd941ae0fa0>,\n",
       " <matplotlib.lines.Line2D at 0x7fd941ae70a0>,\n",
       " <matplotlib.lines.Line2D at 0x7fd941ae7160>,\n",
       " <matplotlib.lines.Line2D at 0x7fd941ae7220>,\n",
       " <matplotlib.lines.Line2D at 0x7fd941ae72e0>,\n",
       " <matplotlib.lines.Line2D at 0x7fd941ae73a0>,\n",
       " <matplotlib.lines.Line2D at 0x7fd941ae7460>,\n",
       " <matplotlib.lines.Line2D at 0x7fd941ae7520>,\n",
       " <matplotlib.lines.Line2D at 0x7fd941ae75e0>,\n",
       " <matplotlib.lines.Line2D at 0x7fd941ae76a0>,\n",
       " <matplotlib.lines.Line2D at 0x7fd941ae7760>,\n",
       " <matplotlib.lines.Line2D at 0x7fd941ae7820>,\n",
       " <matplotlib.lines.Line2D at 0x7fd941ae78e0>,\n",
       " <matplotlib.lines.Line2D at 0x7fd941ae79a0>,\n",
       " <matplotlib.lines.Line2D at 0x7fd941ae7a60>,\n",
       " <matplotlib.lines.Line2D at 0x7fd941ae7b20>,\n",
       " <matplotlib.lines.Line2D at 0x7fd941ae7be0>,\n",
       " <matplotlib.lines.Line2D at 0x7fd941ae7ca0>,\n",
       " <matplotlib.lines.Line2D at 0x7fd941ae7d60>,\n",
       " <matplotlib.lines.Line2D at 0x7fd941ae7e20>,\n",
       " <matplotlib.lines.Line2D at 0x7fd941ae7ee0>,\n",
       " <matplotlib.lines.Line2D at 0x7fd941ae7fa0>,\n",
       " <matplotlib.lines.Line2D at 0x7fd941aed0a0>,\n",
       " <matplotlib.lines.Line2D at 0x7fd941aed160>,\n",
       " <matplotlib.lines.Line2D at 0x7fd941aed220>,\n",
       " <matplotlib.lines.Line2D at 0x7fd941aed2e0>,\n",
       " <matplotlib.lines.Line2D at 0x7fd941aed3a0>,\n",
       " <matplotlib.lines.Line2D at 0x7fd941aed460>,\n",
       " <matplotlib.lines.Line2D at 0x7fd941aed520>,\n",
       " <matplotlib.lines.Line2D at 0x7fd941aed5e0>,\n",
       " <matplotlib.lines.Line2D at 0x7fd941aed6a0>,\n",
       " <matplotlib.lines.Line2D at 0x7fd941aed760>,\n",
       " <matplotlib.lines.Line2D at 0x7fd941aed820>,\n",
       " <matplotlib.lines.Line2D at 0x7fd941aed8e0>,\n",
       " <matplotlib.lines.Line2D at 0x7fd941aed9a0>,\n",
       " <matplotlib.lines.Line2D at 0x7fd941aeda60>,\n",
       " <matplotlib.lines.Line2D at 0x7fd941aedb20>,\n",
       " <matplotlib.lines.Line2D at 0x7fd941aedbe0>,\n",
       " <matplotlib.lines.Line2D at 0x7fd941aedca0>,\n",
       " <matplotlib.lines.Line2D at 0x7fd941aedd60>,\n",
       " <matplotlib.lines.Line2D at 0x7fd941aede20>,\n",
       " <matplotlib.lines.Line2D at 0x7fd941aedee0>,\n",
       " <matplotlib.lines.Line2D at 0x7fd941aedfa0>,\n",
       " <matplotlib.lines.Line2D at 0x7fd941af40a0>,\n",
       " <matplotlib.lines.Line2D at 0x7fd941af4160>,\n",
       " <matplotlib.lines.Line2D at 0x7fd941af4220>,\n",
       " <matplotlib.lines.Line2D at 0x7fd941af42e0>,\n",
       " <matplotlib.lines.Line2D at 0x7fd941af43a0>,\n",
       " <matplotlib.lines.Line2D at 0x7fd941af4460>,\n",
       " <matplotlib.lines.Line2D at 0x7fd941af4520>,\n",
       " <matplotlib.lines.Line2D at 0x7fd941af45e0>,\n",
       " <matplotlib.lines.Line2D at 0x7fd941af46a0>,\n",
       " <matplotlib.lines.Line2D at 0x7fd941af4760>,\n",
       " <matplotlib.lines.Line2D at 0x7fd941af4820>,\n",
       " <matplotlib.lines.Line2D at 0x7fd941af48e0>,\n",
       " <matplotlib.lines.Line2D at 0x7fd941af49a0>,\n",
       " <matplotlib.lines.Line2D at 0x7fd941af4a60>,\n",
       " <matplotlib.lines.Line2D at 0x7fd941af4b20>,\n",
       " <matplotlib.lines.Line2D at 0x7fd941af4be0>,\n",
       " <matplotlib.lines.Line2D at 0x7fd941af4ca0>,\n",
       " <matplotlib.lines.Line2D at 0x7fd941af4d60>,\n",
       " <matplotlib.lines.Line2D at 0x7fd941af4e20>,\n",
       " <matplotlib.lines.Line2D at 0x7fd941af4ee0>,\n",
       " <matplotlib.lines.Line2D at 0x7fd941af4fa0>,\n",
       " <matplotlib.lines.Line2D at 0x7fd941afb0a0>,\n",
       " <matplotlib.lines.Line2D at 0x7fd941afb160>,\n",
       " <matplotlib.lines.Line2D at 0x7fd941afb220>,\n",
       " <matplotlib.lines.Line2D at 0x7fd941afb2e0>,\n",
       " <matplotlib.lines.Line2D at 0x7fd941afb3a0>,\n",
       " <matplotlib.lines.Line2D at 0x7fd941afb460>,\n",
       " <matplotlib.lines.Line2D at 0x7fd941afb520>,\n",
       " <matplotlib.lines.Line2D at 0x7fd941afb5e0>,\n",
       " <matplotlib.lines.Line2D at 0x7fd941afb6a0>,\n",
       " <matplotlib.lines.Line2D at 0x7fd941afb760>,\n",
       " <matplotlib.lines.Line2D at 0x7fd941afb820>,\n",
       " <matplotlib.lines.Line2D at 0x7fd941afb8e0>,\n",
       " <matplotlib.lines.Line2D at 0x7fd941afb9a0>,\n",
       " <matplotlib.lines.Line2D at 0x7fd941afba60>,\n",
       " <matplotlib.lines.Line2D at 0x7fd941afbb20>,\n",
       " <matplotlib.lines.Line2D at 0x7fd941afbbe0>,\n",
       " <matplotlib.lines.Line2D at 0x7fd941afbca0>,\n",
       " <matplotlib.lines.Line2D at 0x7fd941afbd60>,\n",
       " <matplotlib.lines.Line2D at 0x7fd941afbe20>,\n",
       " <matplotlib.lines.Line2D at 0x7fd941afbee0>,\n",
       " <matplotlib.lines.Line2D at 0x7fd941afbfa0>,\n",
       " <matplotlib.lines.Line2D at 0x7fd941b020a0>,\n",
       " <matplotlib.lines.Line2D at 0x7fd941b02160>,\n",
       " <matplotlib.lines.Line2D at 0x7fd941b02220>,\n",
       " <matplotlib.lines.Line2D at 0x7fd941b022e0>,\n",
       " <matplotlib.lines.Line2D at 0x7fd941b023a0>,\n",
       " <matplotlib.lines.Line2D at 0x7fd941b02460>,\n",
       " <matplotlib.lines.Line2D at 0x7fd941b02520>,\n",
       " <matplotlib.lines.Line2D at 0x7fd941b025e0>,\n",
       " <matplotlib.lines.Line2D at 0x7fd941b026a0>,\n",
       " <matplotlib.lines.Line2D at 0x7fd941b02760>,\n",
       " <matplotlib.lines.Line2D at 0x7fd941b02820>,\n",
       " <matplotlib.lines.Line2D at 0x7fd941b028e0>,\n",
       " <matplotlib.lines.Line2D at 0x7fd941b029a0>,\n",
       " <matplotlib.lines.Line2D at 0x7fd941b02a60>,\n",
       " <matplotlib.lines.Line2D at 0x7fd941b02b20>,\n",
       " <matplotlib.lines.Line2D at 0x7fd941b02be0>,\n",
       " <matplotlib.lines.Line2D at 0x7fd941b02ca0>,\n",
       " <matplotlib.lines.Line2D at 0x7fd941b02d60>,\n",
       " <matplotlib.lines.Line2D at 0x7fd941b02e20>,\n",
       " <matplotlib.lines.Line2D at 0x7fd941b02ee0>,\n",
       " <matplotlib.lines.Line2D at 0x7fd941b02fa0>,\n",
       " <matplotlib.lines.Line2D at 0x7fd941b0a0a0>,\n",
       " <matplotlib.lines.Line2D at 0x7fd941b0a160>,\n",
       " <matplotlib.lines.Line2D at 0x7fd941b0a220>,\n",
       " <matplotlib.lines.Line2D at 0x7fd941b0a2e0>,\n",
       " <matplotlib.lines.Line2D at 0x7fd941b0a3a0>,\n",
       " <matplotlib.lines.Line2D at 0x7fd941b0a460>,\n",
       " <matplotlib.lines.Line2D at 0x7fd941b0a520>,\n",
       " <matplotlib.lines.Line2D at 0x7fd941b0a5e0>,\n",
       " <matplotlib.lines.Line2D at 0x7fd941b0a6a0>,\n",
       " <matplotlib.lines.Line2D at 0x7fd941b0a760>,\n",
       " <matplotlib.lines.Line2D at 0x7fd941b0a820>,\n",
       " <matplotlib.lines.Line2D at 0x7fd941b0a8e0>,\n",
       " <matplotlib.lines.Line2D at 0x7fd941b0a9a0>,\n",
       " <matplotlib.lines.Line2D at 0x7fd941b0aa60>,\n",
       " <matplotlib.lines.Line2D at 0x7fd941b0ab20>,\n",
       " <matplotlib.lines.Line2D at 0x7fd941b0abe0>,\n",
       " <matplotlib.lines.Line2D at 0x7fd941b0aca0>,\n",
       " <matplotlib.lines.Line2D at 0x7fd941b0ad60>,\n",
       " <matplotlib.lines.Line2D at 0x7fd941b0ae20>,\n",
       " <matplotlib.lines.Line2D at 0x7fd941b0aee0>,\n",
       " <matplotlib.lines.Line2D at 0x7fd941b0afa0>,\n",
       " <matplotlib.lines.Line2D at 0x7fd941b110a0>,\n",
       " <matplotlib.lines.Line2D at 0x7fd941b11160>,\n",
       " <matplotlib.lines.Line2D at 0x7fd941b11220>,\n",
       " <matplotlib.lines.Line2D at 0x7fd941b112e0>,\n",
       " <matplotlib.lines.Line2D at 0x7fd941b113a0>,\n",
       " <matplotlib.lines.Line2D at 0x7fd941b11460>,\n",
       " <matplotlib.lines.Line2D at 0x7fd941b11520>,\n",
       " <matplotlib.lines.Line2D at 0x7fd941b115e0>,\n",
       " <matplotlib.lines.Line2D at 0x7fd941b116a0>,\n",
       " <matplotlib.lines.Line2D at 0x7fd941b11760>,\n",
       " <matplotlib.lines.Line2D at 0x7fd941b11820>,\n",
       " <matplotlib.lines.Line2D at 0x7fd941b118e0>,\n",
       " <matplotlib.lines.Line2D at 0x7fd941b119a0>,\n",
       " <matplotlib.lines.Line2D at 0x7fd941b11a60>,\n",
       " <matplotlib.lines.Line2D at 0x7fd941b11b20>,\n",
       " <matplotlib.lines.Line2D at 0x7fd941b11be0>,\n",
       " <matplotlib.lines.Line2D at 0x7fd941b11ca0>,\n",
       " <matplotlib.lines.Line2D at 0x7fd941b11d60>,\n",
       " <matplotlib.lines.Line2D at 0x7fd941b11e20>,\n",
       " <matplotlib.lines.Line2D at 0x7fd941b11ee0>,\n",
       " <matplotlib.lines.Line2D at 0x7fd941b11fa0>,\n",
       " <matplotlib.lines.Line2D at 0x7fd941a980a0>,\n",
       " <matplotlib.lines.Line2D at 0x7fd941a98160>,\n",
       " <matplotlib.lines.Line2D at 0x7fd941a98220>,\n",
       " <matplotlib.lines.Line2D at 0x7fd941a982e0>,\n",
       " <matplotlib.lines.Line2D at 0x7fd941a983a0>,\n",
       " <matplotlib.lines.Line2D at 0x7fd941a98460>,\n",
       " <matplotlib.lines.Line2D at 0x7fd941a98520>,\n",
       " <matplotlib.lines.Line2D at 0x7fd941a985e0>,\n",
       " <matplotlib.lines.Line2D at 0x7fd941a986a0>,\n",
       " <matplotlib.lines.Line2D at 0x7fd941a98760>,\n",
       " <matplotlib.lines.Line2D at 0x7fd941a98820>,\n",
       " <matplotlib.lines.Line2D at 0x7fd941a988e0>,\n",
       " <matplotlib.lines.Line2D at 0x7fd941a989a0>,\n",
       " <matplotlib.lines.Line2D at 0x7fd941a98a60>,\n",
       " <matplotlib.lines.Line2D at 0x7fd941a98b20>,\n",
       " <matplotlib.lines.Line2D at 0x7fd941a98be0>,\n",
       " <matplotlib.lines.Line2D at 0x7fd941a98ca0>,\n",
       " <matplotlib.lines.Line2D at 0x7fd941a98d60>,\n",
       " <matplotlib.lines.Line2D at 0x7fd941a98e20>,\n",
       " <matplotlib.lines.Line2D at 0x7fd941a98ee0>,\n",
       " <matplotlib.lines.Line2D at 0x7fd941a98fa0>,\n",
       " <matplotlib.lines.Line2D at 0x7fd941aa00a0>,\n",
       " <matplotlib.lines.Line2D at 0x7fd941aa0160>,\n",
       " <matplotlib.lines.Line2D at 0x7fd941aa0220>,\n",
       " <matplotlib.lines.Line2D at 0x7fd941aa02e0>,\n",
       " <matplotlib.lines.Line2D at 0x7fd941aa03a0>,\n",
       " <matplotlib.lines.Line2D at 0x7fd941aa0460>,\n",
       " <matplotlib.lines.Line2D at 0x7fd941aa0520>,\n",
       " <matplotlib.lines.Line2D at 0x7fd941aa05e0>,\n",
       " <matplotlib.lines.Line2D at 0x7fd941aa06a0>,\n",
       " <matplotlib.lines.Line2D at 0x7fd941aa0760>,\n",
       " <matplotlib.lines.Line2D at 0x7fd941aa0820>,\n",
       " <matplotlib.lines.Line2D at 0x7fd941aa08e0>,\n",
       " <matplotlib.lines.Line2D at 0x7fd941aa09a0>,\n",
       " <matplotlib.lines.Line2D at 0x7fd941aa0a60>,\n",
       " <matplotlib.lines.Line2D at 0x7fd941aa0b20>,\n",
       " <matplotlib.lines.Line2D at 0x7fd941aa0be0>,\n",
       " <matplotlib.lines.Line2D at 0x7fd941aa0ca0>,\n",
       " <matplotlib.lines.Line2D at 0x7fd941aa0d60>,\n",
       " <matplotlib.lines.Line2D at 0x7fd941aa0e20>,\n",
       " <matplotlib.lines.Line2D at 0x7fd941aa0ee0>,\n",
       " <matplotlib.lines.Line2D at 0x7fd941aa0fa0>,\n",
       " <matplotlib.lines.Line2D at 0x7fd941aa60a0>,\n",
       " <matplotlib.lines.Line2D at 0x7fd941aa6160>,\n",
       " <matplotlib.lines.Line2D at 0x7fd941aa6220>,\n",
       " <matplotlib.lines.Line2D at 0x7fd941aa62e0>,\n",
       " <matplotlib.lines.Line2D at 0x7fd941aa63a0>,\n",
       " <matplotlib.lines.Line2D at 0x7fd941aa6460>,\n",
       " <matplotlib.lines.Line2D at 0x7fd941aa6520>,\n",
       " <matplotlib.lines.Line2D at 0x7fd941aa65e0>,\n",
       " <matplotlib.lines.Line2D at 0x7fd941aa66a0>,\n",
       " <matplotlib.lines.Line2D at 0x7fd941aa6760>,\n",
       " <matplotlib.lines.Line2D at 0x7fd941aa6820>,\n",
       " <matplotlib.lines.Line2D at 0x7fd941aa68e0>,\n",
       " <matplotlib.lines.Line2D at 0x7fd941aa69a0>,\n",
       " <matplotlib.lines.Line2D at 0x7fd941aa6a60>,\n",
       " <matplotlib.lines.Line2D at 0x7fd941aa6b20>,\n",
       " <matplotlib.lines.Line2D at 0x7fd941aa6be0>,\n",
       " <matplotlib.lines.Line2D at 0x7fd941aa6ca0>,\n",
       " <matplotlib.lines.Line2D at 0x7fd941aa6d60>,\n",
       " <matplotlib.lines.Line2D at 0x7fd941aa6e20>,\n",
       " <matplotlib.lines.Line2D at 0x7fd941aa6ee0>,\n",
       " <matplotlib.lines.Line2D at 0x7fd941aa6fa0>,\n",
       " <matplotlib.lines.Line2D at 0x7fd941aad0a0>,\n",
       " <matplotlib.lines.Line2D at 0x7fd941aad160>,\n",
       " <matplotlib.lines.Line2D at 0x7fd941aad220>,\n",
       " <matplotlib.lines.Line2D at 0x7fd941aad2e0>,\n",
       " <matplotlib.lines.Line2D at 0x7fd941aad3a0>,\n",
       " <matplotlib.lines.Line2D at 0x7fd941aad460>,\n",
       " <matplotlib.lines.Line2D at 0x7fd941aad520>,\n",
       " <matplotlib.lines.Line2D at 0x7fd941aad5e0>,\n",
       " <matplotlib.lines.Line2D at 0x7fd941aad6a0>,\n",
       " <matplotlib.lines.Line2D at 0x7fd941aad760>,\n",
       " <matplotlib.lines.Line2D at 0x7fd941aad820>,\n",
       " <matplotlib.lines.Line2D at 0x7fd941aad8e0>,\n",
       " <matplotlib.lines.Line2D at 0x7fd941aad9a0>,\n",
       " <matplotlib.lines.Line2D at 0x7fd941aada60>,\n",
       " <matplotlib.lines.Line2D at 0x7fd941aadb20>,\n",
       " <matplotlib.lines.Line2D at 0x7fd941aadbe0>,\n",
       " <matplotlib.lines.Line2D at 0x7fd941aadca0>,\n",
       " <matplotlib.lines.Line2D at 0x7fd941aadd60>,\n",
       " <matplotlib.lines.Line2D at 0x7fd941aade20>,\n",
       " <matplotlib.lines.Line2D at 0x7fd941aadee0>,\n",
       " <matplotlib.lines.Line2D at 0x7fd941aadfa0>,\n",
       " <matplotlib.lines.Line2D at 0x7fd941ab50a0>,\n",
       " <matplotlib.lines.Line2D at 0x7fd941ab5160>,\n",
       " <matplotlib.lines.Line2D at 0x7fd941ab5220>,\n",
       " <matplotlib.lines.Line2D at 0x7fd941ab52e0>,\n",
       " <matplotlib.lines.Line2D at 0x7fd941ab53a0>,\n",
       " <matplotlib.lines.Line2D at 0x7fd941ab5460>,\n",
       " <matplotlib.lines.Line2D at 0x7fd941ab5520>,\n",
       " <matplotlib.lines.Line2D at 0x7fd941ab55e0>,\n",
       " <matplotlib.lines.Line2D at 0x7fd941ab56a0>,\n",
       " <matplotlib.lines.Line2D at 0x7fd941ab5760>,\n",
       " <matplotlib.lines.Line2D at 0x7fd941ab5820>,\n",
       " <matplotlib.lines.Line2D at 0x7fd941ab58e0>,\n",
       " <matplotlib.lines.Line2D at 0x7fd941ab59a0>,\n",
       " <matplotlib.lines.Line2D at 0x7fd941ab5a60>,\n",
       " <matplotlib.lines.Line2D at 0x7fd941ab5b20>,\n",
       " <matplotlib.lines.Line2D at 0x7fd941ab5be0>,\n",
       " <matplotlib.lines.Line2D at 0x7fd941ab5ca0>,\n",
       " <matplotlib.lines.Line2D at 0x7fd941ab5d60>,\n",
       " <matplotlib.lines.Line2D at 0x7fd941ab5e20>,\n",
       " <matplotlib.lines.Line2D at 0x7fd941ab5ee0>,\n",
       " <matplotlib.lines.Line2D at 0x7fd941ab5fa0>,\n",
       " <matplotlib.lines.Line2D at 0x7fd941abc0a0>,\n",
       " <matplotlib.lines.Line2D at 0x7fd941abc160>,\n",
       " <matplotlib.lines.Line2D at 0x7fd941abc220>,\n",
       " <matplotlib.lines.Line2D at 0x7fd941abc2e0>,\n",
       " <matplotlib.lines.Line2D at 0x7fd941abc3a0>,\n",
       " <matplotlib.lines.Line2D at 0x7fd941abc460>,\n",
       " <matplotlib.lines.Line2D at 0x7fd941abc520>,\n",
       " <matplotlib.lines.Line2D at 0x7fd941abc5e0>,\n",
       " <matplotlib.lines.Line2D at 0x7fd941abc6a0>,\n",
       " <matplotlib.lines.Line2D at 0x7fd941abc760>,\n",
       " <matplotlib.lines.Line2D at 0x7fd941abc820>,\n",
       " <matplotlib.lines.Line2D at 0x7fd941abc8e0>,\n",
       " <matplotlib.lines.Line2D at 0x7fd941abc9a0>,\n",
       " <matplotlib.lines.Line2D at 0x7fd941abca60>,\n",
       " <matplotlib.lines.Line2D at 0x7fd941abcb20>,\n",
       " <matplotlib.lines.Line2D at 0x7fd941abcbe0>,\n",
       " <matplotlib.lines.Line2D at 0x7fd941abcca0>,\n",
       " <matplotlib.lines.Line2D at 0x7fd941abcd60>,\n",
       " <matplotlib.lines.Line2D at 0x7fd941abce20>,\n",
       " <matplotlib.lines.Line2D at 0x7fd941abcee0>,\n",
       " <matplotlib.lines.Line2D at 0x7fd941abcfa0>,\n",
       " <matplotlib.lines.Line2D at 0x7fd941ac20a0>,\n",
       " <matplotlib.lines.Line2D at 0x7fd941ac2160>,\n",
       " <matplotlib.lines.Line2D at 0x7fd941ac2220>,\n",
       " <matplotlib.lines.Line2D at 0x7fd941ac22e0>,\n",
       " <matplotlib.lines.Line2D at 0x7fd941ac23a0>,\n",
       " <matplotlib.lines.Line2D at 0x7fd941ac2460>,\n",
       " <matplotlib.lines.Line2D at 0x7fd941ac2520>,\n",
       " <matplotlib.lines.Line2D at 0x7fd941ac25e0>,\n",
       " <matplotlib.lines.Line2D at 0x7fd941ac26a0>,\n",
       " <matplotlib.lines.Line2D at 0x7fd941ac2760>,\n",
       " <matplotlib.lines.Line2D at 0x7fd941ac2820>,\n",
       " <matplotlib.lines.Line2D at 0x7fd941ac28e0>,\n",
       " <matplotlib.lines.Line2D at 0x7fd941ac29a0>,\n",
       " <matplotlib.lines.Line2D at 0x7fd941ac2a60>,\n",
       " <matplotlib.lines.Line2D at 0x7fd941ac2b20>,\n",
       " <matplotlib.lines.Line2D at 0x7fd941ac2be0>,\n",
       " <matplotlib.lines.Line2D at 0x7fd941ac2ca0>,\n",
       " <matplotlib.lines.Line2D at 0x7fd941ac2d60>,\n",
       " <matplotlib.lines.Line2D at 0x7fd941ac2e20>,\n",
       " <matplotlib.lines.Line2D at 0x7fd941ac2ee0>,\n",
       " <matplotlib.lines.Line2D at 0x7fd941ac2fa0>,\n",
       " <matplotlib.lines.Line2D at 0x7fd941aca0a0>,\n",
       " <matplotlib.lines.Line2D at 0x7fd941aca160>,\n",
       " <matplotlib.lines.Line2D at 0x7fd941aca220>,\n",
       " <matplotlib.lines.Line2D at 0x7fd941aca2e0>,\n",
       " <matplotlib.lines.Line2D at 0x7fd941aca3a0>,\n",
       " <matplotlib.lines.Line2D at 0x7fd941aca460>,\n",
       " <matplotlib.lines.Line2D at 0x7fd941aca520>,\n",
       " <matplotlib.lines.Line2D at 0x7fd941aca5e0>,\n",
       " <matplotlib.lines.Line2D at 0x7fd941aca6a0>,\n",
       " <matplotlib.lines.Line2D at 0x7fd941aca760>,\n",
       " <matplotlib.lines.Line2D at 0x7fd941aca820>,\n",
       " <matplotlib.lines.Line2D at 0x7fd941aca8e0>,\n",
       " <matplotlib.lines.Line2D at 0x7fd941aca9a0>,\n",
       " <matplotlib.lines.Line2D at 0x7fd941acaa60>,\n",
       " <matplotlib.lines.Line2D at 0x7fd941acab20>,\n",
       " <matplotlib.lines.Line2D at 0x7fd941acabe0>,\n",
       " <matplotlib.lines.Line2D at 0x7fd941acaca0>,\n",
       " <matplotlib.lines.Line2D at 0x7fd941acad60>,\n",
       " <matplotlib.lines.Line2D at 0x7fd941acae20>,\n",
       " <matplotlib.lines.Line2D at 0x7fd941acaee0>,\n",
       " <matplotlib.lines.Line2D at 0x7fd941acafa0>,\n",
       " <matplotlib.lines.Line2D at 0x7fd941ad00a0>,\n",
       " <matplotlib.lines.Line2D at 0x7fd941ad0160>,\n",
       " <matplotlib.lines.Line2D at 0x7fd941ad0220>,\n",
       " <matplotlib.lines.Line2D at 0x7fd941ad02e0>,\n",
       " <matplotlib.lines.Line2D at 0x7fd941ad03a0>,\n",
       " <matplotlib.lines.Line2D at 0x7fd941ad0460>,\n",
       " <matplotlib.lines.Line2D at 0x7fd941ad0520>,\n",
       " <matplotlib.lines.Line2D at 0x7fd941ad05e0>,\n",
       " <matplotlib.lines.Line2D at 0x7fd941ad06a0>,\n",
       " <matplotlib.lines.Line2D at 0x7fd941ad0760>,\n",
       " <matplotlib.lines.Line2D at 0x7fd941ad0820>,\n",
       " <matplotlib.lines.Line2D at 0x7fd941ad08e0>,\n",
       " <matplotlib.lines.Line2D at 0x7fd941ad09a0>,\n",
       " <matplotlib.lines.Line2D at 0x7fd941ad0a60>,\n",
       " <matplotlib.lines.Line2D at 0x7fd941ad0b20>,\n",
       " <matplotlib.lines.Line2D at 0x7fd941ad0be0>,\n",
       " <matplotlib.lines.Line2D at 0x7fd941ad0ca0>,\n",
       " <matplotlib.lines.Line2D at 0x7fd941ad0d60>,\n",
       " <matplotlib.lines.Line2D at 0x7fd941ad0e20>,\n",
       " <matplotlib.lines.Line2D at 0x7fd941ad0ee0>,\n",
       " <matplotlib.lines.Line2D at 0x7fd941ad0fa0>,\n",
       " <matplotlib.lines.Line2D at 0x7fd941a570a0>,\n",
       " <matplotlib.lines.Line2D at 0x7fd941a57160>,\n",
       " <matplotlib.lines.Line2D at 0x7fd941a57220>,\n",
       " <matplotlib.lines.Line2D at 0x7fd941a572e0>,\n",
       " <matplotlib.lines.Line2D at 0x7fd941a573a0>,\n",
       " <matplotlib.lines.Line2D at 0x7fd941a57460>,\n",
       " <matplotlib.lines.Line2D at 0x7fd941a57520>,\n",
       " <matplotlib.lines.Line2D at 0x7fd941a575e0>,\n",
       " <matplotlib.lines.Line2D at 0x7fd941a576a0>,\n",
       " <matplotlib.lines.Line2D at 0x7fd941a57760>,\n",
       " <matplotlib.lines.Line2D at 0x7fd941a57820>,\n",
       " <matplotlib.lines.Line2D at 0x7fd941a578e0>,\n",
       " <matplotlib.lines.Line2D at 0x7fd941a579a0>,\n",
       " <matplotlib.lines.Line2D at 0x7fd941a57a60>,\n",
       " <matplotlib.lines.Line2D at 0x7fd941a57b20>,\n",
       " <matplotlib.lines.Line2D at 0x7fd941a57be0>,\n",
       " <matplotlib.lines.Line2D at 0x7fd941a57ca0>,\n",
       " <matplotlib.lines.Line2D at 0x7fd941a57d60>,\n",
       " <matplotlib.lines.Line2D at 0x7fd941a57e20>,\n",
       " <matplotlib.lines.Line2D at 0x7fd941a57ee0>,\n",
       " <matplotlib.lines.Line2D at 0x7fd941a57fa0>,\n",
       " <matplotlib.lines.Line2D at 0x7fd941a5f0a0>,\n",
       " <matplotlib.lines.Line2D at 0x7fd941a5f160>,\n",
       " <matplotlib.lines.Line2D at 0x7fd941a5f220>,\n",
       " <matplotlib.lines.Line2D at 0x7fd941a5f2e0>,\n",
       " <matplotlib.lines.Line2D at 0x7fd941a5f3a0>,\n",
       " <matplotlib.lines.Line2D at 0x7fd941a5f460>,\n",
       " <matplotlib.lines.Line2D at 0x7fd941a5f520>,\n",
       " <matplotlib.lines.Line2D at 0x7fd941a5f5e0>,\n",
       " <matplotlib.lines.Line2D at 0x7fd941a5f6a0>,\n",
       " <matplotlib.lines.Line2D at 0x7fd941a5f760>,\n",
       " <matplotlib.lines.Line2D at 0x7fd941a5f820>,\n",
       " <matplotlib.lines.Line2D at 0x7fd941a5f8e0>,\n",
       " <matplotlib.lines.Line2D at 0x7fd941a5f9a0>,\n",
       " <matplotlib.lines.Line2D at 0x7fd941a5fa60>,\n",
       " <matplotlib.lines.Line2D at 0x7fd941a5fb20>,\n",
       " <matplotlib.lines.Line2D at 0x7fd941a5fbe0>,\n",
       " <matplotlib.lines.Line2D at 0x7fd941a5fca0>,\n",
       " <matplotlib.lines.Line2D at 0x7fd941a5fd60>,\n",
       " <matplotlib.lines.Line2D at 0x7fd941a5fe20>,\n",
       " <matplotlib.lines.Line2D at 0x7fd941a5fee0>,\n",
       " <matplotlib.lines.Line2D at 0x7fd941a5ffa0>,\n",
       " <matplotlib.lines.Line2D at 0x7fd941a660a0>,\n",
       " <matplotlib.lines.Line2D at 0x7fd941a66160>,\n",
       " <matplotlib.lines.Line2D at 0x7fd941a66220>,\n",
       " <matplotlib.lines.Line2D at 0x7fd941a662e0>,\n",
       " <matplotlib.lines.Line2D at 0x7fd941a663a0>,\n",
       " <matplotlib.lines.Line2D at 0x7fd941a66460>,\n",
       " <matplotlib.lines.Line2D at 0x7fd941a66520>,\n",
       " <matplotlib.lines.Line2D at 0x7fd941a665e0>,\n",
       " <matplotlib.lines.Line2D at 0x7fd941a666a0>,\n",
       " <matplotlib.lines.Line2D at 0x7fd941a66760>,\n",
       " <matplotlib.lines.Line2D at 0x7fd941a66820>,\n",
       " <matplotlib.lines.Line2D at 0x7fd941a668e0>,\n",
       " <matplotlib.lines.Line2D at 0x7fd941a669a0>,\n",
       " <matplotlib.lines.Line2D at 0x7fd941a66a60>,\n",
       " <matplotlib.lines.Line2D at 0x7fd941a66b20>,\n",
       " <matplotlib.lines.Line2D at 0x7fd941a66be0>,\n",
       " <matplotlib.lines.Line2D at 0x7fd941a66ca0>,\n",
       " <matplotlib.lines.Line2D at 0x7fd941a66d60>,\n",
       " <matplotlib.lines.Line2D at 0x7fd941a66e20>,\n",
       " <matplotlib.lines.Line2D at 0x7fd941a66ee0>,\n",
       " <matplotlib.lines.Line2D at 0x7fd941a66fa0>,\n",
       " <matplotlib.lines.Line2D at 0x7fd941a6d0a0>,\n",
       " <matplotlib.lines.Line2D at 0x7fd941a6d160>,\n",
       " <matplotlib.lines.Line2D at 0x7fd941a6d220>,\n",
       " <matplotlib.lines.Line2D at 0x7fd941a6d2e0>,\n",
       " <matplotlib.lines.Line2D at 0x7fd941a6d3a0>,\n",
       " <matplotlib.lines.Line2D at 0x7fd941a6d460>,\n",
       " <matplotlib.lines.Line2D at 0x7fd941a6d520>,\n",
       " <matplotlib.lines.Line2D at 0x7fd941a6d5e0>,\n",
       " <matplotlib.lines.Line2D at 0x7fd941a6d6a0>,\n",
       " <matplotlib.lines.Line2D at 0x7fd941a6d760>,\n",
       " <matplotlib.lines.Line2D at 0x7fd941a6d820>,\n",
       " <matplotlib.lines.Line2D at 0x7fd941a6d8e0>,\n",
       " <matplotlib.lines.Line2D at 0x7fd941a6d9a0>,\n",
       " <matplotlib.lines.Line2D at 0x7fd941a6da60>,\n",
       " <matplotlib.lines.Line2D at 0x7fd941a6db20>,\n",
       " <matplotlib.lines.Line2D at 0x7fd941a6dbe0>,\n",
       " <matplotlib.lines.Line2D at 0x7fd941a6dca0>,\n",
       " <matplotlib.lines.Line2D at 0x7fd941a6dd60>,\n",
       " <matplotlib.lines.Line2D at 0x7fd941a6de20>,\n",
       " <matplotlib.lines.Line2D at 0x7fd941a6dee0>,\n",
       " <matplotlib.lines.Line2D at 0x7fd941a6dfa0>,\n",
       " <matplotlib.lines.Line2D at 0x7fd941a750a0>,\n",
       " <matplotlib.lines.Line2D at 0x7fd941a75160>,\n",
       " <matplotlib.lines.Line2D at 0x7fd941a75220>,\n",
       " <matplotlib.lines.Line2D at 0x7fd941a752e0>,\n",
       " <matplotlib.lines.Line2D at 0x7fd941a753a0>,\n",
       " <matplotlib.lines.Line2D at 0x7fd941a75460>,\n",
       " <matplotlib.lines.Line2D at 0x7fd941a75520>,\n",
       " <matplotlib.lines.Line2D at 0x7fd941a755e0>,\n",
       " <matplotlib.lines.Line2D at 0x7fd941a756a0>,\n",
       " <matplotlib.lines.Line2D at 0x7fd941a75760>,\n",
       " <matplotlib.lines.Line2D at 0x7fd941a75820>,\n",
       " <matplotlib.lines.Line2D at 0x7fd941a758e0>,\n",
       " <matplotlib.lines.Line2D at 0x7fd941a759a0>,\n",
       " <matplotlib.lines.Line2D at 0x7fd941a75a60>,\n",
       " <matplotlib.lines.Line2D at 0x7fd941a75b20>,\n",
       " <matplotlib.lines.Line2D at 0x7fd941a75be0>,\n",
       " <matplotlib.lines.Line2D at 0x7fd941a75ca0>,\n",
       " <matplotlib.lines.Line2D at 0x7fd941a75d60>,\n",
       " <matplotlib.lines.Line2D at 0x7fd941a75e20>,\n",
       " <matplotlib.lines.Line2D at 0x7fd941a75ee0>,\n",
       " <matplotlib.lines.Line2D at 0x7fd941a75fa0>,\n",
       " <matplotlib.lines.Line2D at 0x7fd941a7b0a0>,\n",
       " <matplotlib.lines.Line2D at 0x7fd941a7b160>,\n",
       " <matplotlib.lines.Line2D at 0x7fd941a7b220>,\n",
       " <matplotlib.lines.Line2D at 0x7fd941a7b2e0>,\n",
       " <matplotlib.lines.Line2D at 0x7fd941a7b3a0>,\n",
       " <matplotlib.lines.Line2D at 0x7fd941a7b460>,\n",
       " <matplotlib.lines.Line2D at 0x7fd941a7b520>,\n",
       " <matplotlib.lines.Line2D at 0x7fd941a7b5e0>,\n",
       " <matplotlib.lines.Line2D at 0x7fd941a7b6a0>,\n",
       " <matplotlib.lines.Line2D at 0x7fd941a7b760>,\n",
       " <matplotlib.lines.Line2D at 0x7fd941a7b820>,\n",
       " <matplotlib.lines.Line2D at 0x7fd941a7b8e0>,\n",
       " <matplotlib.lines.Line2D at 0x7fd941a7b9a0>,\n",
       " <matplotlib.lines.Line2D at 0x7fd941a7ba60>,\n",
       " <matplotlib.lines.Line2D at 0x7fd941a7bb20>,\n",
       " <matplotlib.lines.Line2D at 0x7fd941a7bbe0>,\n",
       " <matplotlib.lines.Line2D at 0x7fd941a7bca0>,\n",
       " <matplotlib.lines.Line2D at 0x7fd941a7bd60>,\n",
       " <matplotlib.lines.Line2D at 0x7fd941a7be20>,\n",
       " <matplotlib.lines.Line2D at 0x7fd941a7bee0>,\n",
       " <matplotlib.lines.Line2D at 0x7fd941a7bfa0>,\n",
       " <matplotlib.lines.Line2D at 0x7fd941a820a0>,\n",
       " <matplotlib.lines.Line2D at 0x7fd941a82160>,\n",
       " <matplotlib.lines.Line2D at 0x7fd941a82220>,\n",
       " <matplotlib.lines.Line2D at 0x7fd941a822e0>,\n",
       " <matplotlib.lines.Line2D at 0x7fd941a823a0>,\n",
       " <matplotlib.lines.Line2D at 0x7fd941a82460>,\n",
       " <matplotlib.lines.Line2D at 0x7fd941a82520>,\n",
       " <matplotlib.lines.Line2D at 0x7fd941a825e0>,\n",
       " <matplotlib.lines.Line2D at 0x7fd941a826a0>,\n",
       " <matplotlib.lines.Line2D at 0x7fd941a82760>,\n",
       " <matplotlib.lines.Line2D at 0x7fd941a82820>,\n",
       " <matplotlib.lines.Line2D at 0x7fd941a828e0>,\n",
       " <matplotlib.lines.Line2D at 0x7fd941a829a0>,\n",
       " <matplotlib.lines.Line2D at 0x7fd941a82a60>,\n",
       " <matplotlib.lines.Line2D at 0x7fd941a82b20>,\n",
       " <matplotlib.lines.Line2D at 0x7fd941a82be0>,\n",
       " <matplotlib.lines.Line2D at 0x7fd941a82ca0>,\n",
       " <matplotlib.lines.Line2D at 0x7fd941a82d60>,\n",
       " <matplotlib.lines.Line2D at 0x7fd941a82e20>,\n",
       " <matplotlib.lines.Line2D at 0x7fd941a82ee0>,\n",
       " <matplotlib.lines.Line2D at 0x7fd941a82fa0>,\n",
       " <matplotlib.lines.Line2D at 0x7fd941a8a0a0>,\n",
       " <matplotlib.lines.Line2D at 0x7fd941a8a160>,\n",
       " <matplotlib.lines.Line2D at 0x7fd941a8a220>,\n",
       " <matplotlib.lines.Line2D at 0x7fd941a8a2e0>,\n",
       " <matplotlib.lines.Line2D at 0x7fd941a8a3a0>,\n",
       " <matplotlib.lines.Line2D at 0x7fd941a8a460>,\n",
       " <matplotlib.lines.Line2D at 0x7fd941a8a520>,\n",
       " <matplotlib.lines.Line2D at 0x7fd941a8a5e0>,\n",
       " <matplotlib.lines.Line2D at 0x7fd941a8a6a0>,\n",
       " <matplotlib.lines.Line2D at 0x7fd941a8a760>,\n",
       " <matplotlib.lines.Line2D at 0x7fd941a8a820>,\n",
       " <matplotlib.lines.Line2D at 0x7fd941a8a8e0>,\n",
       " <matplotlib.lines.Line2D at 0x7fd941a8a9a0>,\n",
       " <matplotlib.lines.Line2D at 0x7fd941a8aa60>,\n",
       " <matplotlib.lines.Line2D at 0x7fd941a8ab20>,\n",
       " <matplotlib.lines.Line2D at 0x7fd941a8abe0>,\n",
       " <matplotlib.lines.Line2D at 0x7fd941a8aca0>,\n",
       " <matplotlib.lines.Line2D at 0x7fd941a8ad60>,\n",
       " <matplotlib.lines.Line2D at 0x7fd941a8ae20>,\n",
       " <matplotlib.lines.Line2D at 0x7fd941a8aee0>,\n",
       " <matplotlib.lines.Line2D at 0x7fd941a8afa0>,\n",
       " <matplotlib.lines.Line2D at 0x7fd941a900a0>,\n",
       " <matplotlib.lines.Line2D at 0x7fd941a90160>,\n",
       " <matplotlib.lines.Line2D at 0x7fd941a90220>,\n",
       " <matplotlib.lines.Line2D at 0x7fd941a902e0>,\n",
       " <matplotlib.lines.Line2D at 0x7fd941a903a0>,\n",
       " <matplotlib.lines.Line2D at 0x7fd941a90460>,\n",
       " <matplotlib.lines.Line2D at 0x7fd941a90520>,\n",
       " <matplotlib.lines.Line2D at 0x7fd941a905e0>,\n",
       " <matplotlib.lines.Line2D at 0x7fd941a906a0>,\n",
       " <matplotlib.lines.Line2D at 0x7fd941a90760>,\n",
       " <matplotlib.lines.Line2D at 0x7fd941a90820>,\n",
       " <matplotlib.lines.Line2D at 0x7fd941a908e0>,\n",
       " <matplotlib.lines.Line2D at 0x7fd941a909a0>,\n",
       " <matplotlib.lines.Line2D at 0x7fd941a90a60>,\n",
       " <matplotlib.lines.Line2D at 0x7fd941a90b20>,\n",
       " <matplotlib.lines.Line2D at 0x7fd941a90be0>,\n",
       " <matplotlib.lines.Line2D at 0x7fd941a90ca0>,\n",
       " <matplotlib.lines.Line2D at 0x7fd941a90d60>,\n",
       " <matplotlib.lines.Line2D at 0x7fd941a90e20>,\n",
       " <matplotlib.lines.Line2D at 0x7fd941a90ee0>,\n",
       " <matplotlib.lines.Line2D at 0x7fd941a90fa0>,\n",
       " <matplotlib.lines.Line2D at 0x7fd941a170a0>,\n",
       " <matplotlib.lines.Line2D at 0x7fd941a17160>,\n",
       " <matplotlib.lines.Line2D at 0x7fd941a17220>,\n",
       " <matplotlib.lines.Line2D at 0x7fd941a172e0>,\n",
       " <matplotlib.lines.Line2D at 0x7fd941a173a0>,\n",
       " <matplotlib.lines.Line2D at 0x7fd941a17460>,\n",
       " <matplotlib.lines.Line2D at 0x7fd941a17520>,\n",
       " <matplotlib.lines.Line2D at 0x7fd941a175e0>,\n",
       " <matplotlib.lines.Line2D at 0x7fd941a176a0>,\n",
       " <matplotlib.lines.Line2D at 0x7fd941a17760>,\n",
       " <matplotlib.lines.Line2D at 0x7fd941a17820>,\n",
       " <matplotlib.lines.Line2D at 0x7fd941a178e0>,\n",
       " <matplotlib.lines.Line2D at 0x7fd941a179a0>,\n",
       " <matplotlib.lines.Line2D at 0x7fd941a17a60>,\n",
       " <matplotlib.lines.Line2D at 0x7fd941a17b20>,\n",
       " <matplotlib.lines.Line2D at 0x7fd941a17be0>,\n",
       " <matplotlib.lines.Line2D at 0x7fd941a17ca0>,\n",
       " <matplotlib.lines.Line2D at 0x7fd941a17d60>,\n",
       " <matplotlib.lines.Line2D at 0x7fd941a17e20>,\n",
       " <matplotlib.lines.Line2D at 0x7fd941a17ee0>,\n",
       " <matplotlib.lines.Line2D at 0x7fd941a17fa0>,\n",
       " <matplotlib.lines.Line2D at 0x7fd941a1f0a0>,\n",
       " <matplotlib.lines.Line2D at 0x7fd941a1f160>,\n",
       " <matplotlib.lines.Line2D at 0x7fd941a1f220>,\n",
       " <matplotlib.lines.Line2D at 0x7fd941a1f2e0>,\n",
       " <matplotlib.lines.Line2D at 0x7fd941a1f3a0>,\n",
       " <matplotlib.lines.Line2D at 0x7fd941a1f460>,\n",
       " <matplotlib.lines.Line2D at 0x7fd941a1f520>,\n",
       " <matplotlib.lines.Line2D at 0x7fd941a1f5e0>,\n",
       " <matplotlib.lines.Line2D at 0x7fd941a1f6a0>,\n",
       " <matplotlib.lines.Line2D at 0x7fd941a1f760>,\n",
       " <matplotlib.lines.Line2D at 0x7fd941a1f820>,\n",
       " <matplotlib.lines.Line2D at 0x7fd941a1f8e0>,\n",
       " <matplotlib.lines.Line2D at 0x7fd941a1f9a0>,\n",
       " <matplotlib.lines.Line2D at 0x7fd941a1fa60>,\n",
       " <matplotlib.lines.Line2D at 0x7fd941a1fb20>,\n",
       " <matplotlib.lines.Line2D at 0x7fd941a1fbe0>,\n",
       " <matplotlib.lines.Line2D at 0x7fd941a1fca0>,\n",
       " <matplotlib.lines.Line2D at 0x7fd941a1fd60>,\n",
       " <matplotlib.lines.Line2D at 0x7fd941a1fe20>,\n",
       " <matplotlib.lines.Line2D at 0x7fd941a1fee0>,\n",
       " <matplotlib.lines.Line2D at 0x7fd941a1ffa0>,\n",
       " <matplotlib.lines.Line2D at 0x7fd941a250a0>,\n",
       " <matplotlib.lines.Line2D at 0x7fd941a25160>,\n",
       " <matplotlib.lines.Line2D at 0x7fd941a25220>,\n",
       " <matplotlib.lines.Line2D at 0x7fd941a252e0>,\n",
       " <matplotlib.lines.Line2D at 0x7fd941a253a0>,\n",
       " <matplotlib.lines.Line2D at 0x7fd941a25460>,\n",
       " <matplotlib.lines.Line2D at 0x7fd941a25520>,\n",
       " <matplotlib.lines.Line2D at 0x7fd941a255e0>,\n",
       " <matplotlib.lines.Line2D at 0x7fd941a256a0>,\n",
       " <matplotlib.lines.Line2D at 0x7fd941a25760>,\n",
       " <matplotlib.lines.Line2D at 0x7fd941a25820>,\n",
       " <matplotlib.lines.Line2D at 0x7fd941a258e0>,\n",
       " <matplotlib.lines.Line2D at 0x7fd941a259a0>,\n",
       " <matplotlib.lines.Line2D at 0x7fd941a25a60>,\n",
       " <matplotlib.lines.Line2D at 0x7fd941a25b20>,\n",
       " <matplotlib.lines.Line2D at 0x7fd941a25be0>,\n",
       " <matplotlib.lines.Line2D at 0x7fd941a25ca0>,\n",
       " <matplotlib.lines.Line2D at 0x7fd941a25d60>,\n",
       " <matplotlib.lines.Line2D at 0x7fd941a25e20>,\n",
       " <matplotlib.lines.Line2D at 0x7fd941a25ee0>,\n",
       " <matplotlib.lines.Line2D at 0x7fd941a25fa0>,\n",
       " <matplotlib.lines.Line2D at 0x7fd941a2c0a0>,\n",
       " <matplotlib.lines.Line2D at 0x7fd941a2c160>,\n",
       " <matplotlib.lines.Line2D at 0x7fd941a2c220>,\n",
       " <matplotlib.lines.Line2D at 0x7fd941a2c2e0>,\n",
       " <matplotlib.lines.Line2D at 0x7fd941a2c3a0>,\n",
       " <matplotlib.lines.Line2D at 0x7fd941a2c460>,\n",
       " <matplotlib.lines.Line2D at 0x7fd941a2c520>,\n",
       " <matplotlib.lines.Line2D at 0x7fd941a2c5e0>,\n",
       " <matplotlib.lines.Line2D at 0x7fd941a2c6a0>,\n",
       " <matplotlib.lines.Line2D at 0x7fd941a2c760>,\n",
       " <matplotlib.lines.Line2D at 0x7fd941a2c820>,\n",
       " <matplotlib.lines.Line2D at 0x7fd941a2c8e0>,\n",
       " <matplotlib.lines.Line2D at 0x7fd941a2c9a0>,\n",
       " <matplotlib.lines.Line2D at 0x7fd941a2ca60>,\n",
       " <matplotlib.lines.Line2D at 0x7fd941a2cb20>,\n",
       " <matplotlib.lines.Line2D at 0x7fd941a2cbe0>,\n",
       " <matplotlib.lines.Line2D at 0x7fd941a2cca0>,\n",
       " <matplotlib.lines.Line2D at 0x7fd941a2cd60>,\n",
       " <matplotlib.lines.Line2D at 0x7fd941a2ce20>,\n",
       " <matplotlib.lines.Line2D at 0x7fd941a2cee0>,\n",
       " <matplotlib.lines.Line2D at 0x7fd941a2cfa0>,\n",
       " <matplotlib.lines.Line2D at 0x7fd941a340a0>,\n",
       " <matplotlib.lines.Line2D at 0x7fd941a34160>,\n",
       " <matplotlib.lines.Line2D at 0x7fd941a34220>,\n",
       " <matplotlib.lines.Line2D at 0x7fd941a342e0>,\n",
       " <matplotlib.lines.Line2D at 0x7fd941a343a0>,\n",
       " <matplotlib.lines.Line2D at 0x7fd941a34460>,\n",
       " <matplotlib.lines.Line2D at 0x7fd941a34520>,\n",
       " <matplotlib.lines.Line2D at 0x7fd941a345e0>,\n",
       " <matplotlib.lines.Line2D at 0x7fd941a346a0>,\n",
       " <matplotlib.lines.Line2D at 0x7fd941a34760>,\n",
       " <matplotlib.lines.Line2D at 0x7fd941a34820>,\n",
       " <matplotlib.lines.Line2D at 0x7fd941a348e0>,\n",
       " <matplotlib.lines.Line2D at 0x7fd941a349a0>,\n",
       " <matplotlib.lines.Line2D at 0x7fd941a34a60>,\n",
       " <matplotlib.lines.Line2D at 0x7fd941a34b20>,\n",
       " <matplotlib.lines.Line2D at 0x7fd941a34be0>,\n",
       " <matplotlib.lines.Line2D at 0x7fd941a34ca0>,\n",
       " <matplotlib.lines.Line2D at 0x7fd941a34d60>,\n",
       " <matplotlib.lines.Line2D at 0x7fd941a34e20>,\n",
       " <matplotlib.lines.Line2D at 0x7fd941a34ee0>,\n",
       " <matplotlib.lines.Line2D at 0x7fd941a34fa0>,\n",
       " <matplotlib.lines.Line2D at 0x7fd941a3b0a0>,\n",
       " <matplotlib.lines.Line2D at 0x7fd941a3b160>,\n",
       " <matplotlib.lines.Line2D at 0x7fd941a3b220>,\n",
       " <matplotlib.lines.Line2D at 0x7fd941a3b2e0>,\n",
       " <matplotlib.lines.Line2D at 0x7fd941a3b3a0>,\n",
       " <matplotlib.lines.Line2D at 0x7fd941a3b460>,\n",
       " <matplotlib.lines.Line2D at 0x7fd941a3b520>,\n",
       " <matplotlib.lines.Line2D at 0x7fd941a3b5e0>,\n",
       " <matplotlib.lines.Line2D at 0x7fd941a3b6a0>,\n",
       " <matplotlib.lines.Line2D at 0x7fd941a3b760>,\n",
       " <matplotlib.lines.Line2D at 0x7fd941a3b820>,\n",
       " <matplotlib.lines.Line2D at 0x7fd941a3b8e0>,\n",
       " <matplotlib.lines.Line2D at 0x7fd941a3b9a0>,\n",
       " <matplotlib.lines.Line2D at 0x7fd941a3ba60>,\n",
       " <matplotlib.lines.Line2D at 0x7fd941a3bb20>,\n",
       " <matplotlib.lines.Line2D at 0x7fd941a3bbe0>,\n",
       " <matplotlib.lines.Line2D at 0x7fd941a3bca0>,\n",
       " <matplotlib.lines.Line2D at 0x7fd941a3bd60>,\n",
       " <matplotlib.lines.Line2D at 0x7fd941a3be20>,\n",
       " <matplotlib.lines.Line2D at 0x7fd941a3bee0>,\n",
       " <matplotlib.lines.Line2D at 0x7fd941a3bfa0>,\n",
       " <matplotlib.lines.Line2D at 0x7fd941a420a0>,\n",
       " <matplotlib.lines.Line2D at 0x7fd941a42160>,\n",
       " <matplotlib.lines.Line2D at 0x7fd941a42220>,\n",
       " <matplotlib.lines.Line2D at 0x7fd941a422e0>,\n",
       " <matplotlib.lines.Line2D at 0x7fd941a423a0>,\n",
       " <matplotlib.lines.Line2D at 0x7fd941a42460>,\n",
       " <matplotlib.lines.Line2D at 0x7fd941a42520>,\n",
       " <matplotlib.lines.Line2D at 0x7fd941a425e0>,\n",
       " <matplotlib.lines.Line2D at 0x7fd941a426a0>,\n",
       " <matplotlib.lines.Line2D at 0x7fd941a42760>,\n",
       " <matplotlib.lines.Line2D at 0x7fd941a42820>,\n",
       " <matplotlib.lines.Line2D at 0x7fd941a428e0>,\n",
       " <matplotlib.lines.Line2D at 0x7fd941a429a0>,\n",
       " <matplotlib.lines.Line2D at 0x7fd941a42a60>,\n",
       " <matplotlib.lines.Line2D at 0x7fd941a42b20>,\n",
       " <matplotlib.lines.Line2D at 0x7fd941a42be0>,\n",
       " ...]"
      ]
     },
     "execution_count": 136,
     "metadata": {},
     "output_type": "execute_result"
    },
    {
     "data": {
      "image/png": "[encoded data removed]",
      "text/plain": [
       "<Figure size 432x288 with 1 Axes>"
      ]
     },
     "metadata": {
      "needs_background": "light"
     },
     "output_type": "display_data"
    }
   ],
   "source": [
    "plt.plot(data)"
   ]
  },
  {
   "cell_type": "markdown",
   "metadata": {},
   "source": [
    "# test process image"
   ]
  },
  {
   "cell_type": "code",
   "execution_count": 70,
   "metadata": {},
   "outputs": [],
   "source": [
    "import numpy as np\n",
    "import gdal\n",
    "import ogr, osr\n",
    "chm_dataset = gdal.Open('output/clip_NDVI/NDVI_T2 P6.tif')"
   ]
  },
  {
   "cell_type": "code",
   "execution_count": 71,
   "metadata": {},
   "outputs": [
    {
     "name": "stdout",
     "output_type": "stream",
     "text": [
      "# of columns: 413\n",
      "# of rows: 384\n",
      "# of bands: 4\n",
      "driver: GeoTIFF\n"
     ]
    }
   ],
   "source": [
    "#Display the dataset dimensions, number of bands, driver, and geotransform \n",
    "cols = chm_dataset.RasterXSize; print('# of columns:',cols)\n",
    "rows = chm_dataset.RasterYSize; print('# of rows:',rows)\n",
    "print('# of bands:',chm_dataset.RasterCount)\n",
    "print('driver:',chm_dataset.GetDriver().LongName)\n"
   ]
  },
  {
   "cell_type": "code",
   "execution_count": 72,
   "metadata": {},
   "outputs": [
    {
     "name": "stdout",
     "output_type": "stream",
     "text": [
      "projection: GEOGCS[\"WGS 84\",DATUM[\"WGS_1984\",SPHEROID[\"WGS 84\",6378137,298.257223563,AUTHORITY[\"EPSG\",\"7030\"]],AUTHORITY[\"EPSG\",\"6326\"]],PRIMEM[\"Greenwich\",0],UNIT[\"degree\",0.0174532925199433,AUTHORITY[\"EPSG\",\"9122\"]],AXIS[\"Latitude\",NORTH],AXIS[\"Longitude\",EAST],AUTHORITY[\"EPSG\",\"4326\"]]\n"
     ]
    }
   ],
   "source": [
    "print('projection:',chm_dataset.GetProjection())"
   ]
  },
  {
   "cell_type": "code",
   "execution_count": 73,
   "metadata": {},
   "outputs": [
    {
     "name": "stdout",
     "output_type": "stream",
     "text": [
      "geotransform: (-70.8960520685065, 5.267371250802094e-07, 0.0, -33.76806978941603, 0.0, -5.267371250802094e-07)\n"
     ]
    }
   ],
   "source": [
    "print('geotransform:',chm_dataset.GetGeoTransform())"
   ]
  },
  {
   "cell_type": "code",
   "execution_count": 74,
   "metadata": {},
   "outputs": [
    {
     "name": "stdout",
     "output_type": "stream",
     "text": [
      "chm raster extent: (-70.8960520685065, 784072249.6891165, -729016428.6947156, -33.76806978941603)\n"
     ]
    }
   ],
   "source": [
    "chm_mapinfo = chm_dataset.GetGeoTransform()\n",
    "xMin = chm_mapinfo[0]\n",
    "yMax = chm_mapinfo[3]\n",
    "\n",
    "xMax = xMin + chm_dataset.RasterXSize/chm_mapinfo[1] #divide by pixel width \n",
    "yMin = yMax + chm_dataset.RasterYSize/chm_mapinfo[5] #divide by pixel height (note sign +/-)\n",
    "chm_ext = (xMin,xMax,yMin,yMax)\n",
    "print('chm raster extent:',chm_ext)"
   ]
  },
  {
   "cell_type": "code",
   "execution_count": 75,
   "metadata": {},
   "outputs": [
    {
     "name": "stdout",
     "output_type": "stream",
     "text": [
      "no data value: None\n",
      "scale factor: 1.0\n",
      "SERC CHM Statistics: Minimum=0.00, Maximum=255.00, Mean=208.821, StDev=56.286\n"
     ]
    }
   ],
   "source": [
    "chm_raster = chm_dataset.GetRasterBand(2)\n",
    "noDataVal = chm_raster.GetNoDataValue(); print('no data value:',noDataVal)\n",
    "scaleFactor = chm_raster.GetScale(); print('scale factor:',scaleFactor)\n",
    "chm_stats = chm_raster.GetStatistics(True,True)\n",
    "print('SERC CHM Statistics: Minimum=%.2f, Maximum=%.2f, Mean=%.3f, StDev=%.3f' % \n",
    "      (chm_stats[0], chm_stats[1], chm_stats[2], chm_stats[3]))"
   ]
  },
  {
   "cell_type": "code",
   "execution_count": 76,
   "metadata": {},
   "outputs": [
    {
     "name": "stdout",
     "output_type": "stream",
     "text": [
      "SERC CHM Array:\n",
      " [[  0.   0.   0. ...   0.   0.   0.]\n",
      " [184. 207. 193. ... 237. 218.   0.]\n",
      " [166. 219. 216. ... 245. 232.   0.]\n",
      " ...\n",
      " [255. 255. 255. ... 217. 217.   0.]\n",
      " [224. 250. 255. ... 179. 179.   0.]\n",
      " [  0.   0.   0. ...   0.   0.   0.]]\n"
     ]
    }
   ],
   "source": [
    "chm_array = chm_dataset.GetRasterBand(1).ReadAsArray(0,0,cols,rows).astype(np.float)\n",
    "chm_array[chm_array==noDataVal]=np.nan #Assign CHM No Data Values to NaN\n",
    "chm_array=chm_array/scaleFactor\n",
    "print('SERC CHM Array:\\n',chm_array) #display array values"
   ]
  },
  {
   "cell_type": "code",
   "execution_count": 77,
   "metadata": {},
   "outputs": [
    {
     "name": "stdout",
     "output_type": "stream",
     "text": [
      "% NaN: 0.0\n",
      "% non-zero: 99.24\n"
     ]
    }
   ],
   "source": [
    "# Calculate the % of pixels that are NaN and non-zero:\n",
    "pct_nan = np.count_nonzero(np.isnan(chm_array))/(rows*cols)\n",
    "print('% NaN:',round(pct_nan*100,2))\n",
    "print('% non-zero:',round(100*np.count_nonzero(chm_array)/(rows*cols),2))"
   ]
  },
  {
   "cell_type": "code",
   "execution_count": 78,
   "metadata": {},
   "outputs": [
    {
     "data": {
      "image/png": "[encoded data removed]",
      "text/plain": [
       "<Figure size 432x288 with 1 Axes>"
      ]
     },
     "metadata": {
      "needs_background": "light"
     },
     "output_type": "display_data"
    }
   ],
   "source": [
    "def plot_spatial_array(band_array,spatial_extent,colorlimit,ax=plt.gca(),title='',cmap_title='',colormap=''):\n",
    "    plot = plt.imshow(band_array,extent=spatial_extent,clim=colorlimit); \n",
    "    cbar = plt.colorbar(plot,aspect=40); \n",
    "    plt.set_cmap(colormap); \n",
    "    cbar.set_label(cmap_title,rotation=90,labelpad=20);\n",
    "    plt.title(title); \n",
    "    ax = plt.gca(); \n",
    "    ax.ticklabel_format(useOffset=False, style='plain'); #do not use scientific notation #\n",
    "    rotatexlabels = plt.setp(ax.get_xticklabels(),rotation=90); #rotate x tick labels 90 degrees"
   ]
  },
  {
   "cell_type": "code",
   "execution_count": 79,
   "metadata": {},
   "outputs": [
    {
     "data": {
      "text/plain": [
       "Text(0, 0.5, 'Relative Frequency')"
      ]
     },
     "execution_count": 79,
     "metadata": {},
     "output_type": "execute_result"
    },
    {
     "data": {
      "image/png": "[encoded data removed]",
      "text/plain": [
       "<Figure size 432x288 with 1 Axes>"
      ]
     },
     "metadata": {
      "needs_background": "light"
     },
     "output_type": "display_data"
    }
   ],
   "source": [
    "#https://www.neonscience.org/classify-raster-thresholds-2018-py\n",
    "plt.hist(chm_array[~np.isnan(chm_array)],100);\n",
    "ax = plt.gca()\n",
    "ax.set_ylim([0,1e4]) #adjust the y limit to zoom in on area of interest\n",
    "plt.title('Distribution of SERC Canopy Height')\n",
    "plt.xlabel('Tree Height (m)'); plt.ylabel('Relative Frequency')"
   ]
  },
  {
   "cell_type": "code",
   "execution_count": 80,
   "metadata": {},
   "outputs": [
    {
     "data": {
      "image/png": "[encoded data removed]",
      "text/plain": [
       "<Figure size 432x288 with 2 Axes>"
      ]
     },
     "metadata": {
      "needs_background": "light"
     },
     "output_type": "display_data"
    }
   ],
   "source": [
    "plot_spatial_array(chm_array,\n",
    "                chm_ext,\n",
    "                (0,250),\n",
    "                title='Region de estudio',\n",
    "                cmap_title='NDVI BANDA 2',\n",
    "                colormap='BuGn')"
   ]
  },
  {
   "cell_type": "code",
   "execution_count": 81,
   "metadata": {},
   "outputs": [],
   "source": [
    "import copy\n",
    "chm_reclass = copy.copy(chm_array)\n",
    "chm_reclass[np.where(chm_array==0)] = 1 # CHM = 0 : Class 1\n",
    "chm_reclass[np.where((chm_array>0) & (chm_array<=50))] = 2 # 0m < CHM <= 10m - Class 2\n",
    "chm_reclass[np.where((chm_array>50) & (chm_array<=100))] = 3 # 10m < CHM <= 20m - Class 3\n",
    "chm_reclass[np.where((chm_array>100) & (chm_array<=230))] = 4 # 20m < CHM <= 30m - Class 4\n",
    "chm_reclass[np.where(chm_array>230)] = 5 # CHM > 30m - Class 5"
   ]
  },
  {
   "cell_type": "code",
   "execution_count": 82,
   "metadata": {},
   "outputs": [
    {
     "data": {
      "text/plain": [
       "<matplotlib.legend.Legend at 0x7f910ba4e7c0>"
      ]
     },
     "execution_count": 82,
     "metadata": {},
     "output_type": "execute_result"
    },
    {
     "data": {
      "image/png": "[encoded data removed]",
      "text/plain": [
       "<Figure size 432x288 with 1 Axes>"
      ]
     },
     "metadata": {
      "needs_background": "light"
     },
     "output_type": "display_data"
    }
   ],
   "source": [
    "import matplotlib.colors as colors\n",
    "plt.figure(); \n",
    "cmapCHM = colors.ListedColormap(['lightblue','yellow','orange','green','red'])\n",
    "plt.imshow(chm_reclass,extent=chm_ext,cmap=cmapCHM)\n",
    "plt.title('Classification BANDA2')\n",
    "ax=plt.gca(); ax.ticklabel_format(useOffset=False, style='plain') #do not use scientific notation \n",
    "rotatexlabels = plt.setp(ax.get_xticklabels(),rotation=90) #rotate x tick labels 90 degrees\n",
    "\n",
    "# Create custom legend to label the four canopy height classes:\n",
    "import matplotlib.patches as mpatches\n",
    "class1_box = mpatches.Patch(color='lightblue', label='CHM = 0m')\n",
    "class2_box = mpatches.Patch(color='yellow', label='0m < CHM <= 50m')\n",
    "class3_box = mpatches.Patch(color='orange', label='50m < CHM <= 100m')\n",
    "class4_box = mpatches.Patch(color='green', label='100m < CHM <= 230m')\n",
    "class5_box = mpatches.Patch(color='red', label='CHM > 230m')\n",
    "\n",
    "ax.legend(handles=[class1_box,class2_box,class3_box,class4_box,class5_box],\n",
    "          handlelength=0.7,bbox_to_anchor=(1.05, 0.4),loc='lower left',borderaxespad=0.)"
   ]
  },
  {
   "cell_type": "markdown",
   "metadata": {},
   "source": [
    "# calculo de area"
   ]
  },
  {
   "cell_type": "code",
   "execution_count": 55,
   "metadata": {},
   "outputs": [
    {
     "data": {
      "image/png": "[encoded data removed]",
      "text/plain": [
       "<Figure size 432x288 with 1 Axes>"
      ]
     },
     "metadata": {
      "needs_background": "light"
     },
     "output_type": "display_data"
    }
   ],
   "source": [
    "import numpy as np\n",
    "import scipy as sp\n",
    "import scipy.interpolate\n",
    "import matplotlib.pyplot as plt\n",
    "\n",
    "# Mock up an image.\n",
    "W = 100\n",
    "x = np.arange(W)\n",
    "y = np.arange(W)\n",
    "xx,yy = np.meshgrid(x,y)\n",
    "\n",
    "image = xx//5*5 + yy//5*5\n",
    "image = image / np.max(image)  # scale into [0,1]\n",
    "\n",
    "plt.imshow(image, interpolation='nearest', cmap='gray')\n",
    "plt.show()"
   ]
  },
  {
   "cell_type": "code",
   "execution_count": 11,
   "metadata": {},
   "outputs": [
    {
     "data": {
      "image/png": "[encoded data removed]",
      "text/plain": [
       "<Figure size 432x288 with 1 Axes>"
      ]
     },
     "metadata": {
      "needs_background": "light"
     },
     "output_type": "display_data"
    }
   ],
   "source": [
    "interp = sp.interpolate.interp2d(x, y, image)\n",
    "vinterp = np.vectorize(interp)\n",
    "\n",
    "for r in (15, 30, 45):    # radii for circles around image's center\n",
    "    xcenter = len(x)/2\n",
    "    ycenter = len(y)/2\n",
    "    arclen = 2*np.pi*r\n",
    "    angle = np.linspace(0, int(2*np.pi), int(arclen*2), endpoint=False)\n",
    "    value = vinterp(xcenter + r*np.sin(angle),\n",
    "                       ycenter + r*np.cos(angle))\n",
    "    plt.plot(angle, value, label='r={}'.format(r))\n",
    "\n",
    "plt.legend()\n",
    "plt.show()"
   ]
  },
  {
   "cell_type": "code",
   "execution_count": null,
   "metadata": {},
   "outputs": [],
   "source": []
  },
  {
   "cell_type": "code",
   "execution_count": 61,
   "metadata": {},
   "outputs": [
    {
     "name": "stdout",
     "output_type": "stream",
     "text": [
      "{\"type\": \"Feature\", \"geometry\": {\"type\": \"Polygon\", \"coordinates\": [[[-70.89613303959966, -33.76803355030987, 0.0], [-70.89599389363235, -33.76807017608719, 0.0], [-70.89605192074028, -33.76822985982048, 0.0], [-70.89619160902487, -33.76819279061475, 0.0], [-70.89613303959966, -33.76803355030987, 0.0]]]}, \"properties\": {\"Name\": \"T2: P7\"}, \"id\": 0}\n",
      "[-70.89619160902487, -33.76822985982048, -70.89599389363235, -33.76803355030987]\n"
     ]
    }
   ],
   "source": [
    "import shapely\n",
    "from shapely.geometry import MultiPolygon, Point\n",
    "\n",
    "import shapefile\n",
    "pol = shapefile.Reader('output/shp/T2 P7.kmz.shp')\n",
    "\n",
    "from osgeo import ogr\n",
    "file = ogr.Open(\"output/shp/T2 P7.kmz.shp\")\n",
    "shape = file.GetLayer(0)\n",
    "#first feature of the shapefile\n",
    "feature = shape.GetFeature(0)\n",
    "first = feature.ExportToJson()\n",
    "print(first) # (GeoJSON format)\n",
    "print(pol.bbox)\n"
   ]
  },
  {
   "cell_type": "code",
   "execution_count": 46,
   "metadata": {},
   "outputs": [
    {
     "ename": "SyntaxError",
     "evalue": "closing parenthesis '}' does not match opening parenthesis '[' (<ipython-input-46-f5f7cf72d20a>, line 1)",
     "output_type": "error",
     "traceback": [
      "\u001b[0;36m  File \u001b[0;32m\"<ipython-input-46-f5f7cf72d20a>\"\u001b[0;36m, line \u001b[0;32m1\u001b[0m\n\u001b[0;31m    result = {\"type\":'LineString','coordinates':[ [pol.bbox[0],pol.bbox[1]], [pol.bbox[2],pol.bbox[1]],[pol.bbox[0],pol.bbox[3]],[pol.bbox[2],pol.bbox[13] ] }\u001b[0m\n\u001b[0m                                                                                                                                                             ^\u001b[0m\n\u001b[0;31mSyntaxError\u001b[0m\u001b[0;31m:\u001b[0m closing parenthesis '}' does not match opening parenthesis '['\n"
     ]
    }
   ],
   "source": [
    "result = {\"type\":'Feature',\"geometry\":{ \"type\":'LineString', \n",
    "                                       'coordinates':[ [pol.bbox[0],pol.bbox[1]], [pol.bbox[2],pol.bbox[1]],[pol.bbox[0],pol.bbox[3]],[pol.bbox[2],pol.bbox[13] ] },\n",
    "                                                      \"properties\": {\"Name\": \"T2: P7\"}, \"id\": 0}"
   ]
  },
  {
   "cell_type": "code",
   "execution_count": 94,
   "metadata": {},
   "outputs": [
    {
     "name": "stdout",
     "output_type": "stream",
     "text": [
      "-70.89619160902487\n",
      "{'type': 'LineString', 'coordinates': [[-33.76822985982048, -70.89619160902487], [-33.76822985982048, -70.89619160902487]]}\n",
      "LINESTRING (-70.89619160902487 -33.76822985982048, -70.89619160902487 -33.76803355030987, -70.89619160902487 -33.76803355030987, -70.89599389363235 -33.76803355030987, -70.89599389363235 -33.76803355030987, -70.89599389363235 -33.76822985982048, -70.89599389363235 -33.76822985982048, -70.89619160902487 -33.76822985982048)\n"
     ]
    }
   ],
   "source": [
    "print(pol.bbox[0])\n",
    "line1 = \"\"\"{\"type\":\"LineString\", \"coordinates\":\n",
    "[[\"\"\"+str(pol.bbox[0])+\"\"\",\"\"\"+str(pol.bbox[1])+\"\"\"],[\"\"\"+str(pol.bbox[0])+\"\"\",\"\"\"+str(pol.bbox[3])+\"\"\"]]}\"\"\"\n",
    "line2 = \"\"\"{\"type\":\"LineString\", \"coordinates\":\n",
    "[[\"\"\"+str(pol.bbox[0])+\"\"\",\"\"\"+str(pol.bbox[3])+\"\"\"],[\"\"\"+str(pol.bbox[2])+\"\"\",\"\"\"+str(pol.bbox[3])+\"\"\"]]}\"\"\"\n",
    "line3 = \"\"\"{\"type\":\"LineString\", \"coordinates\":\n",
    "[[\"\"\"+str(pol.bbox[2])+\"\"\",\"\"\"+str(pol.bbox[3])+\"\"\"],[\"\"\"+str(pol.bbox[2])+\"\"\",\"\"\"+str(pol.bbox[1])+\"\"\"]]}\"\"\"\n",
    "line4 = \"\"\"{\"type\":\"LineString\", \"coordinates\":\n",
    "[[\"\"\"+str(pol.bbox[2])+\"\"\",\"\"\"+str(pol.bbox[1])+\"\"\"],[\"\"\"+str(pol.bbox[0])+\"\"\",\"\"\"+str(pol.bbox[1])+\"\"\"]]}\"\"\"\n",
    "\n",
    "test=json.loads(line)\n",
    "print(test)\n",
    "from osgeo import ogr\n",
    "pointogr = ogr.CreateGeometryFromJson(point)\n",
    "lineogr = ogr.CreateGeometryFromJson(line)\n",
    "polyogr = ogr.CreateGeometryFromJson(poly)\n",
    "\n",
    "\n",
    "driver = ogr.GetDriverByName('ESRI Shapefile')\n",
    "ds = driver.CreateDataSource('line.shp')\n",
    "layer = ds.CreateLayer('line', geom_type=ogr.wkbLineString)\n",
    "field_testfield = ogr.FieldDefn(\"fld_a\", ogr.OFTString)\n",
    "field_testfield.SetWidth(50)\n",
    "layer.CreateField(field_testfield)\n",
    "feature = ogr.Feature(layer.GetLayerDefn())\n",
    "feature.SetField(\"fld_a\",'test')\n",
    "feature.SetGeometry(lineogr)\n",
    "layer.CreateFeature(feature)\n",
    "feature = None\n",
    "ds = None\n",
    "\n",
    "\n",
    "\n",
    "import fiona\n",
    "import json\n",
    "# shapefile schema\n",
    "schema = {'geometry': 'LineString','properties': {'fld_a': 'str:50'}}\n",
    "\n",
    "        \n",
    "\n",
    "with fiona.open('line1.shp', 'w', 'ESRI Shapefile', schema) as layer:\n",
    "      layer.write({'geometry': json.loads(line1), 'properties': {'fld_a': 'test'}})\n",
    "with fiona.open('line2.shp', 'w', 'ESRI Shapefile', schema) as layer:\n",
    "      layer.write({'geometry': json.loads(line2), 'properties': {'fld_a': 'test'}})\n",
    "with fiona.open('line3.shp', 'w', 'ESRI Shapefile', schema) as layer:\n",
    "      layer.write({'geometry': json.loads(line3), 'properties': {'fld_a': 'test'}})\n",
    "with fiona.open('line4.shp', 'w', 'ESRI Shapefile', schema) as layer:\n",
    "      layer.write({'geometry': json.loads(line4), 'properties': {'fld_a': 'test'}})\n",
    "\n",
    "import shapely\n",
    "\n",
    "# Make a MultiLineString to use for the example\n",
    "inlines = shapely.geometry.MultiLineString(\n",
    "    [shapely.geometry.LineString([(pol.bbox[0],pol.bbox[1]),(pol.bbox[0],pol.bbox[3])]), \n",
    "     shapely.geometry.LineString([(pol.bbox[0],pol.bbox[3]),(pol.bbox[2],pol.bbox[3])]),\n",
    "     shapely.geometry.LineString([(pol.bbox[2],pol.bbox[3]),(pol.bbox[2],pol.bbox[1])]), \n",
    "     shapely.geometry.LineString([(pol.bbox[2],pol.bbox[1]),(pol.bbox[0],pol.bbox[1])])]\n",
    ")\n",
    "\n",
    "# Put the sub-line coordinates into a list of sublists\n",
    "outcoords = [list(i.coords) for i in inlines]\n",
    "\n",
    "# Flatten the list of sublists and use it to make a new line\n",
    "outline = shapely.geometry.LineString([i for sublist in outcoords for i in sublist])\n",
    "print(outline)\n",
    "coords=[(pol.bbox[0],pol.bbox[1]),\n",
    "        (pol.bbox[0],pol.bbox[3]),\n",
    "        (pol.bbox[0],pol.bbox[3]),\n",
    "        (pol.bbox[2],pol.bbox[3]),\n",
    "        (pol.bbox[2],pol.bbox[3]),\n",
    "        (pol.bbox[2],pol.bbox[1]),\n",
    "        (pol.bbox[2],pol.bbox[1]),\n",
    "        (pol.bbox[0],pol.bbox[1])]\n",
    "aline = LineString(coords)\n",
    "bline = LineString([(c[0], c[1]) for c in coords])\n",
    "d = {'col1': ['name1','name2'], 'geometry': [aline, bline]}\n",
    "df = gpd.GeoDataFrame(d, crs=\"EPSG:4326\") #(change epsg)\n",
    "df.to_file('lines1234.shp')"
   ]
  },
  {
   "cell_type": "code",
   "execution_count": 64,
   "metadata": {},
   "outputs": [],
   "source": [
    "point = \"\"\"{\"type\":\"Point\",\"coordinates\":[108420.33,753808.59]}\"\"\"\n",
    "line = \"\"\"{ \"type\": \"LineString\", \"coordinates\": [ [100.0, 0.0], [101.0, 1.0] ]}\"\"\"\n",
    "poly = \"\"\"{ \"type\": \"Polygon\",\"coordinates\": [[ [100.0, 0.0], [101.0, 0.0], [101.0, 1.0], [100.0, 1.0], [100.0, 0.0] ],[ [100.2, 0.2], [100.8, 0.2], [100.8, 0.8], [100.2, 0.8], [100.2, 0.2] ]]}\"\"\"\n",
    "from osgeo import ogr\n",
    "pointogr = ogr.CreateGeometryFromJson(point)\n",
    "lineogr = ogr.CreateGeometryFromJson(line)\n",
    "polyogr = ogr.CreateGeometryFromJson(poly)\n",
    "\n",
    "\n",
    "driver = ogr.GetDriverByName('ESRI Shapefile')\n",
    "ds = driver.CreateDataSource('line.shp')\n",
    "layer = ds.CreateLayer('line', geom_type=ogr.wkbLineString)\n",
    "field_testfield = ogr.FieldDefn(\"fld_a\", ogr.OFTString)\n",
    "field_testfield.SetWidth(50)\n",
    "layer.CreateField(field_testfield)\n",
    "feature = ogr.Feature(layer.GetLayerDefn())\n",
    "feature.SetField(\"fld_a\",'test')\n",
    "feature.SetGeometry(lineogr)\n",
    "layer.CreateFeature(feature)\n",
    "feature = None\n",
    "ds = None\n",
    "\n",
    "\n",
    "\n",
    "import fiona\n",
    "import json\n",
    "# shapefile schema\n",
    "schema = {'geometry': 'LineString','properties': {'fld_a': 'str:50'}}\n",
    "with fiona.open('line2.shp', 'w', 'ESRI Shapefile', schema) as layer:\n",
    "      layer.write({'geometry': json.loads(line), 'properties': {'fld_a': 'test'}})\n",
    "\n",
    "schema = {'geometry': 'Point','properties': {'fld_a': 'str:50'}}\n",
    "with fiona.open('point.shp', 'w', 'ESRI Shapefile', schema) as layer:\n",
    "      layer.write({'geometry': json.loads(point), 'properties': {'fld_a': 'test'}})\n",
    "\n",
    "schema = {'geometry': 'Polygon','properties': {'fld_a': 'str:50'}}\n",
    "with fiona.open('polygon.shp', 'w', 'ESRI Shapefile', schema) as layer:\n",
    "      layer.write({'geometry': json.loads(poly), 'properties': {'fld_a': 'test'}})  \n"
   ]
  },
  {
   "cell_type": "code",
   "execution_count": 86,
   "metadata": {},
   "outputs": [
    {
     "ename": "AttributeError",
     "evalue": "'Reader' object has no attribute 'exterior'",
     "output_type": "error",
     "traceback": [
      "\u001b[0;31m---------------------------------------------------------------------------\u001b[0m",
      "\u001b[0;31mAttributeError\u001b[0m                            Traceback (most recent call last)",
      "\u001b[0;32m<ipython-input-86-51cb6944dec8>\u001b[0m in \u001b[0;36m<module>\u001b[0;34m\u001b[0m\n\u001b[0;32m----> 1\u001b[0;31m \u001b[0;32mfor\u001b[0m \u001b[0mi\u001b[0m \u001b[0;32min\u001b[0m \u001b[0mlist\u001b[0m\u001b[0;34m(\u001b[0m\u001b[0mpol\u001b[0m\u001b[0;34m.\u001b[0m\u001b[0mexterior\u001b[0m\u001b[0;34m.\u001b[0m\u001b[0mcoords\u001b[0m\u001b[0;34m)\u001b[0m\u001b[0;34m:\u001b[0m\u001b[0;34m\u001b[0m\u001b[0;34m\u001b[0m\u001b[0m\n\u001b[0m\u001b[1;32m      2\u001b[0m     \u001b[0mprint\u001b[0m\u001b[0;34m(\u001b[0m\u001b[0mPoint\u001b[0m\u001b[0;34m(\u001b[0m\u001b[0mi\u001b[0m\u001b[0;34m)\u001b[0m\u001b[0;34m)\u001b[0m\u001b[0;34m\u001b[0m\u001b[0;34m\u001b[0m\u001b[0m\n",
      "\u001b[0;31mAttributeError\u001b[0m: 'Reader' object has no attribute 'exterior'"
     ]
    }
   ],
   "source": [
    "\n",
    "for i in list(pol.exterior.coords):\n",
    "    print(Point(i))"
   ]
  },
  {
   "cell_type": "code",
   "execution_count": null,
   "metadata": {},
   "outputs": [],
   "source": []
  }
 ],
 "metadata": {
  "kernelspec": {
   "display_name": "Python 3",
   "language": "python",
   "name": "python3"
  },
  "language_info": {
   "codemirror_mode": {
    "name": "ipython",
    "version": 3
   },
   "file_extension": ".py",
   "mimetype": "text/x-python",
   "name": "python",
   "nbconvert_exporter": "python",
   "pygments_lexer": "ipython3",
   "version": "3.8.6"
  }
 },
 "nbformat": 4,
 "nbformat_minor": 4
}
